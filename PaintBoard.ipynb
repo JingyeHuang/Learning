{
 "cells": [
  {
   "cell_type": "code",
   "execution_count": 1,
   "metadata": {},
   "outputs": [],
   "source": [
    "from tkinter import *\n",
    "import time\n",
    "\n",
    "root = Tk()\n",
    "c='black'\n",
    "s=1\n",
    "w = Canvas(root, width=1000, height = 600,background = 'white')\n",
    "w.pack()\n",
    "\n",
    "def paint(event):\n",
    "    global s\n",
    "    x1,y1 = (event.x-s),(event.y-s)  #event.x就是当前鼠标点下去的坐标\n",
    "    x2,y2 = (event.x+s),(event.y+s)\n",
    "    global c\n",
    "    w.create_oval(x1,y1,x2,y2,fill=c, outline='')\n",
    "\n",
    "w.bind('<B1-Motion>',paint)\n",
    "\n",
    "def changeblack():\n",
    "    global c\n",
    "    c='black'\n",
    "\n",
    "def changered():\n",
    "    global c\n",
    "    c='red'\n",
    "\n",
    "def changeblue():\n",
    "    global c\n",
    "    c='blue'\n",
    "    \n",
    "def changeyellow():\n",
    "    global c\n",
    "    c='yellow'\n",
    "\n",
    "def changegreen():\n",
    "    global c\n",
    "    c='green'\n",
    "    \n",
    "def refreshline(event):\n",
    "    global s\n",
    "    s=s1.get()\n",
    "\n",
    "Button(root, text = 'Black', command = changeblack).pack(side = LEFT)\n",
    "Button(root, text = 'Red', command = changered).pack(side = LEFT)\n",
    "Button(root, text = 'Blue', command = changeblue).pack(side = LEFT)\n",
    "Button(root, text = 'Yellow', command = changeyellow).pack(side = LEFT)\n",
    "Button(root, text = 'Green', command = changegreen).pack(side = LEFT)\n",
    "s1 = Scale(root, from_=1, to=10,orient=HORIZONTAL, command=refreshline)\n",
    "s1.pack(side=RIGHT)\n",
    "Label(root,text='Line size').pack(side=RIGHT)\n",
    "Button(root, text = 'Clear' ,command = (lambda x=ALL:w.delete(x))).pack(side = BOTTOM)\n",
    "\n",
    "mainloop()"
   ]
  },
  {
   "cell_type": "code",
   "execution_count": null,
   "metadata": {
    "collapsed": true
   },
   "outputs": [],
   "source": []
  }
 ],
 "metadata": {
  "kernelspec": {
   "display_name": "Python 3",
   "language": "python",
   "name": "python3"
  },
  "language_info": {
   "codemirror_mode": {
    "name": "ipython",
    "version": 3
   },
   "file_extension": ".py",
   "mimetype": "text/x-python",
   "name": "python",
   "nbconvert_exporter": "python",
   "pygments_lexer": "ipython3",
   "version": "3.6.3"
  }
 },
 "nbformat": 4,
 "nbformat_minor": 2
}
