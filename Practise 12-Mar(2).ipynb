{
 "cells": [
  {
   "cell_type": "code",
   "execution_count": 1,
   "metadata": {},
   "outputs": [
    {
     "name": "stdout",
     "output_type": "stream",
     "text": [
      "-----Create new account:N//n-----\n",
      "-----Enter your account:E//e-----\n",
      "-----Exit the system :  Q/q -----\n",
      "Please input your selection.N\n",
      "Please create your login name: Jeremy\n",
      "Please input your password: 12345678\n",
      "Account created. Please use it to login\n",
      "-----Create new account:N//n-----\n",
      "-----Enter your account:E//e-----\n",
      "-----Exit the system :  Q/q -----\n",
      "Please input your selection.N\n",
      "Please create your login name: Allen\n",
      "Please input your password: 00000000\n",
      "Account created. Please use it to login\n",
      "-----Create new account:N//n-----\n",
      "-----Enter your account:E//e-----\n",
      "-----Exit the system :  Q/q -----\n",
      "Please input your selection.E\n",
      "Please input your login name: Daren\n",
      "User name do not exist.\n",
      "Please input your password again: Jeremy\n",
      "Please input your password: 1289035423\n",
      "Password wrong! Please input your password again: 12345678\n",
      "Congrations! Entering the system!!!\n"
     ]
    }
   ],
   "source": [
    "account = dict()\n",
    "\n",
    "while 1:\n",
    "    print('-----Create new account:N//n-----')\n",
    "    print('-----Enter your account:E//e-----')\n",
    "    print('-----Exit the system :  Q/q -----')\n",
    "    \n",
    "    choose = input('Please input your selection.')\n",
    "    \n",
    "    if choose == 'N' or choose == 'n':\n",
    "        name = input('Please create your login name: ')\n",
    "        while name in account:\n",
    "            print('This user has been registered.')\n",
    "            name = input('Please input another login name: ')\n",
    "        account[name] = input('Please input your password: ')\n",
    "        \n",
    "        print('Account created. Please use it to login')\n",
    "        \n",
    "    if choose == 'E' or choose == 'e':\n",
    "        log = input('Please input your login name: ')\n",
    "        while 1:\n",
    "            if log in account:\n",
    "                pwd = input('Please input your password: ')\n",
    "                while pwd != account[log]:\n",
    "                    pwd = input('Password wrong! Please input your password again: ')\n",
    "                print('Congrations! Entering the system!!!')\n",
    "                break\n",
    "            else:\n",
    "                print('User name do not exist.')\n",
    "                log = input('Please input your password again: ')\n",
    "                continue\n",
    "        break\n",
    "    \n",
    "    if choose == 'Q' or choose == 'q':\n",
    "        break"
   ]
  },
  {
   "cell_type": "code",
   "execution_count": 2,
   "metadata": {},
   "outputs": [
    {
     "ename": "TypeError",
     "evalue": "'set' object does not support indexing",
     "output_type": "error",
     "traceback": [
      "\u001b[1;31m---------------------------------------------------------------------------\u001b[0m",
      "\u001b[1;31mTypeError\u001b[0m                                 Traceback (most recent call last)",
      "\u001b[1;32m<ipython-input-2-affb588d28eb>\u001b[0m in \u001b[0;36m<module>\u001b[1;34m()\u001b[0m\n\u001b[0;32m      1\u001b[0m \u001b[0mnum_set\u001b[0m \u001b[1;33m=\u001b[0m \u001b[0mset\u001b[0m\u001b[1;33m(\u001b[0m\u001b[1;33m[\u001b[0m\u001b[1;36m1\u001b[0m\u001b[1;33m,\u001b[0m \u001b[1;36m2\u001b[0m\u001b[1;33m,\u001b[0m \u001b[1;36m3\u001b[0m\u001b[1;33m,\u001b[0m \u001b[1;36m4\u001b[0m\u001b[1;33m,\u001b[0m \u001b[1;36m5\u001b[0m\u001b[1;33m]\u001b[0m\u001b[1;33m)\u001b[0m\u001b[1;33m\u001b[0m\u001b[0m\n\u001b[1;32m----> 2\u001b[1;33m \u001b[0mnum_set\u001b[0m\u001b[1;33m[\u001b[0m\u001b[1;36m0\u001b[0m\u001b[1;33m]\u001b[0m\u001b[1;33m\u001b[0m\u001b[0m\n\u001b[0m",
      "\u001b[1;31mTypeError\u001b[0m: 'set' object does not support indexing"
     ]
    }
   ],
   "source": [
    "num_set = set([1, 2, 3, 4, 5])\n",
    "num_set[0]"
   ]
  },
  {
   "cell_type": "code",
   "execution_count": 3,
   "metadata": {
    "collapsed": true
   },
   "outputs": [],
   "source": [
    "set1 = {1,1.0}"
   ]
  },
  {
   "cell_type": "code",
   "execution_count": 4,
   "metadata": {},
   "outputs": [
    {
     "data": {
      "text/plain": [
       "{1}"
      ]
     },
     "execution_count": 4,
     "metadata": {},
     "output_type": "execute_result"
    }
   ],
   "source": [
    "set1"
   ]
  },
  {
   "cell_type": "code",
   "execution_count": 6,
   "metadata": {},
   "outputs": [
    {
     "data": {
      "text/plain": [
       "{1, 2}"
      ]
     },
     "execution_count": 6,
     "metadata": {},
     "output_type": "execute_result"
    }
   ],
   "source": [
    "set1.add(2)\n",
    "set1"
   ]
  },
  {
   "cell_type": "code",
   "execution_count": 8,
   "metadata": {},
   "outputs": [
    {
     "ename": "SyntaxError",
     "evalue": "invalid syntax (<ipython-input-8-debe4431e451>, line 1)",
     "output_type": "error",
     "traceback": [
      "\u001b[1;36m  File \u001b[1;32m\"<ipython-input-8-debe4431e451>\"\u001b[1;36m, line \u001b[1;32m1\u001b[0m\n\u001b[1;33m    set2 = set{[1,2]}\u001b[0m\n\u001b[1;37m              ^\u001b[0m\n\u001b[1;31mSyntaxError\u001b[0m\u001b[1;31m:\u001b[0m invalid syntax\n"
     ]
    }
   ],
   "source": [
    "set2 = set{[1,2]}"
   ]
  },
  {
   "cell_type": "code",
   "execution_count": 9,
   "metadata": {
    "collapsed": true
   },
   "outputs": [],
   "source": [
    "set3 = set([1,2])"
   ]
  },
  {
   "cell_type": "code",
   "execution_count": 10,
   "metadata": {},
   "outputs": [
    {
     "data": {
      "text/plain": [
       "{1, 2}"
      ]
     },
     "execution_count": 10,
     "metadata": {},
     "output_type": "execute_result"
    }
   ],
   "source": [
    "set3"
   ]
  },
  {
   "cell_type": "code",
   "execution_count": 12,
   "metadata": {},
   "outputs": [],
   "source": [
    "set4 = frozenset([1,2,3,4,5])"
   ]
  },
  {
   "cell_type": "code",
   "execution_count": 13,
   "metadata": {},
   "outputs": [
    {
     "ename": "AttributeError",
     "evalue": "'frozenset' object has no attribute 'add'",
     "output_type": "error",
     "traceback": [
      "\u001b[1;31m---------------------------------------------------------------------------\u001b[0m",
      "\u001b[1;31mAttributeError\u001b[0m                            Traceback (most recent call last)",
      "\u001b[1;32m<ipython-input-13-bede7e0f7ff6>\u001b[0m in \u001b[0;36m<module>\u001b[1;34m()\u001b[0m\n\u001b[1;32m----> 1\u001b[1;33m \u001b[0mset4\u001b[0m\u001b[1;33m.\u001b[0m\u001b[0madd\u001b[0m\u001b[1;33m(\u001b[0m\u001b[1;36m6\u001b[0m\u001b[1;33m)\u001b[0m\u001b[1;33m\u001b[0m\u001b[0m\n\u001b[0m",
      "\u001b[1;31mAttributeError\u001b[0m: 'frozenset' object has no attribute 'add'"
     ]
    }
   ],
   "source": [
    "set4.add(6)"
   ]
  },
  {
   "cell_type": "code",
   "execution_count": null,
   "metadata": {
    "collapsed": true
   },
   "outputs": [],
   "source": []
  }
 ],
 "metadata": {
  "kernelspec": {
   "display_name": "Python 3",
   "language": "python",
   "name": "python3"
  },
  "language_info": {
   "codemirror_mode": {
    "name": "ipython",
    "version": 3
   },
   "file_extension": ".py",
   "mimetype": "text/x-python",
   "name": "python",
   "nbconvert_exporter": "python",
   "pygments_lexer": "ipython3",
   "version": "3.6.3"
  }
 },
 "nbformat": 4,
 "nbformat_minor": 2
}
