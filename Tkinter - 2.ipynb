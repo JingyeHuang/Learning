{
 "cells": [
  {
   "cell_type": "code",
   "execution_count": 3,
   "metadata": {},
   "outputs": [
    {
     "name": "stdout",
     "output_type": "stream",
     "text": [
      "Hello everyone\n",
      "Hello everyone\n",
      "Hello everyone\n"
     ]
    }
   ],
   "source": [
    "import tkinter as tk\n",
    "\n",
    "class APP:\n",
    "    def __init__(self, master):\n",
    "        frame = tk.Frame(master)\n",
    "        master.title('Demo')\n",
    "        frame.pack(side = tk.LEFT, padx = 10, pady = 10)\n",
    "        \n",
    "        self.hi_there = tk.Button(frame, text = 'Say hi', fg = 'blue', bg = 'red', command = self.say_hi)\n",
    "        self.hi_there.pack()\n",
    "        \n",
    "    def say_hi(self):\n",
    "        print('Hello everyone')\n",
    "\n",
    "root = tk.Tk()\n",
    "app = APP(root)\n",
    "\n",
    "root.mainloop()"
   ]
  },
  {
   "cell_type": "code",
   "execution_count": 2,
   "metadata": {
    "collapsed": true
   },
   "outputs": [],
   "source": [
    "from tkinter import *\n",
    "\n",
    "root = Tk()\n",
    "textlabel = Label(root,text = 'Warning: Access Forbidden', justify = LEFT, padx = 10)\n",
    "textlabel.pack()\n",
    "\n",
    "photo = PhotoImage(file=\"18.gif\")\n",
    "imglabel = Label(root,image=photo)\n",
    "imglabel.pack()\n",
    "\n",
    "root.mainloop()"
   ]
  },
  {
   "cell_type": "code",
   "execution_count": 6,
   "metadata": {
    "collapsed": true
   },
   "outputs": [],
   "source": [
    "from tkinter import *\n",
    "\n",
    "root = Tk()\n",
    "\n",
    "photo = PhotoImage(file = 'bg.gif')\n",
    "theLabel = Label(root, text = 'Hello Everyone', justify = RIGHT, image = photo, compound = CENTER,\n",
    "                font = ('华康少女字体', 20), fg = 'white')\n",
    "theLabel.pack()\n",
    "\n",
    "root.mainloop()"
   ]
  },
  {
   "cell_type": "code",
   "execution_count": 10,
   "metadata": {
    "collapsed": true
   },
   "outputs": [],
   "source": [
    "from tkinter import *\n",
    "\n",
    "def callback():\n",
    "    var.set('Your access is denied')\n",
    "\n",
    "root = Tk()\n",
    "\n",
    "frame1 = Frame(root)\n",
    "frame2 = Frame(root)\n",
    "\n",
    "var = StringVar()\n",
    "var.set('Warning: Access Forbidden')\n",
    "textlabel = Label(frame1,textvariable = var, justify = LEFT)\n",
    "textlabel.pack(side=LEFT)\n",
    "\n",
    "photo = PhotoImage(file=\"18.gif\")\n",
    "imglabel = Label(root,image=photo)\n",
    "imglabel.pack(side=RIGHT)\n",
    "\n",
    "thebutton = Button(frame2,text = 'Enter',command = callback)\n",
    "thebutton.pack()\n",
    "\n",
    "frame1.pack(padx = 10,pady = 10)\n",
    "frame2.pack(padx = 10,pady = 10)\n",
    "\n",
    "root.mainloop()"
   ]
  },
  {
   "cell_type": "code",
   "execution_count": 2,
   "metadata": {
    "collapsed": true
   },
   "outputs": [],
   "source": [
    "from tkinter import *\n",
    "\n",
    "root = Tk()\n",
    "\n",
    "v = IntVar()\n",
    "\n",
    "c = Checkbutton(root,text = 'Test', variable = v)\n",
    "c.pack()\n",
    "\n",
    "l = Label(root,textvariable = v)\n",
    "l.pack()\n",
    "\n",
    "root.mainloop()"
   ]
  },
  {
   "cell_type": "code",
   "execution_count": 4,
   "metadata": {
    "collapsed": true
   },
   "outputs": [],
   "source": [
    "from tkinter import *\n",
    "\n",
    "root = Tk()\n",
    "\n",
    "Occupations = ['MT','DZ','MS','SM','FS','SQ','LR']\n",
    "\n",
    "v = []\n",
    "\n",
    "for each in Occupations:\n",
    "    v.append(IntVar())\n",
    "    \n",
    "    c = Checkbutton(root,text = each, variable = v[-1])\n",
    "    c.pack(anchor = W)\n",
    "\n",
    "root.mainloop()"
   ]
  },
  {
   "cell_type": "code",
   "execution_count": 1,
   "metadata": {
    "collapsed": true
   },
   "outputs": [],
   "source": [
    "from tkinter import *\n",
    "\n",
    "root = Tk()\n",
    "\n",
    "v = IntVar()\n",
    "\n",
    "Radiobutton(root,text = 'One', variable = v, value = 1).pack(anchor = W)\n",
    "Radiobutton(root,text = 'Two', variable = v, value = 2).pack(anchor = W)\n",
    "Radiobutton(root,text = 'Three', variable = v, value = 3).pack(anchor = W)\n",
    "#点中后,会把value的值赋给v，就可以核对哪个键被点中\n",
    "\n",
    "mainloop()"
   ]
  },
  {
   "cell_type": "code",
   "execution_count": 3,
   "metadata": {
    "collapsed": true
   },
   "outputs": [],
   "source": [
    "from tkinter import *\n",
    "\n",
    "root = Tk()\n",
    "\n",
    "LANGS = [('Python',1),('Perl',2),('Ruby',3),('Lua',4)]\n",
    "\n",
    "v = IntVar()\n",
    "v.set(1)\n",
    "\n",
    "for lang,num in LANGS:\n",
    "    b = Radiobutton(root,text = lang,variable = v, value = num, indicatoron = False).pack(anchor = W)\n",
    "\n",
    "mainloop()"
   ]
  },
  {
   "cell_type": "code",
   "execution_count": 5,
   "metadata": {
    "collapsed": true
   },
   "outputs": [],
   "source": [
    "from tkinter import *\n",
    "\n",
    "root = Tk()\n",
    "\n",
    "group = LabelFrame(root, text = 'Best language?', padx = 10, pady = 10)\n",
    "group.pack()\n",
    "\n",
    "LANGS = [('Python',1),('Perl',2),('Ruby',3),('Lua',4)]\n",
    "\n",
    "v = IntVar()\n",
    "\n",
    "for lang,num in LANGS:\n",
    "    b = Radiobutton(group,text = lang,variable = v, value = num, indicatoron = False).pack(padx = 5,pady = 5)\n",
    "\n",
    "mainloop()"
   ]
  },
  {
   "cell_type": "code",
   "execution_count": 3,
   "metadata": {},
   "outputs": [],
   "source": [
    "from tkinter import *\n",
    "\n",
    "root  = Tk()\n",
    "\n",
    "e = Entry(root)\n",
    "e.pack(padx = 20,pady = 20)\n",
    "\n",
    "e.delete(0,END)\n",
    "e.insert(0,'Default..')\n",
    "\n",
    "mainloop()"
   ]
  },
  {
   "cell_type": "code",
   "execution_count": 1,
   "metadata": {},
   "outputs": [
    {
     "name": "stdout",
     "output_type": "stream",
     "text": [
      "Author: Jeremy\n",
      "Work: <HAHA>\n"
     ]
    }
   ],
   "source": [
    "from tkinter import *\n",
    "\n",
    "root  = Tk()\n",
    "\n",
    "Label(root,text = 'Author:').grid(row=0,column=0)\n",
    "Label(root,text = 'Work:').grid(row=1,column=0)\n",
    "\n",
    "e1 = Entry(root)\n",
    "e2 = Entry(root)\n",
    "e1.grid(row=0,column=1,padx=5,pady=5)\n",
    "e2.grid(row=1,column=1,padx=5,pady=5)\n",
    "\n",
    "def retreive():\n",
    "    print('Author: %s' %e1.get())\n",
    "    print('Work: <%s>' %e2.get())\n",
    "\n",
    "Button(root,text = 'Retreive information', width=10, command=retreive)\\\n",
    ".grid(row=3,column=0,sticky=W, padx=10,pady=5)\n",
    "\n",
    "Button(root,text = 'Exit', width=10, command=root.quit)\\\n",
    ".grid(row=3,column=1,sticky=E, padx=10,pady=5)\n",
    "\n",
    "mainloop()"
   ]
  },
  {
   "cell_type": "code",
   "execution_count": 1,
   "metadata": {},
   "outputs": [
    {
     "name": "stdout",
     "output_type": "stream",
     "text": [
      "Account: haha\n",
      "Password: <hhhhhhh>\n"
     ]
    }
   ],
   "source": [
    "from tkinter import *\n",
    "\n",
    "root  = Tk()\n",
    "\n",
    "Label(root,text = 'Account:').grid(row=0,column=0)\n",
    "Label(root,text = 'Password:').grid(row=1,column=0)\n",
    "\n",
    "v1 = StringVar()\n",
    "v2 = StringVar()\n",
    "\n",
    "e1 = Entry(root, textvariable = v1)\n",
    "e2 = Entry(root, textvariable = v2, show = '*')\n",
    "e1.grid(row=0,column=1,padx=5,pady=5)\n",
    "e2.grid(row=1,column=1,padx=5,pady=5)\n",
    "\n",
    "def retreive():\n",
    "    print('Account: %s' %e1.get())\n",
    "    print('Password: %s' %e2.get())\n",
    "\n",
    "Button(root,text = 'Login', width=10, command=retreive)\\\n",
    ".grid(row=3,column=0,sticky=W, padx=10,pady=5)\n",
    "\n",
    "Button(root,text = 'Exit', width=10, command=root.quit)\\\n",
    ".grid(row=3,column=1,sticky=E, padx=10,pady=5)\n",
    "\n",
    "mainloop()"
   ]
  },
  {
   "cell_type": "code",
   "execution_count": 4,
   "metadata": {},
   "outputs": [
    {
     "name": "stdout",
     "output_type": "stream",
     "text": [
      "False!\n",
      "Input invalid content\n"
     ]
    }
   ],
   "source": [
    "from tkinter import *\n",
    "\n",
    "root  = Tk()\n",
    "\n",
    "def test():\n",
    "    if e1.get() == 'Jeremy':\n",
    "        print('Correct!')\n",
    "        return True\n",
    "    else:\n",
    "        print('False!')\n",
    "        return False\n",
    "    \n",
    "def test2():\n",
    "    print('Input invalid content')\n",
    "    return True\n",
    "\n",
    "v = StringVar()\n",
    "\n",
    "e1 = Entry(root, textvariable = v, validate = 'focusout', validatecommand = test, invalidcommand = test2)\n",
    "e2 = Entry(root)\n",
    "\n",
    "e1.pack(padx=5,pady=5)\n",
    "e2.pack(padx=5,pady=5)\n",
    "\n",
    "mainloop()"
   ]
  },
  {
   "cell_type": "code",
   "execution_count": 6,
   "metadata": {},
   "outputs": [
    {
     "name": "stdout",
     "output_type": "stream",
     "text": [
      "Correct!\n",
      "Jeremy focusout .!entry\n",
      "Correct!\n",
      "Jeremy focusout .!entry\n",
      "False!\n",
      "Haaa focusout .!entry\n"
     ]
    }
   ],
   "source": [
    "from tkinter import *\n",
    "\n",
    "master  = Tk()\n",
    "\n",
    "v = StringVar()\n",
    "\n",
    "def test(content, reason, name):\n",
    "    if content == 'Jeremy':\n",
    "        print('Correct!')\n",
    "        print(content,reason,name)\n",
    "        return True\n",
    "    else:\n",
    "        print('False!')\n",
    "        print(content,reason,name)\n",
    "        return False\n",
    "    \n",
    "testCMD = master.register(test)\n",
    "e1 = Entry(master,textvariable = v, validate='focusout',validatecommand=(testCMD,'%P','%v','%W'))\n",
    "e2 = Entry(master)\n",
    "e1.pack(padx=5,pady=5)\n",
    "e2.pack(padx=5,pady=5)\n",
    "\n",
    "mainloop()"
   ]
  },
  {
   "cell_type": "code",
   "execution_count": 4,
   "metadata": {},
   "outputs": [],
   "source": [
    "from tkinter import *\n",
    "\n",
    "master  = Tk()\n",
    "\n",
    "v1 = StringVar()\n",
    "v2 = StringVar()\n",
    "v3 = StringVar()\n",
    "\n",
    "def test(content):\n",
    "    return content.isdigit()\n",
    "\n",
    "def calc():\n",
    "    result = int(v1.get()) + int(v2.get())  #这里只能get v1,v2,v3的值，不能get e1,e2,e3\n",
    "    v3.set(result)\n",
    "\n",
    "testCMD = master.register(test)\n",
    "e1 = Entry(master,textvariable = v1, validate='key',validatecommand=(testCMD,'%P')).grid(row=0,column=0)\n",
    "Label(master,text = '+').grid(row=0,column=1)\n",
    "\n",
    "e2 = Entry(master,textvariable = v2, validate='key',validatecommand=(testCMD,'%P')).grid(row=0,column=2)\n",
    "Label(master,text = '=').grid(row=0,column=3)\n",
    "\n",
    "e3 = Entry(master,textvariable = v3, state = 'readonly').grid(row=0,column=4)\n",
    "\n",
    "Button(master,text = 'Caculate',command = calc).grid(row=1,column=2,pady =10)\n",
    "\n",
    "mainloop()"
   ]
  },
  {
   "cell_type": "code",
   "execution_count": null,
   "metadata": {
    "collapsed": true
   },
   "outputs": [],
   "source": []
  }
 ],
 "metadata": {
  "kernelspec": {
   "display_name": "Python 3",
   "language": "python",
   "name": "python3"
  },
  "language_info": {
   "codemirror_mode": {
    "name": "ipython",
    "version": 3
   },
   "file_extension": ".py",
   "mimetype": "text/x-python",
   "name": "python",
   "nbconvert_exporter": "python",
   "pygments_lexer": "ipython3",
   "version": "3.6.3"
  }
 },
 "nbformat": 4,
 "nbformat_minor": 2
}
