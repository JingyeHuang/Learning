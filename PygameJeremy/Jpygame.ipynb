{
 "cells": [
  {
   "cell_type": "code",
   "execution_count": 1,
   "metadata": {},
   "outputs": [
    {
     "ename": "NameError",
     "evalue": "name 'speed' is not defined",
     "output_type": "error",
     "traceback": [
      "\u001b[1;31m---------------------------------------------------------------------------\u001b[0m",
      "\u001b[1;31mNameError\u001b[0m                                 Traceback (most recent call last)",
      "\u001b[1;32m<ipython-input-1-a8bc05a94423>\u001b[0m in \u001b[0;36m<module>\u001b[1;34m()\u001b[0m\n\u001b[0;32m     35\u001b[0m             \u001b[0mspeed\u001b[0m \u001b[1;33m=\u001b[0m \u001b[1;33m[\u001b[0m\u001b[1;36m0\u001b[0m\u001b[1;33m,\u001b[0m\u001b[1;36m0\u001b[0m\u001b[1;33m]\u001b[0m\u001b[1;33m\u001b[0m\u001b[0m\n\u001b[0;32m     36\u001b[0m \u001b[1;33m\u001b[0m\u001b[0m\n\u001b[1;32m---> 37\u001b[1;33m         \u001b[0mposition\u001b[0m \u001b[1;33m=\u001b[0m \u001b[0mposition\u001b[0m\u001b[1;33m.\u001b[0m\u001b[0mmove\u001b[0m\u001b[1;33m(\u001b[0m\u001b[0mspeed\u001b[0m\u001b[1;33m)\u001b[0m\u001b[1;33m\u001b[0m\u001b[0m\n\u001b[0m\u001b[0;32m     38\u001b[0m \u001b[1;33m\u001b[0m\u001b[0m\n\u001b[0;32m     39\u001b[0m     \u001b[0mscreen\u001b[0m\u001b[1;33m.\u001b[0m\u001b[0mfill\u001b[0m\u001b[1;33m(\u001b[0m\u001b[1;33m[\u001b[0m\u001b[1;36m0\u001b[0m\u001b[1;33m,\u001b[0m\u001b[1;36m0\u001b[0m\u001b[1;33m,\u001b[0m\u001b[1;36m0\u001b[0m\u001b[1;33m]\u001b[0m\u001b[1;33m)\u001b[0m\u001b[1;33m\u001b[0m\u001b[0m\n",
      "\u001b[1;31mNameError\u001b[0m: name 'speed' is not defined"
     ]
    }
   ],
   "source": [
    "import pygame\n",
    "import sys\n",
    "from pygame.locals import *\n",
    "\n",
    "pygame.init()\n",
    "\n",
    "size = width, height = 800, 600\n",
    "speed = [0,0]\n",
    "fullscreen = False\n",
    "\n",
    "screen = pygame.display.set_mode(size) \n",
    "pygame.display.set_caption('Jgame')\n",
    "pika = pygame.image.load('pika.png')\n",
    "bg = pygame.image.load('bg.jpg')\n",
    "position = pika.get_rect()\n",
    "\n",
    "while True:\n",
    "    for event in pygame.event.get():\n",
    "        if event.type == pygame.QUIT:\n",
    "            sys.exit()\n",
    "            \n",
    "        if event.type == pygame.KEYDOWN:\n",
    "            if event.key == K_LEFT:\n",
    "                speed[0] = -10\n",
    "                \n",
    "            if event.key == K_RIGHT:\n",
    "                speed[0] = 10\n",
    "                \n",
    "            if event.key == K_UP:\n",
    "                speed[1] = -10\n",
    "                \n",
    "            if event.key == K_DOWN:\n",
    "                speed[1] = 10\n",
    "                \n",
    "        if event.type == pygame.KEYUP:\n",
    "            speed = [0,0]\n",
    "    \n",
    "    if (position.left < 0 and speed[0] < 0) or (position.right > width and speed[0] > 0):\n",
    "        speed[0] = 0\n",
    "    if (position.top < 0 and speed[1] < 0) or (position.bottom > height and speed[1] > 0):\n",
    "        speed[1] = 0\n",
    "    \n",
    "    position = position.move(speed)\n",
    "                \n",
    "    screen.fill([255,255,255])\n",
    "    #refresh image\n",
    "    screen.blit(bg, (0,0))\n",
    "    screen.blit(pika, position)\n",
    "    #refresh screen\n",
    "    pygame.display.flip()\n",
    "    #delay\n",
    "    pygame.time.delay(10)"
   ]
  },
  {
   "cell_type": "code",
   "execution_count": null,
   "metadata": {
    "collapsed": true
   },
   "outputs": [],
   "source": []
  }
 ],
 "metadata": {
  "kernelspec": {
   "display_name": "Python 3",
   "language": "python",
   "name": "python3"
  },
  "language_info": {
   "codemirror_mode": {
    "name": "ipython",
    "version": 3
   },
   "file_extension": ".py",
   "mimetype": "text/x-python",
   "name": "python",
   "nbconvert_exporter": "python",
   "pygments_lexer": "ipython3",
   "version": "3.6.3"
  }
 },
 "nbformat": 4,
 "nbformat_minor": 2
}
