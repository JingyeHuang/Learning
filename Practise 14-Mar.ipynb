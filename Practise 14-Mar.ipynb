{
 "cells": [
  {
   "cell_type": "code",
   "execution_count": 5,
   "metadata": {},
   "outputs": [],
   "source": [
    "import pickle\n",
    "\n",
    "def save_file(boy, girl, count):\n",
    "    file_name_boy = 'boy_' + str(count) + '.txt'\n",
    "    file_name_girl = 'girl_' + str(count) + '.txt'\n",
    "\n",
    "    boy_file = open(file_name_boy, 'wb') # 记得一定要加 b 吖\n",
    "    girl_file = open(file_name_girl, 'wb') # 记得一定要加 b 吖\n",
    "\n",
    "    pickle.dump(boy, boy_file)\n",
    "    pickle.dump(girl, girl_file)\n",
    "\n",
    "    boy_file.close()\n",
    "    girl_file.close()\n",
    "\n",
    "def split_file(file_name):\n",
    "    count = 1\n",
    "    boy = []\n",
    "    girl = []\n",
    "\n",
    "    f = open(file_name)\n",
    "\n",
    "    for each_line in f:\n",
    "        if each_line[:6] != '======':\n",
    "            (role, line_spoken) = each_line.split(':', 1)\n",
    "            if role == '小甲鱼':\n",
    "                boy.append(line_spoken)\n",
    "            if role == '小客服':\n",
    "                girl.append(line_spoken)\n",
    "        else:\n",
    "            save_file(boy, girl, count)\n",
    "\n",
    "            boy = []\n",
    "            girl = []\n",
    "            count += 1 \n",
    "\n",
    "    save_file(boy, girl, count)\n",
    "    f.close()\n",
    "\n",
    "split_file('record.txt')"
   ]
  },
  {
   "cell_type": "code",
   "execution_count": 8,
   "metadata": {},
   "outputs": [
    {
     "name": "stdout",
     "output_type": "stream",
     "text": [
      "['咦？？\\n', '。。。。。。\\n', '然后呢？\\n', '呃。。。。。。你真牛！\\n', '下次有人想调戏你我不阻止~\\n']\n"
     ]
    }
   ],
   "source": [
    "x = open('boy_1.txt','rb')\n",
    "a = pickle.load(x)\n",
    "print(a)"
   ]
  },
  {
   "cell_type": "code",
   "execution_count": null,
   "metadata": {
    "collapsed": true
   },
   "outputs": [],
   "source": []
  }
 ],
 "metadata": {
  "kernelspec": {
   "display_name": "Python 3",
   "language": "python",
   "name": "python3"
  },
  "language_info": {
   "codemirror_mode": {
    "name": "ipython",
    "version": 3
   },
   "file_extension": ".py",
   "mimetype": "text/x-python",
   "name": "python",
   "nbconvert_exporter": "python",
   "pygments_lexer": "ipython3",
   "version": "3.6.3"
  }
 },
 "nbformat": 4,
 "nbformat_minor": 2
}
