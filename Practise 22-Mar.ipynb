{
 "cells": [
  {
   "cell_type": "code",
   "execution_count": 1,
   "metadata": {},
   "outputs": [
    {
     "data": {
      "text/plain": [
       "3.4209890506969195e-06"
      ]
     },
     "execution_count": 1,
     "metadata": {},
     "output_type": "execute_result"
    }
   ],
   "source": [
    "import time\n",
    "time.perf_counter()"
   ]
  },
  {
   "cell_type": "code",
   "execution_count": 2,
   "metadata": {},
   "outputs": [
    {
     "data": {
      "text/plain": [
       "4.227627099999999"
      ]
     },
     "execution_count": 2,
     "metadata": {},
     "output_type": "execute_result"
    }
   ],
   "source": [
    "time.process_time()"
   ]
  },
  {
   "cell_type": "code",
   "execution_count": 13,
   "metadata": {},
   "outputs": [
    {
     "data": {
      "text/plain": [
       "time.struct_time(tm_year=2018, tm_mon=3, tm_mday=22, tm_hour=3, tm_min=34, tm_sec=48, tm_wday=3, tm_yday=81, tm_isdst=0)"
      ]
     },
     "execution_count": 13,
     "metadata": {},
     "output_type": "execute_result"
    }
   ],
   "source": [
    "t1 = time.gmtime()\n",
    "t1"
   ]
  },
  {
   "cell_type": "code",
   "execution_count": 16,
   "metadata": {},
   "outputs": [
    {
     "data": {
      "text/plain": [
       "0"
      ]
     },
     "execution_count": 16,
     "metadata": {},
     "output_type": "execute_result"
    }
   ],
   "source": [
    "t2 = time.gmtime()\n",
    "t3 = t1.tm_year - t2.tm_year\n",
    "t3"
   ]
  },
  {
   "cell_type": "code",
   "execution_count": 31,
   "metadata": {
    "collapsed": true
   },
   "outputs": [],
   "source": [
    "import time as t\n",
    "\n",
    "class MyTimer:\n",
    "    def __init__(self):\n",
    "        self.unit = ['年', '月', '天', '小时', '分钟', '秒']\n",
    "        self.borrow = [0, 12, 31, 24, 60, 60]\n",
    "        self.prompt = \"未开始计时！\"\n",
    "        self.lasted = []\n",
    "        self.begin = 0\n",
    "        self.end = 0\n",
    "    \n",
    "    def __str__(self):\n",
    "        return self.prompt\n",
    "\n",
    "    __repr__ = __str__\n",
    "\n",
    "    def __add__(self, other):\n",
    "        prompt = \"总共运行了\"\n",
    "        result = []\n",
    "        for index in range(6):\n",
    "            result.append(self.lasted[index] + other.lasted[index])\n",
    "            if result[index]:\n",
    "                prompt += (str(result[index]) + self.unit[index])\n",
    "        return prompt\n",
    "    \n",
    "    # 开始计时\n",
    "    def start(self):\n",
    "        self.begin = t.localtime()\n",
    "        self.prompt = \"提示：请先调用 stop() 停止计时！\"\n",
    "        print(\"计时开始...\")\n",
    "\n",
    "    # 停止计时\n",
    "    def stop(self):\n",
    "        if not self.begin:\n",
    "            print(\"提示：请先调用 start() 进行计时！\")\n",
    "        else:\n",
    "            self.end = t.localtime()\n",
    "            self._calc()\n",
    "            print(\"计时结束！\")\n",
    "\n",
    "    # 内部方法，计算运行时间\n",
    "    def _calc(self):\n",
    "        self.lasted = []\n",
    "        self.prompt = \"总共运行了\"\n",
    "        for index in range(6):\n",
    "            temp = self.end[index] - self.begin[index]\n",
    "\n",
    "            # 低位不够减，需向高位借位 \n",
    "            if temp < 0:\n",
    "                # 测试高位是否有得“借”，没得借的话向再高位借......\n",
    "                i = 1\n",
    "                while self.lasted[index-i] < 1:\n",
    "                    self.lasted[index-i] += self.borrow[index-i] - 1\n",
    "                    self.lasted[index-i-1] -= 1\n",
    "                    i += 1\n",
    "                \n",
    "                self.lasted.append(self.borrow[index] + temp)\n",
    "                self.lasted[index-1] -= 1\n",
    "            else:\n",
    "                self.lasted.append(temp)\n",
    "\n",
    "        # 由于高位随时会被借位，所以打印要放在最后\n",
    "        for index in range(6):\n",
    "            if self.lasted[index]:\n",
    "                self.prompt += str(self.lasted[index]) + self.unit[index]\n",
    "                \n",
    "        print(self.prompt)\n",
    "        \n",
    "        # 为下一轮计时初始化变量\n",
    "        self.begin = 0\n",
    "        self.end = 0"
   ]
  },
  {
   "cell_type": "code",
   "execution_count": 36,
   "metadata": {
    "collapsed": true
   },
   "outputs": [],
   "source": [
    "t1 = MyTimer()"
   ]
  },
  {
   "cell_type": "code",
   "execution_count": 37,
   "metadata": {},
   "outputs": [
    {
     "name": "stdout",
     "output_type": "stream",
     "text": [
      "计时开始...\n"
     ]
    }
   ],
   "source": [
    "t1.start()"
   ]
  },
  {
   "cell_type": "code",
   "execution_count": 38,
   "metadata": {},
   "outputs": [
    {
     "name": "stdout",
     "output_type": "stream",
     "text": [
      "总共运行了11秒\n",
      "计时结束！\n"
     ]
    }
   ],
   "source": [
    "t1.stop()"
   ]
  },
  {
   "cell_type": "code",
   "execution_count": 39,
   "metadata": {},
   "outputs": [
    {
     "data": {
      "text/plain": [
       "'总共运行了11秒'"
      ]
     },
     "execution_count": 39,
     "metadata": {},
     "output_type": "execute_result"
    }
   ],
   "source": [
    "t1.__str__()"
   ]
  },
  {
   "cell_type": "code",
   "execution_count": 40,
   "metadata": {
    "collapsed": true
   },
   "outputs": [],
   "source": [
    "def Mygenerator():\n",
    "    for i in range(1,10):\n",
    "        yield i"
   ]
  },
  {
   "cell_type": "code",
   "execution_count": 43,
   "metadata": {},
   "outputs": [
    {
     "name": "stdout",
     "output_type": "stream",
     "text": [
      "1\n",
      "2\n",
      "3\n",
      "4\n",
      "5\n",
      "6\n",
      "7\n",
      "8\n",
      "9\n"
     ]
    }
   ],
   "source": [
    "for value in Mygenerator():\n",
    "    print(value)"
   ]
  },
  {
   "cell_type": "code",
   "execution_count": 44,
   "metadata": {},
   "outputs": [
    {
     "data": {
      "text/plain": [
       "1"
      ]
     },
     "execution_count": 44,
     "metadata": {},
     "output_type": "execute_result"
    }
   ],
   "source": [
    "g1 = Mygenerator()\n",
    "next(g1)"
   ]
  },
  {
   "cell_type": "code",
   "execution_count": 45,
   "metadata": {},
   "outputs": [
    {
     "data": {
      "text/plain": [
       "2"
      ]
     },
     "execution_count": 45,
     "metadata": {},
     "output_type": "execute_result"
    }
   ],
   "source": [
    "next(g1)"
   ]
  },
  {
   "cell_type": "code",
   "execution_count": 6,
   "metadata": {
    "collapsed": true
   },
   "outputs": [],
   "source": [
    "def __setattr__(self, name, value):\n",
    "        self.name = value + 1"
   ]
  },
  {
   "cell_type": "markdown",
   "metadata": {},
   "source": [
    "# 这段代码试图在对象的属性发生赋值操作的时候，将实际的值 +1赋值给相应的属性。但这么写法是错误的，因为每当属性被赋值的时候， __setattr__() 会被调用，而里边的 self.name = value + 1 语句又会再次触发 __setattr__() 调用，导致无限递归。"
   ]
  },
  {
   "cell_type": "code",
   "execution_count": 46,
   "metadata": {},
   "outputs": [
    {
     "name": "stdout",
     "output_type": "stream",
     "text": [
      "2\n",
      "1\n"
     ]
    },
    {
     "ename": "AttributeError",
     "evalue": "'super' object has no attribute '__getattr__'",
     "output_type": "error",
     "traceback": [
      "\u001b[1;31m---------------------------------------------------------------------------\u001b[0m",
      "\u001b[1;31mAttributeError\u001b[0m                            Traceback (most recent call last)",
      "\u001b[1;32m<ipython-input-46-4efe91a35be9>\u001b[0m in \u001b[0;36m<module>\u001b[1;34m()\u001b[0m\n\u001b[0;32m     15\u001b[0m \u001b[1;33m\u001b[0m\u001b[0m\n\u001b[0;32m     16\u001b[0m \u001b[0mc\u001b[0m \u001b[1;33m=\u001b[0m \u001b[0mC\u001b[0m\u001b[1;33m(\u001b[0m\u001b[1;33m)\u001b[0m\u001b[1;33m\u001b[0m\u001b[0m\n\u001b[1;32m---> 17\u001b[1;33m \u001b[0mc\u001b[0m\u001b[1;33m.\u001b[0m\u001b[0mx\u001b[0m\u001b[1;33m\u001b[0m\u001b[0m\n\u001b[0m",
      "\u001b[1;32m<ipython-input-46-4efe91a35be9>\u001b[0m in \u001b[0;36m__getattr__\u001b[1;34m(self, name)\u001b[0m\n\u001b[0;32m      2\u001b[0m         \u001b[1;32mdef\u001b[0m \u001b[0m__getattr__\u001b[0m\u001b[1;33m(\u001b[0m\u001b[0mself\u001b[0m\u001b[1;33m,\u001b[0m \u001b[0mname\u001b[0m\u001b[1;33m)\u001b[0m\u001b[1;33m:\u001b[0m\u001b[1;33m\u001b[0m\u001b[0m\n\u001b[0;32m      3\u001b[0m                 \u001b[0mprint\u001b[0m\u001b[1;33m(\u001b[0m\u001b[1;36m1\u001b[0m\u001b[1;33m)\u001b[0m\u001b[1;33m\u001b[0m\u001b[0m\n\u001b[1;32m----> 4\u001b[1;33m                 \u001b[1;32mreturn\u001b[0m \u001b[0msuper\u001b[0m\u001b[1;33m(\u001b[0m\u001b[1;33m)\u001b[0m\u001b[1;33m.\u001b[0m\u001b[0m__getattr__\u001b[0m\u001b[1;33m(\u001b[0m\u001b[0mname\u001b[0m\u001b[1;33m)\u001b[0m\u001b[1;33m\u001b[0m\u001b[0m\n\u001b[0m\u001b[0;32m      5\u001b[0m         \u001b[1;32mdef\u001b[0m \u001b[0m__getattribute__\u001b[0m\u001b[1;33m(\u001b[0m\u001b[0mself\u001b[0m\u001b[1;33m,\u001b[0m \u001b[0mname\u001b[0m\u001b[1;33m)\u001b[0m\u001b[1;33m:\u001b[0m\u001b[1;33m\u001b[0m\u001b[0m\n\u001b[0;32m      6\u001b[0m                 \u001b[0mprint\u001b[0m\u001b[1;33m(\u001b[0m\u001b[1;36m2\u001b[0m\u001b[1;33m)\u001b[0m\u001b[1;33m\u001b[0m\u001b[0m\n",
      "\u001b[1;31mAttributeError\u001b[0m: 'super' object has no attribute '__getattr__'"
     ]
    }
   ],
   "source": [
    ">>> class C:\n",
    "        def __getattr__(self, name):\n",
    "                print(1)\n",
    "                return super().__getattr__(name)\n",
    "        def __getattribute__(self, name):\n",
    "                print(2)\n",
    "                return super().__getattribute__(name)\n",
    "        def __setattr__(self, name, value):\n",
    "                print(3)\n",
    "                super().__setattr__(name, value)\n",
    "        def __delattr__(self, name):\n",
    "                print(4)\n",
    "                super().__delattr__(name)\n",
    "\n",
    "                \n",
    ">>> c = C()\n",
    ">>> c.x"
   ]
  },
  {
   "cell_type": "markdown",
   "metadata": {},
   "source": [
    "# 为什么会如此显示呢？我们来分析下：首先 c.x 会先调用 __getattribute__() 魔法方法，打印 2；然后调用 super().__getattribute__()，找不到属性名 x，因此会紧接着调用 __getattr__() ，于是打印 1；但是你猜到了开头没猜到结局……当你希望最后以 super().__getattr__() 终了的时候，Python 竟然告诉你 AttributeError，super 对象木有 __getattr__ ！！"
   ]
  },
  {
   "cell_type": "code",
   "execution_count": 47,
   "metadata": {},
   "outputs": [
    {
     "name": "stdout",
     "output_type": "stream",
     "text": [
      "3\n"
     ]
    }
   ],
   "source": [
    ">>> class C:\n",
    "        def __getattr__(self, name):\n",
    "                print(1)\n",
    "        def __getattribute__(self, name):\n",
    "                print(2)\n",
    "        def __setattr__(self, name, value):\n",
    "                print(3)\n",
    "        def __delattr__(self, name):\n",
    "                print(4)\n",
    "\n",
    "                \n",
    ">>> c = C()\n",
    ">>> c.x = 1"
   ]
  },
  {
   "cell_type": "code",
   "execution_count": 48,
   "metadata": {},
   "outputs": [
    {
     "name": "stdout",
     "output_type": "stream",
     "text": [
      "2\n",
      "None\n"
     ]
    }
   ],
   "source": [
    "print(c.x)"
   ]
  },
  {
   "cell_type": "code",
   "execution_count": 1,
   "metadata": {
    "collapsed": true
   },
   "outputs": [],
   "source": [
    "class Pra:\n",
    "    def __getattribute__(self,name):\n",
    "        try:\n",
    "            return super().__getattribute__(name)\n",
    "        except:\n",
    "            print('This attribute do not exist.')"
   ]
  },
  {
   "cell_type": "code",
   "execution_count": 2,
   "metadata": {},
   "outputs": [],
   "source": [
    "huang1 = Pra()"
   ]
  },
  {
   "cell_type": "code",
   "execution_count": 3,
   "metadata": {},
   "outputs": [
    {
     "name": "stdout",
     "output_type": "stream",
     "text": [
      "This attribute do not exist.\n"
     ]
    }
   ],
   "source": [
    "huang1.x"
   ]
  },
  {
   "cell_type": "code",
   "execution_count": 4,
   "metadata": {
    "collapsed": true
   },
   "outputs": [],
   "source": [
    "huang1.y = 5"
   ]
  },
  {
   "cell_type": "code",
   "execution_count": 5,
   "metadata": {},
   "outputs": [
    {
     "data": {
      "text/plain": [
       "5"
      ]
     },
     "execution_count": 5,
     "metadata": {},
     "output_type": "execute_result"
    }
   ],
   "source": [
    "huang1.y"
   ]
  },
  {
   "cell_type": "code",
   "execution_count": 6,
   "metadata": {
    "collapsed": true
   },
   "outputs": [],
   "source": [
    "class Demo:\n",
    "    def __init__(self):\n",
    "        self._x = 'Jeremy'\n",
    "\n",
    "    def getx(self):\n",
    "        return self._x\n",
    "    def setx(self, value):\n",
    "        self._x = value\n",
    "    def delx(self):\n",
    "        del self._x\n",
    "    x = property(getx, setx, delx, \"I'm the 'x' property.\")"
   ]
  },
  {
   "cell_type": "code",
   "execution_count": 7,
   "metadata": {
    "collapsed": true
   },
   "outputs": [],
   "source": [
    "demo1 = Demo()"
   ]
  },
  {
   "cell_type": "code",
   "execution_count": 8,
   "metadata": {},
   "outputs": [
    {
     "data": {
      "text/plain": [
       "'Jeremy'"
      ]
     },
     "execution_count": 8,
     "metadata": {},
     "output_type": "execute_result"
    }
   ],
   "source": [
    "demo1.x"
   ]
  },
  {
   "cell_type": "code",
   "execution_count": 9,
   "metadata": {
    "collapsed": true
   },
   "outputs": [],
   "source": [
    "demo1.x = 'X-man'"
   ]
  },
  {
   "cell_type": "code",
   "execution_count": 10,
   "metadata": {},
   "outputs": [
    {
     "data": {
      "text/plain": [
       "'X-man'"
      ]
     },
     "execution_count": 10,
     "metadata": {},
     "output_type": "execute_result"
    }
   ],
   "source": [
    "demo1.x"
   ]
  },
  {
   "cell_type": "code",
   "execution_count": 10,
   "metadata": {},
   "outputs": [
    {
     "data": {
      "text/plain": [
       "5"
      ]
     },
     "execution_count": 10,
     "metadata": {},
     "output_type": "execute_result"
    }
   ],
   "source": [
    ">>> class Demo:\n",
    "        def __getattr__(self, name):\n",
    "                return '该属性不存在！'\n",
    "\n",
    "        \n",
    ">>> demo = Demo()\n",
    ">>> demo.x = 5\n",
    "demo.x"
   ]
  },
  {
   "cell_type": "code",
   "execution_count": 11,
   "metadata": {},
   "outputs": [
    {
     "data": {
      "text/plain": [
       "'该属性不存在！'"
      ]
     },
     "execution_count": 11,
     "metadata": {},
     "output_type": "execute_result"
    }
   ],
   "source": [
    "demo.t"
   ]
  },
  {
   "cell_type": "code",
   "execution_count": 1,
   "metadata": {
    "collapsed": true
   },
   "outputs": [],
   "source": [
    "class Counter:\n",
    "        def __init__(self):\n",
    "                super().__setattr__('counter', 0)\n",
    "        def __setattr__(self, name, value):\n",
    "                super().__setattr__('counter', self.counter + 1)\n",
    "                super().__setattr__(name, value)\n",
    "        def __delattr__(self, name):\n",
    "                super().__setattr__('counter', self.counter - 1)\n",
    "                super().__delattr__(name)"
   ]
  },
  {
   "cell_type": "code",
   "execution_count": 2,
   "metadata": {},
   "outputs": [],
   "source": [
    "c = Counter()"
   ]
  },
  {
   "cell_type": "code",
   "execution_count": 3,
   "metadata": {},
   "outputs": [
    {
     "data": {
      "text/plain": [
       "0"
      ]
     },
     "execution_count": 3,
     "metadata": {},
     "output_type": "execute_result"
    }
   ],
   "source": [
    "c.counter"
   ]
  },
  {
   "cell_type": "code",
   "execution_count": 4,
   "metadata": {},
   "outputs": [],
   "source": [
    "c.x = 1"
   ]
  },
  {
   "cell_type": "code",
   "execution_count": 5,
   "metadata": {},
   "outputs": [
    {
     "data": {
      "text/plain": [
       "1"
      ]
     },
     "execution_count": 5,
     "metadata": {},
     "output_type": "execute_result"
    }
   ],
   "source": [
    "c.counter"
   ]
  },
  {
   "cell_type": "code",
   "execution_count": 7,
   "metadata": {
    "collapsed": true
   },
   "outputs": [],
   "source": [
    "class Counter:\n",
    "        def __init__(self):\n",
    "                self.counter = 0 # 这里会触发 __setattr__ 调用\n",
    "        def __setattr__(self, name, value):\n",
    "                self.counter += 1\n",
    "  #既然需要 __setattr__ 调用后才能真正设置 self.counter 的值，所以这时候 self.counter 还没有定义，所以没法 += 1，错误的根源。\n",
    "                super().__setattr__(name, value)\n",
    "        def __delattr__(self, name):\n",
    "                self.counter -= 1\n",
    "                super().__delattr__(name)"
   ]
  },
  {
   "cell_type": "code",
   "execution_count": null,
   "metadata": {
    "collapsed": true
   },
   "outputs": [],
   "source": []
  }
 ],
 "metadata": {
  "kernelspec": {
   "display_name": "Python 3",
   "language": "python",
   "name": "python3"
  },
  "language_info": {
   "codemirror_mode": {
    "name": "ipython",
    "version": 3
   },
   "file_extension": ".py",
   "mimetype": "text/x-python",
   "name": "python",
   "nbconvert_exporter": "python",
   "pygments_lexer": "ipython3",
   "version": "3.6.3"
  }
 },
 "nbformat": 4,
 "nbformat_minor": 2
}
