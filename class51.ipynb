{
 "cells": [
  {
   "cell_type": "code",
   "execution_count": 2,
   "metadata": {},
   "outputs": [
    {
     "name": "stdout",
     "output_type": "stream",
     "text": [
      "Test: 0摄氏度 = 32.00 华氏度\n"
     ]
    }
   ],
   "source": [
    "def c2f(cel):\n",
    "    fah = cel*1.8 +32\n",
    "    return fah\n",
    "\n",
    "def f2c(fah):\n",
    "    cel = (fah-32)/1.8\n",
    "    return cel\n",
    "\n",
    "def test():\n",
    "    print('Test: 0摄氏度 = %.2f 华氏度' % c2f(0) )\n",
    "    \n",
    "test()"
   ]
  },
  {
   "cell_type": "code",
   "execution_count": 1,
   "metadata": {},
   "outputs": [
    {
     "name": "stdout",
     "output_type": "stream",
     "text": [
      "Test: 0摄氏度 = 32.00 华氏度\n",
      "100华氏度 = 37.78 摄氏度\n"
     ]
    }
   ],
   "source": [
    "import TemperatureConvertor as t\n",
    "print('100华氏度 = %.2f 摄氏度' % t.f2c(100))"
   ]
  },
  {
   "cell_type": "markdown",
   "metadata": {},
   "source": [
    "# 调用TemperatureConvertor，程序就会把TemperatureConvertor里面的test()运行了"
   ]
  },
  {
   "cell_type": "code",
   "execution_count": 2,
   "metadata": {},
   "outputs": [
    {
     "data": {
      "text/plain": [
       "'__main__'"
      ]
     },
     "execution_count": 2,
     "metadata": {},
     "output_type": "execute_result"
    }
   ],
   "source": [
    "__name__"
   ]
  },
  {
   "cell_type": "code",
   "execution_count": 3,
   "metadata": {},
   "outputs": [
    {
     "data": {
      "text/plain": [
       "'TemperatureConvertor'"
      ]
     },
     "execution_count": 3,
     "metadata": {},
     "output_type": "execute_result"
    }
   ],
   "source": [
    "t.__name__"
   ]
  },
  {
   "cell_type": "markdown",
   "metadata": {},
   "source": [
    "# 这时，如果在TemperatureConvertor.py里修改：\n",
    "* if \\__name\\__ == \"\\__main\\__\":\n",
    "*      test()\n",
    "# 可避免这种情况"
   ]
  },
  {
   "cell_type": "code",
   "execution_count": 1,
   "metadata": {},
   "outputs": [
    {
     "name": "stdout",
     "output_type": "stream",
     "text": [
      "100华氏度 = 37.78 摄氏度\n"
     ]
    }
   ],
   "source": [
    "import TemperatureConvertor as t\n",
    "print('100华氏度 = %.2f 摄氏度' % t.f2c(100))"
   ]
  },
  {
   "cell_type": "code",
   "execution_count": 2,
   "metadata": {},
   "outputs": [
    {
     "data": {
      "text/plain": [
       "['',\n",
       " 'F:\\\\Python\\\\Anaconda\\\\python36.zip',\n",
       " 'F:\\\\Python\\\\Anaconda\\\\DLLs',\n",
       " 'F:\\\\Python\\\\Anaconda\\\\lib',\n",
       " 'F:\\\\Python\\\\Anaconda',\n",
       " 'F:\\\\Python\\\\Anaconda\\\\lib\\\\site-packages',\n",
       " 'F:\\\\Python\\\\Anaconda\\\\lib\\\\site-packages\\\\Babel-2.5.0-py3.6.egg',\n",
       " 'F:\\\\Python\\\\Anaconda\\\\lib\\\\site-packages\\\\win32',\n",
       " 'F:\\\\Python\\\\Anaconda\\\\lib\\\\site-packages\\\\win32\\\\lib',\n",
       " 'F:\\\\Python\\\\Anaconda\\\\lib\\\\site-packages\\\\Pythonwin',\n",
       " 'F:\\\\Python\\\\Anaconda\\\\lib\\\\site-packages\\\\IPython\\\\extensions',\n",
       " 'C:\\\\Users\\\\Huang\\\\.ipython']"
      ]
     },
     "execution_count": 2,
     "metadata": {},
     "output_type": "execute_result"
    }
   ],
   "source": [
    "import sys\n",
    "sys.path"
   ]
  },
  {
   "cell_type": "markdown",
   "metadata": {},
   "source": [
    "# 用sys.path.append()加入模块搜索路径"
   ]
  },
  {
   "cell_type": "code",
   "execution_count": 4,
   "metadata": {},
   "outputs": [
    {
     "data": {
      "text/plain": [
       "-1.1111111111111112"
      ]
     },
     "execution_count": 4,
     "metadata": {},
     "output_type": "execute_result"
    }
   ],
   "source": [
    "import Mypackage.TemperatureConvertor as tc\n",
    "tc.f2c(30)"
   ]
  },
  {
   "cell_type": "code",
   "execution_count": null,
   "metadata": {
    "collapsed": true
   },
   "outputs": [],
   "source": []
  }
 ],
 "metadata": {
  "kernelspec": {
   "display_name": "Python 3",
   "language": "python",
   "name": "python3"
  },
  "language_info": {
   "codemirror_mode": {
    "name": "ipython",
    "version": 3
   },
   "file_extension": ".py",
   "mimetype": "text/x-python",
   "name": "python",
   "nbconvert_exporter": "python",
   "pygments_lexer": "ipython3",
   "version": "3.6.3"
  }
 },
 "nbformat": 4,
 "nbformat_minor": 2
}
