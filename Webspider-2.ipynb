{
 "cells": [
  {
   "cell_type": "code",
   "execution_count": 1,
   "metadata": {
    "collapsed": true
   },
   "outputs": [],
   "source": [
    "import urllib.request as u\n",
    "response = u.urlopen('http://placekitten.com/g/500/500')\n",
    "cat_img = response.read()\n",
    "\n",
    "with open('cat_500_500.jpg','wb') as f:\n",
    "    f.write(cat_img)"
   ]
  },
  {
   "cell_type": "code",
   "execution_count": 2,
   "metadata": {},
   "outputs": [
    {
     "data": {
      "text/plain": [
       "'http://placekitten.com/g/500/500'"
      ]
     },
     "execution_count": 2,
     "metadata": {},
     "output_type": "execute_result"
    }
   ],
   "source": [
    "response.geturl()"
   ]
  },
  {
   "cell_type": "code",
   "execution_count": 4,
   "metadata": {},
   "outputs": [
    {
     "name": "stdout",
     "output_type": "stream",
     "text": [
      "Date: Mon, 26 Mar 2018 12:48:32 GMT\n",
      "Content-Type: image/jpeg\n",
      "Content-Length: 20757\n",
      "Connection: close\n",
      "Set-Cookie: __cfduid=d4cb32ff53d030a2657ddf94e21c698221522068512; expires=Tue, 26-Mar-19 12:48:32 GMT; path=/; domain=.placekitten.com; HttpOnly\n",
      "Accept-Ranges: bytes\n",
      "X-Powered-By: PleskLin\n",
      "Access-Control-Allow-Origin: *\n",
      "Cache-Control: public\n",
      "Expires: Thu, 31 Dec 2020 20:00:00 GMT\n",
      "Server: cloudflare\n",
      "CF-RAY: 4019bb6c2348338b-HKG\n",
      "\n",
      "\n"
     ]
    }
   ],
   "source": [
    "print(response.info())"
   ]
  },
  {
   "cell_type": "code",
   "execution_count": 5,
   "metadata": {},
   "outputs": [
    {
     "data": {
      "text/plain": [
       "200"
      ]
     },
     "execution_count": 5,
     "metadata": {},
     "output_type": "execute_result"
    }
   ],
   "source": [
    "response.getcode()"
   ]
  },
  {
   "cell_type": "code",
   "execution_count": 1,
   "metadata": {},
   "outputs": [],
   "source": [
    "import easygui as g\n",
    "import urllib.request as u\n",
    "\n",
    "title = 'Download a Cat!'\n",
    "msg = 'Please input the size of your cat.'\n",
    "fields = ['Length','Width']\n",
    "img_value = g.multenterbox(msg,title,fields)\n",
    "\n",
    "file_addrs = g.diropenbox(msg = 'Save img in', title = 'Save Cat img.')\n",
    "file_name = file_addrs + '\\\\cat_' + img_value[0] + '_' + img_value[1] + '.jpg'\n",
    "\n",
    "web_addrs = 'http://placekitten.com/g/' + img_value[0] + '/' + img_value[1]\n",
    "response = u.urlopen(web_addrs)\n",
    "cat_img = response.read()\n",
    "\n",
    "with open(file_name,'wb') as f:\n",
    "    f.write(cat_img)"
   ]
  },
  {
   "cell_type": "code",
   "execution_count": null,
   "metadata": {
    "collapsed": true
   },
   "outputs": [],
   "source": []
  }
 ],
 "metadata": {
  "kernelspec": {
   "display_name": "Python 3",
   "language": "python",
   "name": "python3"
  },
  "language_info": {
   "codemirror_mode": {
    "name": "ipython",
    "version": 3
   },
   "file_extension": ".py",
   "mimetype": "text/x-python",
   "name": "python",
   "nbconvert_exporter": "python",
   "pygments_lexer": "ipython3",
   "version": "3.6.3"
  }
 },
 "nbformat": 4,
 "nbformat_minor": 2
}
