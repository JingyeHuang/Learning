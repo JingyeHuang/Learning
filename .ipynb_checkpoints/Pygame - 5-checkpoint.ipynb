{
 "cells": [
  {
   "cell_type": "code",
   "execution_count": 1,
   "metadata": {},
   "outputs": [
    {
     "ename": "NameError",
     "evalue": "name 'oturtle_rect' is not defined",
     "output_type": "error",
     "traceback": [
      "\u001b[1;31m---------------------------------------------------------------------------\u001b[0m",
      "\u001b[1;31mNameError\u001b[0m                                 Traceback (most recent call last)",
      "\u001b[1;32m<ipython-input-1-95dd018d1548>\u001b[0m in \u001b[0;36m<module>\u001b[1;34m()\u001b[0m\n\u001b[0;32m     18\u001b[0m \u001b[1;31m# Retreive image rect\u001b[0m\u001b[1;33m\u001b[0m\u001b[1;33m\u001b[0m\u001b[0m\n\u001b[0;32m     19\u001b[0m \u001b[0mturtle_rect\u001b[0m \u001b[1;33m=\u001b[0m \u001b[0moturtle\u001b[0m\u001b[1;33m.\u001b[0m\u001b[0mget_rect\u001b[0m\u001b[1;33m(\u001b[0m\u001b[1;33m)\u001b[0m\u001b[1;33m\u001b[0m\u001b[0m\n\u001b[1;32m---> 20\u001b[1;33m \u001b[0mposition\u001b[0m \u001b[1;33m=\u001b[0m \u001b[0mturtle_rect\u001b[0m \u001b[1;33m=\u001b[0m \u001b[0moturtle_rect\u001b[0m\u001b[1;33m\u001b[0m\u001b[0m\n\u001b[0m\u001b[0;32m     21\u001b[0m \u001b[0mprint\u001b[0m\u001b[1;33m(\u001b[0m\u001b[0mposition\u001b[0m\u001b[1;33m)\u001b[0m\u001b[1;33m\u001b[0m\u001b[0m\n\u001b[0;32m     22\u001b[0m \u001b[1;33m\u001b[0m\u001b[0m\n",
      "\u001b[1;31mNameError\u001b[0m: name 'oturtle_rect' is not defined"
     ]
    }
   ],
   "source": [
    "import pygame\n",
    "import sys\n",
    "from pygame.locals import *\n",
    "\n",
    "pygame.init()\n",
    "\n",
    "size = width,height = 600,400\n",
    "speed = [5,0]\n",
    "bg = (255,255,255) #RGB\n",
    "\n",
    "screen = pygame.display.set_mode(size)\n",
    "pygame.display.set_caption('First pygame')\n",
    "turtle = pygame.image.load('turtle.png')\n",
    "position = turtle.get_rect()\n",
    "turtle_right = pygame.transform.rotate(turtle, 90)\n",
    "turtle_top = pygame.transform.rotate(turtle, 180)\n",
    "turtle_left = pygame.transform.rotate(turtle, 270)\n",
    "turtle_bottom = turtle\n",
    "\n",
    "left_head = turtle\n",
    "right_head = turtle = pygame.transform.flip(turtle,True,False) #horizontal = True, vertical = False\n",
    "\n",
    "turtle = turtle_top\n",
    "\n",
    "while True:\n",
    "    for event in pygame.event.get():\n",
    "        if event.type == pygame.QUIT:\n",
    "            sys.exit()\n",
    "            \n",
    "        if event.type == pygame.KEYDOWN:\n",
    "            if event.key == K_LEFT:\n",
    "                turtle = left_head\n",
    "                speed = [-5,0]\n",
    "                \n",
    "            if event.key == K_RIGHT:\n",
    "                turtle = right_head\n",
    "                speed = [5,0]\n",
    "                \n",
    "            if event.key == K_UP:\n",
    "                speed = [0,-5]\n",
    "                \n",
    "            if event.key == K_DOWN:\n",
    "                speed = [0,5]\n",
    "            \n",
    "    position = position.move(speed)\n",
    "    \n",
    "    if position.right > width:\n",
    "        turtle = turtle_right\n",
    "        position = turtle_rect = turtle.get_rect()      #重新得到turtle的矩形\n",
    "        position.left = width - turtle_rect.width       #把position的left赋值到最右边\n",
    "        speed = [0,5]\n",
    "    \n",
    "    if position.bottom > height:\n",
    "        turtle = turtle_bottom\n",
    "        position = turtle_rect = turtle.get_rect()\n",
    "        position.left = width - turtle_rect.width\n",
    "        position.top = height - turtle_rect.height\n",
    "        speed = [-5,0]\n",
    "    \n",
    "    if position.left < 0:\n",
    "        turtle = turtle_left\n",
    "        position = turtle_rect = turtle.get_rect()\n",
    "        position.top = height - turtle_rect.height\n",
    "        speed = [0,-5]\n",
    "        \n",
    "    if position.top < 0:\n",
    "        turtle = turtle_top\n",
    "        position = turtle_rect = turtle.get_rect()\n",
    "        speed = [5,0]\n",
    "        \n",
    "    screen.fill(bg)\n",
    "    #refresh image\n",
    "    screen.blit(turtle, position)\n",
    "    #refresh screen\n",
    "    pygame.display.flip()\n",
    "    #delay\n",
    "    pygame.time.delay(10)"
   ]
  },
  {
   "cell_type": "code",
   "execution_count": null,
   "metadata": {
    "collapsed": true
   },
   "outputs": [],
   "source": []
  }
 ],
 "metadata": {
  "kernelspec": {
   "display_name": "Python 3",
   "language": "python",
   "name": "python3"
  },
  "language_info": {
   "codemirror_mode": {
    "name": "ipython",
    "version": 3
   },
   "file_extension": ".py",
   "mimetype": "text/x-python",
   "name": "python",
   "nbconvert_exporter": "python",
   "pygments_lexer": "ipython3",
   "version": "3.6.3"
  }
 },
 "nbformat": 4,
 "nbformat_minor": 2
}
