{
 "cells": [
  {
   "cell_type": "code",
   "execution_count": 3,
   "metadata": {
    "collapsed": true
   },
   "outputs": [],
   "source": [
    "from tkinter import *\n",
    "\n",
    "root = Tk()\n",
    "\n",
    "w = Canvas(root, width=200, height = 130,background = 'white')\n",
    "w.pack()\n",
    "\n",
    "w.create_line(0,50, 200,50, fill = 'yellow') #from0.50 to 200.50\n",
    "w.create_line(100,0, 100,100, fill = 'red', dash=(4,4))\n",
    "w.create_rectangle(50,25, 150,75, fill = 'blue')\n",
    "\n",
    "mainloop()"
   ]
  },
  {
   "cell_type": "code",
   "execution_count": 5,
   "metadata": {
    "collapsed": true
   },
   "outputs": [],
   "source": [
    "from tkinter import *\n",
    "\n",
    "root = Tk()\n",
    "\n",
    "w = Canvas(root, width=200, height = 130,background = 'white')\n",
    "w.pack()\n",
    "\n",
    "line1 = w.create_line(0,50, 200,50, fill = 'yellow') #from0.50 to 200.50\n",
    "line2 = w.create_line(100,0, 100,100, fill = 'red', dash=(4,4))\n",
    "rect1 = w.create_rectangle(50,25, 150,75, fill = 'blue')\n",
    "\n",
    "w.coords(line1, 0,25, 200,25)   #move line1 to 0.25-200.25\n",
    "w.itemconfig(rect1, fill = 'purple')\n",
    "w.delete(line2)\n",
    "\n",
    "Button(root,text='Delete all items',command = (lambda x=ALL:w.delete(x))).pack()\n",
    "\n",
    "mainloop()"
   ]
  },
  {
   "cell_type": "code",
   "execution_count": 1,
   "metadata": {
    "collapsed": true
   },
   "outputs": [],
   "source": [
    "from tkinter import *\n",
    "\n",
    "root = Tk()\n",
    "\n",
    "w = Canvas(root, width=200, height = 100,background = 'white')\n",
    "w.pack()\n",
    "\n",
    "w.create_line(0,0, 200,100, fill = 'red',width=3) #from0.50 to 200.50\n",
    "w.create_line(200,0, 0,100, fill = 'red', width=3)\n",
    "w.create_rectangle(40,20, 160,80, fill = 'blue')\n",
    "w.create_rectangle(65,35, 135,65, fill = 'yellow')\n",
    "\n",
    "w.create_text(100,50, text='Hello')\n",
    "\n",
    "mainloop()"
   ]
  },
  {
   "cell_type": "code",
   "execution_count": 8,
   "metadata": {
    "collapsed": true
   },
   "outputs": [],
   "source": [
    "from tkinter import *\n",
    "\n",
    "root = Tk()\n",
    "\n",
    "w = Canvas(root, width=200, height = 100,background = 'white')\n",
    "w.pack()\n",
    "\n",
    "w.create_rectangle(40,20, 160,80, dash=(4,4))\n",
    "w.create_oval(40,20, 160,80, fill='pink')\n",
    "w.create_text(100,50, text='Hello')\n",
    "\n",
    "mainloop()"
   ]
  },
  {
   "cell_type": "code",
   "execution_count": 2,
   "metadata": {
    "collapsed": true
   },
   "outputs": [],
   "source": [
    "from tkinter import *\n",
    "import math as m\n",
    "\n",
    "root = Tk()\n",
    "\n",
    "w = Canvas(root, width=200, height = 100,background = 'white')\n",
    "w.pack()\n",
    "\n",
    "center_x = 100\n",
    "center_y = 50\n",
    "r = 50\n",
    "\n",
    "points = [\n",
    "    #左上点\n",
    "    center_x - int(r*m.sin(2*m.pi/5)),\n",
    "    center_y - int(r*m.cos(2*m.pi/5)),\n",
    "    #右上点\n",
    "    center_x + int(r*m.sin(2*m.pi/5)),\n",
    "    center_y - int(r*m.cos(2*m.pi/5)),\n",
    "    #左下\n",
    "    center_x - int(r*m.sin(2*m.pi/10)),\n",
    "    center_y + int(r*m.cos(2*m.pi/10)),\n",
    "    #顶点\n",
    "    center_x,\n",
    "    center_y - r,\n",
    "    #右下\n",
    "    center_x + int(r*m.sin(2*m.pi/10)),\n",
    "    center_y + int(r*m.cos(2*m.pi/10))\n",
    "    ]\n",
    "\n",
    "w.create_polygon(points, outline='red',fill='yellow')\n",
    "\n",
    "mainloop()"
   ]
  },
  {
   "cell_type": "code",
   "execution_count": 15,
   "metadata": {
    "collapsed": true
   },
   "outputs": [],
   "source": [
    "from tkinter import *\n",
    "\n",
    "root = Tk()\n",
    "\n",
    "w = Canvas(root, width=400, height = 200,background = 'white')\n",
    "w.pack()\n",
    "\n",
    "def paint(event):\n",
    "    x1,y1 = (event.x-1),(event.y-1)  #event.x就是当前鼠标点下去的坐标\n",
    "    x2,y2 = (event.x+1),(event.y+1)\n",
    "    w.create_oval(x1,y1,x2,y2,fill='red')\n",
    "\n",
    "w.bind('<B1-Motion>',paint)\n",
    "\n",
    "Button(root, text = 'Clear' ,command = (lambda x=ALL:w.delete(x))).pack(side = BOTTOM)\n",
    "\n",
    "mainloop()"
   ]
  },
  {
   "cell_type": "code",
   "execution_count": 7,
   "metadata": {
    "collapsed": true
   },
   "outputs": [],
   "source": [
    "from tkinter import *\n",
    "from random import *\n",
    "\n",
    "root=Tk()\n",
    "col=10\n",
    "row=10\n",
    "num=[randint(0,9) for i in range(col*row)]\n",
    "st=\"\"\n",
    "\n",
    "for k in range(0,col*row,col):\n",
    "    st=st + ('  '.join(str(e) for e in num[k:k+col])) + '\\n'\n",
    "\n",
    "theLabel= Label(root,text=st)\n",
    "theLabel.pack()\n",
    "\n",
    "def ch():\n",
    "    st1=\"\"\n",
    "    num1=[randint(0,9) for i in range(col*row)]\n",
    "    for k in range(0,col*row,col):\n",
    "        st1=st1 + ('  '.join(str(e) for e in num1[k:k+col])) + '\\n'\n",
    "    theLabel.config(text=st1)\n",
    "    theLabel.pack()\n",
    "    root.after(1000,ch)\n",
    "\n",
    "root.after(1000,ch)\n",
    "root.mainloop()"
   ]
  },
  {
   "cell_type": "code",
   "execution_count": null,
   "metadata": {
    "collapsed": true
   },
   "outputs": [],
   "source": []
  }
 ],
 "metadata": {
  "kernelspec": {
   "display_name": "Python 3",
   "language": "python",
   "name": "python3"
  },
  "language_info": {
   "codemirror_mode": {
    "name": "ipython",
    "version": 3
   },
   "file_extension": ".py",
   "mimetype": "text/x-python",
   "name": "python",
   "nbconvert_exporter": "python",
   "pygments_lexer": "ipython3",
   "version": "3.6.3"
  }
 },
 "nbformat": 4,
 "nbformat_minor": 2
}
