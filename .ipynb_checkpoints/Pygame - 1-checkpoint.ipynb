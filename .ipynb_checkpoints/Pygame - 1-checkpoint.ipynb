{
 "cells": [
  {
   "cell_type": "code",
   "execution_count": 1,
   "metadata": {
    "collapsed": true
   },
   "outputs": [],
   "source": [
    "import pygame"
   ]
  },
  {
   "cell_type": "code",
   "execution_count": 3,
   "metadata": {},
   "outputs": [
    {
     "data": {
      "text/plain": [
       "'1.9.3'"
      ]
     },
     "execution_count": 3,
     "metadata": {},
     "output_type": "execute_result"
    }
   ],
   "source": [
    "pygame.ver"
   ]
  },
  {
   "cell_type": "markdown",
   "metadata": {},
   "source": [
    "Cannot run in IDLE"
   ]
  },
  {
   "cell_type": "code",
   "execution_count": 2,
   "metadata": {},
   "outputs": [
    {
     "ename": "SystemExit",
     "evalue": "",
     "output_type": "error",
     "traceback": [
      "An exception has occurred, use %tb to see the full traceback.\n",
      "\u001b[1;31mSystemExit\u001b[0m\n"
     ]
    },
    {
     "name": "stderr",
     "output_type": "stream",
     "text": [
      "F:\\Python\\Anaconda\\lib\\site-packages\\IPython\\core\\interactiveshell.py:2870: UserWarning: To exit: use 'exit', 'quit', or Ctrl-D.\n",
      "  warn(\"To exit: use 'exit', 'quit', or Ctrl-D.\", stacklevel=1)\n"
     ]
    }
   ],
   "source": [
    "import pygame\n",
    "import sys\n",
    "\n",
    "pygame.init()\n",
    "\n",
    "size = width,height = 600,400\n",
    "speed = [-2,1]\n",
    "bg = (255,255,255) #RGB\n",
    "\n",
    "screen = pygame.display.set_mode(size)\n",
    "pygame.display.set_caption('First pygame')\n",
    "turtle = pygame.image.load('turtle.png')\n",
    "position = turtle.get_rect()\n",
    "\n",
    "while True:\n",
    "    for event in pygame.event.get():\n",
    "        if event.type == pygame.QUIT:\n",
    "            sys.exit()\n",
    "            \n",
    "    position = position.move(speed)\n",
    "    \n",
    "    if position.left <0 or position.right> width:\n",
    "        #revise image 水平翻转图像\n",
    "        turtle = pygame.transform.flip(turtle,True,False) #horizontal = True, vertical = False\n",
    "        #revise direction\n",
    "        speed[0] = -speed[0]\n",
    "        \n",
    "    if position.top < 0 or position.bottom > height:\n",
    "        speed[1] = -speed[1]\n",
    "        \n",
    "    screen.fill(bg)\n",
    "    #refresh image\n",
    "    screen.blit(turtle, position)\n",
    "    #refresh screen\n",
    "    pygame.display.flip()\n",
    "    #delay\n",
    "    pygame.time.delay(10)"
   ]
  },
  {
   "cell_type": "code",
   "execution_count": null,
   "metadata": {
    "collapsed": true
   },
   "outputs": [],
   "source": []
  }
 ],
 "metadata": {
  "kernelspec": {
   "display_name": "Python 3",
   "language": "python",
   "name": "python3"
  },
  "language_info": {
   "codemirror_mode": {
    "name": "ipython",
    "version": 3
   },
   "file_extension": ".py",
   "mimetype": "text/x-python",
   "name": "python",
   "nbconvert_exporter": "python",
   "pygments_lexer": "ipython3",
   "version": "3.6.3"
  }
 },
 "nbformat": 4,
 "nbformat_minor": 2
}
