{
 "cells": [
  {
   "cell_type": "code",
   "execution_count": 1,
   "metadata": {},
   "outputs": [
    {
     "name": "stdout",
     "output_type": "stream",
     "text": [
      "6\n",
      "7\n",
      "8\n"
     ]
    }
   ],
   "source": [
    "def funX():\n",
    "    x = 5\n",
    "    def funY():\n",
    "        nonlocal x\n",
    "        x += 1\n",
    "        return x\n",
    "    return funY\n",
    "\n",
    "a = funX()\n",
    "print(a())\n",
    "print(a())\n",
    "print(a())"
   ]
  },
  {
   "cell_type": "code",
   "execution_count": 5,
   "metadata": {},
   "outputs": [
    {
     "name": "stdout",
     "output_type": "stream",
     "text": [
      "% 13\n",
      "$ 18\n",
      "@ 18\n",
      "_ 13\n",
      "^ 12\n",
      "# 9\n",
      ") 16\n",
      "& 13\n",
      "! 15\n",
      "+ 9\n",
      "] 11\n",
      "* 11\n",
      "} 15\n",
      "[ 9\n",
      "( 12\n",
      "{ 16\n",
      "\\n 2\n",
      "G 1\n",
      "O 2\n",
      "D 1\n",
      "L 1\n",
      "U 1\n",
      "C 1\n",
      "K 1\n"
     ]
    }
   ],
   "source": [
    "str1 = '''%%$@_$^__#)^)&!_+]!*@&^}@[@%]()%+$&[(_@%+%$*^@$^!+]!&_#)_*}{}}!}_]$[%}\n",
    "@##&{#&{&)*%(]{{([*}@[@&]+!!*{)!}{%+{))])[!^})+)$]#{*+^((@^@}$[**$&^{$!@#$%)!@(&\n",
    "+^!{%_$&@^!}$_${)$_#)!({@]{_*({(])$%[!}#@@&_)([*]}$}&${^}@(%GOODLUCK'''\n",
    "list1 = []\n",
    "\n",
    "for each in str1:\n",
    "    if each not in list1:\n",
    "        if each == '\\n':\n",
    "            print('\\\\n', str1.count(each))\n",
    "        else:\n",
    "            print(each, str1.count(each))\n",
    "        list1.append(each)"
   ]
  },
  {
   "cell_type": "code",
   "execution_count": 3,
   "metadata": {},
   "outputs": [
    {
     "name": "stdout",
     "output_type": "stream",
     "text": [
      "abc"
     ]
    }
   ],
   "source": [
    "str1 = '''ABSaDKSbRIHcRHGcdDIF'''\n",
    "\n",
    "countA = 0  # 统计前边的大写字母\n",
    "countB = 0  # 统计小写字母\n",
    "countC = 0  # 统计后边的大写字母\n",
    "length = len(str1)\n",
    "\n",
    "for i in range(length):\n",
    "    if str1[i] == '\\n':\n",
    "        continue\n",
    "\n",
    "    \"\"\"\n",
    "    |如果str1[i]是大写字母：\n",
    "    |-- 如果已经出现小写字母：\n",
    "    |-- -- 统计后边的大写字母\n",
    "    |-- 如果未出现小写字母：\n",
    "    |-- -- 清空后边大写字母的统计\n",
    "    |-- -- 统计前边的大写字母\n",
    "    \"\"\"\n",
    "    if str1[i].isupper():\n",
    "        if countB:\n",
    "            countC += 1\n",
    "        else:\n",
    "            countC = 0\n",
    "            countA += 1\n",
    "\n",
    "    \"\"\"\n",
    "    |如果str1[i]是小写字母：\n",
    "    |-- 如果小写字母前边不是三个大写字母（不符合条件）：\n",
    "    |-- -- 清空所有记录，重新统计\n",
    "    |-- 如果小写字母前边是三个大写字母（符合条件）：\n",
    "    |-- -- 如果已经存在小写字母：\n",
    "    |-- -- -- 清空所有记录，重新统计（出现两个小写字母）\n",
    "    |-- -- 如果该小写字母是唯一的：\n",
    "    |-- -- -- countB记录出现小写字母，准备开始统计countC\n",
    "    \"\"\"\n",
    "    if str1[i].islower():\n",
    "        if countA != 3:\n",
    "            countA = 0\n",
    "            countB = 0\n",
    "            countC = 0\n",
    "        else: \n",
    "            if countB:\n",
    "                countA = 0\n",
    "                countB = 0\n",
    "                countC = 0\n",
    "            else:\n",
    "                countB = 1\n",
    "                countC = 0\n",
    "                target = i\n",
    "\n",
    "    \"\"\"\n",
    "    |如果前边和后边都是三个大写字母：\n",
    "    |-- 如果后边第四个字母也是大写字母（不符合条件）：\n",
    "    |-- -- 清空记录B和C，重新统计\n",
    "    |-- 如果后边仅有三个大写字母（符合所有条件）：\n",
    "    |-- -- 打印结果，并清空所有记录，进入下一轮统计\n",
    "    \"\"\"\n",
    "    if countA == 3 and countC == 3:\n",
    "        if i+1 != length and str1[i+1].isupper():\n",
    "            countB = 0\n",
    "            countC = 0\n",
    "        else:\n",
    "            print(str1[target], end='')\n",
    "            countA = 3\n",
    "            countB = 0\n",
    "            countC = 0"
   ]
  },
  {
   "cell_type": "code",
   "execution_count": 6,
   "metadata": {
    "collapsed": true
   },
   "outputs": [],
   "source": [
    "a = lambda x,y=3 : x*y"
   ]
  },
  {
   "cell_type": "code",
   "execution_count": 7,
   "metadata": {},
   "outputs": [
    {
     "data": {
      "text/plain": [
       "9"
      ]
     },
     "execution_count": 7,
     "metadata": {},
     "output_type": "execute_result"
    }
   ],
   "source": [
    "a(3)"
   ]
  },
  {
   "cell_type": "code",
   "execution_count": 8,
   "metadata": {},
   "outputs": [
    {
     "data": {
      "text/plain": [
       "15"
      ]
     },
     "execution_count": 8,
     "metadata": {},
     "output_type": "execute_result"
    }
   ],
   "source": [
    "a(3,5)"
   ]
  },
  {
   "cell_type": "code",
   "execution_count": 13,
   "metadata": {},
   "outputs": [
    {
     "data": {
      "text/plain": [
       "[0,\n",
       " 3,\n",
       " 6,\n",
       " 9,\n",
       " 12,\n",
       " 15,\n",
       " 18,\n",
       " 21,\n",
       " 24,\n",
       " 27,\n",
       " 30,\n",
       " 33,\n",
       " 36,\n",
       " 39,\n",
       " 42,\n",
       " 45,\n",
       " 48,\n",
       " 51,\n",
       " 54,\n",
       " 57,\n",
       " 60,\n",
       " 63,\n",
       " 66,\n",
       " 69,\n",
       " 72,\n",
       " 75,\n",
       " 78,\n",
       " 81,\n",
       " 84,\n",
       " 87,\n",
       " 90,\n",
       " 93,\n",
       " 96,\n",
       " 99]"
      ]
     },
     "execution_count": 13,
     "metadata": {},
     "output_type": "execute_result"
    }
   ],
   "source": [
    "list(filter(lambda x:x % 3 == 0 , range(100)))"
   ]
  },
  {
   "cell_type": "code",
   "execution_count": 10,
   "metadata": {
    "collapsed": true
   },
   "outputs": [],
   "source": [
    "x = [i for i in range(100) if i%3 ==0]"
   ]
  },
  {
   "cell_type": "code",
   "execution_count": 11,
   "metadata": {},
   "outputs": [
    {
     "data": {
      "text/plain": [
       "[0,\n",
       " 3,\n",
       " 6,\n",
       " 9,\n",
       " 12,\n",
       " 15,\n",
       " 18,\n",
       " 21,\n",
       " 24,\n",
       " 27,\n",
       " 30,\n",
       " 33,\n",
       " 36,\n",
       " 39,\n",
       " 42,\n",
       " 45,\n",
       " 48,\n",
       " 51,\n",
       " 54,\n",
       " 57,\n",
       " 60,\n",
       " 63,\n",
       " 66,\n",
       " 69,\n",
       " 72,\n",
       " 75,\n",
       " 78,\n",
       " 81,\n",
       " 84,\n",
       " 87,\n",
       " 90,\n",
       " 93,\n",
       " 96,\n",
       " 99]"
      ]
     },
     "execution_count": 11,
     "metadata": {},
     "output_type": "execute_result"
    }
   ],
   "source": [
    "x"
   ]
  },
  {
   "cell_type": "code",
   "execution_count": 15,
   "metadata": {},
   "outputs": [
    {
     "data": {
      "text/plain": [
       "[[1, 2], [3, 4], [5, 6], [7, 8], [9, 10]]"
      ]
     },
     "execution_count": 15,
     "metadata": {},
     "output_type": "execute_result"
    }
   ],
   "source": [
    "list(map(lambda x, y : [x, y], [1, 3, 5, 7, 9], [2, 4, 6, 8, 10]))"
   ]
  },
  {
   "cell_type": "code",
   "execution_count": 16,
   "metadata": {
    "collapsed": true
   },
   "outputs": [],
   "source": [
    "def power(x,y):\n",
    "    if y != 1:\n",
    "        return x * power(x, y-1)\n",
    "    else:\n",
    "        return x"
   ]
  },
  {
   "cell_type": "code",
   "execution_count": 17,
   "metadata": {},
   "outputs": [
    {
     "data": {
      "text/plain": [
       "27"
      ]
     },
     "execution_count": 17,
     "metadata": {},
     "output_type": "execute_result"
    }
   ],
   "source": [
    "power(3,3)"
   ]
  },
  {
   "cell_type": "code",
   "execution_count": 18,
   "metadata": {
    "collapsed": true
   },
   "outputs": [],
   "source": [
    "def gcd(a,b):\n",
    "    if a%b != 0:\n",
    "        c = a%b\n",
    "        return gcd(b,c)\n",
    "    else:\n",
    "        return b"
   ]
  },
  {
   "cell_type": "code",
   "execution_count": 20,
   "metadata": {},
   "outputs": [
    {
     "data": {
      "text/plain": [
       "15"
      ]
     },
     "execution_count": 20,
     "metadata": {},
     "output_type": "execute_result"
    }
   ],
   "source": [
    "gcd(45,240)"
   ]
  },
  {
   "cell_type": "code",
   "execution_count": null,
   "metadata": {
    "collapsed": true
   },
   "outputs": [],
   "source": []
  }
 ],
 "metadata": {
  "kernelspec": {
   "display_name": "Python 3",
   "language": "python",
   "name": "python3"
  },
  "language_info": {
   "codemirror_mode": {
    "name": "ipython",
    "version": 3
   },
   "file_extension": ".py",
   "mimetype": "text/x-python",
   "name": "python",
   "nbconvert_exporter": "python",
   "pygments_lexer": "ipython3",
   "version": "3.6.3"
  }
 },
 "nbformat": 4,
 "nbformat_minor": 2
}
