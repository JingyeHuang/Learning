{
 "cells": [
  {
   "cell_type": "code",
   "execution_count": 1,
   "metadata": {},
   "outputs": [
    {
     "name": "stdout",
     "output_type": "stream",
     "text": [
      "Overwriting Hello.txt\n"
     ]
    }
   ],
   "source": [
    "%%writefile Hello.txt\n",
    "Hello python\n",
    "Weather\n",
    "test function"
   ]
  },
  {
   "cell_type": "code",
   "execution_count": 7,
   "metadata": {
    "collapsed": true
   },
   "outputs": [],
   "source": [
    "txt = open('./Hello.txt')"
   ]
  },
  {
   "cell_type": "code",
   "execution_count": 3,
   "metadata": {},
   "outputs": [
    {
     "name": "stdout",
     "output_type": "stream",
     "text": [
      "Hello python\n",
      "Weather\n",
      "test function\n"
     ]
    }
   ],
   "source": [
    "txt_read = txt.read()\n",
    "print(txt_read)"
   ]
  },
  {
   "cell_type": "code",
   "execution_count": 8,
   "metadata": {},
   "outputs": [
    {
     "name": "stdout",
     "output_type": "stream",
     "text": [
      "<class 'list'>\n",
      "['Hello python\\n', 'Weather\\n', 'test function']\n"
     ]
    }
   ],
   "source": [
    "a = txt.readlines()\n",
    "print(type(a))\n",
    "print (a)"
   ]
  },
  {
   "cell_type": "code",
   "execution_count": 9,
   "metadata": {},
   "outputs": [
    {
     "name": "stdout",
     "output_type": "stream",
     "text": [
      "cur_line Hello python\n",
      "\n",
      "cur_line Weather\n",
      "\n",
      "cur_line test function\n"
     ]
    }
   ],
   "source": [
    "for line in a:\n",
    "    print ('cur_line',line)"
   ]
  },
  {
   "cell_type": "code",
   "execution_count": 11,
   "metadata": {},
   "outputs": [],
   "source": [
    "txt.close()"
   ]
  },
  {
   "cell_type": "code",
   "execution_count": 13,
   "metadata": {},
   "outputs": [],
   "source": [
    "txt = open('huang_write.txt','w')\n",
    "txt.write('weather is good today\\n')\n",
    "txt.write('but my work is shit')\n",
    "txt.close()"
   ]
  },
  {
   "cell_type": "code",
   "execution_count": 15,
   "metadata": {
    "collapsed": true
   },
   "outputs": [],
   "source": [
    "txt = open('huang_write.txt','w')\n",
    "txt.write('each time you write a file\\n')\n",
    "txt.write('it will cover the original file')\n",
    "txt.close()"
   ]
  },
  {
   "cell_type": "markdown",
   "metadata": {},
   "source": [
    "w模式会覆盖原来的文件\n",
    "* a模式不会"
   ]
  },
  {
   "cell_type": "code",
   "execution_count": 16,
   "metadata": {
    "collapsed": true
   },
   "outputs": [],
   "source": [
    "txt = open('huang_write.txt','a')\n",
    "txt.write('each time you write a file\\n')\n",
    "txt.write('it will cover the original file')\n",
    "txt.close()"
   ]
  },
  {
   "cell_type": "code",
   "execution_count": 20,
   "metadata": {},
   "outputs": [
    {
     "name": "stdout",
     "output_type": "stream",
     "text": [
      "0\n",
      "1\n",
      "2\n",
      "3\n",
      "4\n",
      "5\n",
      "6\n",
      "7\n",
      "8\n",
      "9\n",
      "\n"
     ]
    }
   ],
   "source": [
    "txt = open('huang_write.txt','w')\n",
    "for i in range(10):\n",
    "    txt.write(str(i)+'\\n')\n",
    "txt.close()\n",
    "txt2 = open('huang_write.txt','r')\n",
    "print(txt2.read())"
   ]
  },
  {
   "cell_type": "code",
   "execution_count": 23,
   "metadata": {},
   "outputs": [
    {
     "name": "stdout",
     "output_type": "stream",
     "text": [
      "error:  50\n"
     ]
    }
   ],
   "source": [
    "txt = open('huang_write.txt','w')\n",
    "try:\n",
    "    for i in range(100):\n",
    "        10/(i-50)\n",
    "        txt.write(str(i)+'\\n')\n",
    "except Exception:\n",
    "    print('error: ',i)\n",
    "finally:\n",
    "    txt.close()"
   ]
  },
  {
   "cell_type": "code",
   "execution_count": 24,
   "metadata": {
    "collapsed": true
   },
   "outputs": [],
   "source": [
    "with open('jing_write.txt','w') as f:\n",
    "    f.write('weather is soooo good today')"
   ]
  },
  {
   "cell_type": "markdown",
   "metadata": {},
   "source": [
    "with as 处理后会自动关闭文件（更加方便）"
   ]
  },
  {
   "cell_type": "code",
   "execution_count": null,
   "metadata": {
    "collapsed": true
   },
   "outputs": [],
   "source": []
  }
 ],
 "metadata": {
  "kernelspec": {
   "display_name": "Python 3",
   "language": "python",
   "name": "python3"
  },
  "language_info": {
   "codemirror_mode": {
    "name": "ipython",
    "version": 3
   },
   "file_extension": ".py",
   "mimetype": "text/x-python",
   "name": "python",
   "nbconvert_exporter": "python",
   "pygments_lexer": "ipython3",
   "version": "3.6.3"
  }
 },
 "nbformat": 4,
 "nbformat_minor": 2
}
