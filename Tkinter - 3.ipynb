{
 "cells": [
  {
   "cell_type": "code",
   "execution_count": 11,
   "metadata": {
    "collapsed": true
   },
   "outputs": [],
   "source": [
    "from tkinter import *\n",
    "\n",
    "master = Tk()\n",
    "\n",
    "LB = Listbox(master, selectmode=EXTENDED)\n",
    "LB.pack()\n",
    "\n",
    "for item in ['MT','SM','FS','DZ']:\n",
    "    LB.insert(END,item)\n",
    "\n",
    "theButton = Button(master, text = 'Delete it', command = lambda x=LB : x.delete(ACTIVE))\n",
    "theButton.pack()\n",
    "\n",
    "mainloop()"
   ]
  },
  {
   "cell_type": "code",
   "execution_count": 13,
   "metadata": {
    "collapsed": true
   },
   "outputs": [],
   "source": [
    "from tkinter import *\n",
    "\n",
    "master = Tk()\n",
    "\n",
    "LB = Listbox(master, selectmode=EXTENDED, height = 20) #default height = 10\n",
    "LB.pack()\n",
    "\n",
    "for item in range(15):\n",
    "    LB.insert(END,item)\n",
    "\n",
    "theButton = Button(master, text = 'Delete it', command = lambda x=LB : x.delete(ACTIVE))\n",
    "theButton.pack()\n",
    "\n",
    "mainloop()"
   ]
  },
  {
   "cell_type": "code",
   "execution_count": 2,
   "metadata": {
    "collapsed": true
   },
   "outputs": [],
   "source": [
    "from tkinter import *\n",
    "\n",
    "master = Tk()\n",
    "\n",
    "sb = Scrollbar(master)\n",
    "sb.pack(side=RIGHT,fill = Y) #fill = Y表示Y轴填充\n",
    "\n",
    "LB = Listbox(master,yscrollcommand = sb.set)\n",
    "#xscrollcommand represent horizontal scrollbar, yscrollcommand represent vertical scrollbar\n",
    "\n",
    "for i in range(50):\n",
    "    LB.insert(END,i)\n",
    "    \n",
    "LB.pack(side =LEFT,fill = BOTH)\n",
    "\n",
    "sb.config(command=LB.yview)\n",
    "\n",
    "mainloop()"
   ]
  },
  {
   "cell_type": "code",
   "execution_count": 1,
   "metadata": {
    "collapsed": true
   },
   "outputs": [],
   "source": [
    "from tkinter import *\n",
    "\n",
    "root = Tk()\n",
    "\n",
    "Scale(root,from_=0,to=50).pack()\n",
    "Scale(root,from_=0,to=100,orient=HORIZONTAL).pack()\n",
    "\n",
    "mainloop()"
   ]
  },
  {
   "cell_type": "code",
   "execution_count": 2,
   "metadata": {},
   "outputs": [
    {
     "name": "stdout",
     "output_type": "stream",
     "text": [
      "22 43\n"
     ]
    }
   ],
   "source": [
    "from tkinter import *\n",
    "\n",
    "root = Tk()\n",
    "\n",
    "s1 = Scale(root,from_=0,to=50)\n",
    "s1.pack()\n",
    "s2 = Scale(root,from_=0,to=100,orient=HORIZONTAL)\n",
    "s2.pack()\n",
    "\n",
    "def getvalue():\n",
    "    print(s1.get(),s2.get())\n",
    "\n",
    "theButton = Button(root,text='Retreive value',command = getvalue).pack()\n",
    "\n",
    "mainloop()"
   ]
  },
  {
   "cell_type": "code",
   "execution_count": 9,
   "metadata": {
    "collapsed": true
   },
   "outputs": [],
   "source": [
    "from tkinter import *\n",
    "\n",
    "root = Tk()\n",
    "\n",
    "Scale(root,from_=0,to=50,tickinterval=5,resolution=5,length = 200).pack()   \n",
    "#tickinterval设置标尺,resolution设置每一步间距\n",
    "Scale(root,from_=0,to=100,tickinterval=5,orient=HORIZONTAL,length=600).pack()\n",
    "\n",
    "mainloop()"
   ]
  },
  {
   "cell_type": "code",
   "execution_count": 11,
   "metadata": {
    "collapsed": true
   },
   "outputs": [],
   "source": [
    "from tkinter import *\n",
    "\n",
    "root = Tk()\n",
    "\n",
    "text = Text(root,width=30,height=5)\n",
    "text.pack()\n",
    "\n",
    "text.insert(INSERT, 'Hello\\n')\n",
    "#INSERT代表输入光标所在位置，还可以选择END\n",
    "text.insert(END, 'AAA')\n",
    "\n",
    "mainloop()"
   ]
  },
  {
   "cell_type": "code",
   "execution_count": 8,
   "metadata": {},
   "outputs": [
    {
     "name": "stdout",
     "output_type": "stream",
     "text": [
      "ASDFGHJKL\n",
      "ASDFGHJKL\n"
     ]
    }
   ],
   "source": [
    "from tkinter import *\n",
    "\n",
    "root = Tk()\n",
    "\n",
    "text1 = Text(root,width=30,height=5)\n",
    "text1.pack()\n",
    "\n",
    "text1.insert(INSERT, 'Hello\\n')\n",
    "#INSERT代表输入光标所在位置，还可以选择END\n",
    "text1.insert(END, 'AAA')\n",
    "\n",
    "def show():\n",
    "    print('ASDFGHJKL')\n",
    "\n",
    "b1=Button(text1, text='Click', command=show)\n",
    "text1.window_create(INSERT,window=b1)\n",
    "\n",
    "mainloop()"
   ]
  },
  {
   "cell_type": "code",
   "execution_count": 9,
   "metadata": {
    "collapsed": true
   },
   "outputs": [],
   "source": [
    "from tkinter import *\n",
    "\n",
    "root = Tk()\n",
    "\n",
    "text1 = Text(root,width=100,height=20)\n",
    "text1.pack()\n",
    "\n",
    "text1.insert(INSERT, 'Hello\\n')\n",
    "#INSERT代表输入光标所在位置，还可以选择END\n",
    "text1.insert(END, 'AAA')\n",
    "\n",
    "photo = PhotoImage(file='18.gif')\n",
    "\n",
    "def show():\n",
    "    text1.image_create(END,image=photo)\n",
    "\n",
    "b1=Button(text1, text='Click', command=show)\n",
    "text1.window_create(INSERT,window=b1)\n",
    "\n",
    "mainloop()"
   ]
  },
  {
   "cell_type": "code",
   "execution_count": 7,
   "metadata": {
    "collapsed": true
   },
   "outputs": [],
   "source": [
    "#line.column 行从1开始,列从0开始 一般形式：1.5  ,   1.END\n",
    "from tkinter import *\n",
    "\n",
    "root = Tk()\n",
    "\n",
    "text = Text(root,width=30,height=5)\n",
    "text.pack()\n",
    "\n",
    "text.insert(INSERT, 'Hello Everyone\\n')\n",
    "text.mark_set('pos1','1.3')   #mark会标记后面的内容，即如果\"lo Evereyone\"前的内容发生改变，它仍标记在\"lo\"前面\n",
    "text.insert('pos1','XO')\n",
    "text.insert('pos1','UUU')\n",
    "\n",
    "#text.mark_unset('pos1')\n",
    "\n",
    "mainloop()"
   ]
  },
  {
   "cell_type": "code",
   "execution_count": 6,
   "metadata": {
    "collapsed": true
   },
   "outputs": [],
   "source": [
    "#line.column 行从1开始,列从0开始 一般形式：1.5  ,   1.END\n",
    "from tkinter import *\n",
    "\n",
    "root = Tk()\n",
    "\n",
    "text = Text(root,width=30,height=5)\n",
    "text.pack()\n",
    "\n",
    "text.insert(INSERT, 'Hello Everyone\\n')\n",
    "text.mark_set('pos1','1.3')   #mark会标记后面的内容，即如果\"lo Evereyone\"前的内容发生改变，它仍标记在\"lo\"前面\n",
    "text.mark_gravity('pos1',LEFT)   #mark_gravity可以改变输入方向\n",
    "text.insert('pos1','XO')\n",
    "text.insert('pos1','UUU')\n",
    "\n",
    "#text.mark_unset('pos1')\n",
    "\n",
    "mainloop()"
   ]
  },
  {
   "cell_type": "code",
   "execution_count": 9,
   "metadata": {},
   "outputs": [],
   "source": [
    "from tkinter import *\n",
    "\n",
    "root = Tk()\n",
    "\n",
    "t1 = Text(root,width=30,height=5)\n",
    "t1.pack()\n",
    "t1.insert(INSERT,'Think before talk.')\n",
    "\n",
    "t1.tag_add('tag1','1.6','1.12','1.14')\n",
    "t1.tag_add('tag2','1.6','1.12','1.14')\n",
    "t1.tag_config('tag1',background='yellow',foreground='red')\n",
    "t1.tag_config('tag2',foreground='blue')\n",
    "\n",
    "t1.tag_lower('tag2')      #降低tag2的优先级\n",
    "\n",
    "mainloop()"
   ]
  },
  {
   "cell_type": "code",
   "execution_count": 7,
   "metadata": {},
   "outputs": [],
   "source": [
    "from tkinter import *\n",
    "import webbrowser\n",
    "\n",
    "root = Tk()\n",
    "\n",
    "t1 = Text(root,width=30,height=5)\n",
    "t1.pack()\n",
    "t1.insert(INSERT,'Wanna use Google?')\n",
    "\n",
    "t1.tag_add('link','1.10','1.16')\n",
    "t1.tag_config('link',foreground='blue',underline=True)\n",
    "\n",
    "def show_arrow_cursor(event):\n",
    "    t1.config(cursor='arrow')\n",
    "\n",
    "def show_xterm_cursor(event):\n",
    "    t1.config(cursor='xterm')\n",
    "    \n",
    "def click(event):\n",
    "    webbrowser.open('http://www.google.com')\n",
    "    \n",
    "t1.tag_bind('link','<Enter>',show_arrow_cursor)\n",
    "t1.tag_bind('link','<Leave>',show_xterm_cursor)\n",
    "t1.tag_bind('link','<Button-1>',click)\n",
    "\n",
    "mainloop()"
   ]
  },
  {
   "cell_type": "code",
   "execution_count": 2,
   "metadata": {},
   "outputs": [
    {
     "name": "stdout",
     "output_type": "stream",
     "text": [
      "Nothing have been changed\n",
      "Nothing have been changed\n",
      "The content have been changed\n"
     ]
    }
   ],
   "source": [
    "from tkinter import *\n",
    "import hashlib\n",
    "\n",
    "root = Tk()\n",
    "\n",
    "t1 = Text(root,width=30,height=5)\n",
    "t1.pack()\n",
    "\n",
    "t1.insert(INSERT,'Hello Mike')\n",
    "contents=t1.get('1.0',END)\n",
    "\n",
    "def getsig(cont):\n",
    "    m = hashlib.md5(cont.encode())\n",
    "    return m.digest()\n",
    "\n",
    "sig = getsig(contents)\n",
    "\n",
    "def check():\n",
    "    contents=t1.get('1.0',END)\n",
    "    if sig != getsig(contents):\n",
    "        print('The content have been changed')\n",
    "    else:\n",
    "        print('Nothing have been changed')\n",
    "\n",
    "Button(root,text='Check',command=check).pack()\n",
    "\n",
    "mainloop()"
   ]
  },
  {
   "cell_type": "code",
   "execution_count": 3,
   "metadata": {},
   "outputs": [
    {
     "name": "stdout",
     "output_type": "stream",
     "text": [
      "Found the result: (1, 1)\n",
      "Found the result: (1, 9)\n"
     ]
    }
   ],
   "source": [
    "from tkinter import *\n",
    "import hashlib\n",
    "\n",
    "root = Tk()\n",
    "\n",
    "t1 = Text(root,width=30,height=5)\n",
    "t1.pack()\n",
    "\n",
    "t1.insert(INSERT,'Hello Mike')\n",
    "\n",
    "def getIndex(text,i):\n",
    "    return tuple(map(int,str.split(text.index(i),'.')))\n",
    "\n",
    "start = '1.0'\n",
    "while True:\n",
    "    pos = t1.search('e',start,stopindex=END)\n",
    "    if not pos:\n",
    "        break\n",
    "    print('Found the result:',getIndex(t1,pos))\n",
    "    start = pos + '+1c'\n",
    "\n",
    "mainloop()"
   ]
  },
  {
   "cell_type": "code",
   "execution_count": 4,
   "metadata": {},
   "outputs": [],
   "source": [
    "from tkinter import *\n",
    "import hashlib\n",
    "\n",
    "root = Tk()\n",
    "\n",
    "t1 = Text(root,width=30,height=5, undo=True)\n",
    "t1.pack()\n",
    "\n",
    "t1.insert(INSERT,'Hello Mike\\n')\n",
    "\n",
    "def uuu():\n",
    "    t1.edit_undo()\n",
    "\n",
    "Button(root,text='Undo',command=uuu).pack()\n",
    "\n",
    "mainloop()"
   ]
  },
  {
   "cell_type": "code",
   "execution_count": 6,
   "metadata": {
    "collapsed": true
   },
   "outputs": [],
   "source": [
    "from tkinter import *\n",
    "\n",
    "root = Tk()\n",
    "\n",
    "t1 = Text(root,width=30,height=5, undo=True, autoseparators=True)\n",
    "t1.pack()\n",
    "\n",
    "t1.insert(INSERT,'Hello Mike\\n')\n",
    "\n",
    "def callback(event):\n",
    "    t1.edit_separator()\n",
    "    \n",
    "t1.bind('<Key>',callback)  #每当人为输入一个按键，就调用callback一次，设立一个separator\n",
    "\n",
    "def uuu():\n",
    "    t1.edit_undo()\n",
    "\n",
    "Button(root,text='Undo',command=uuu).pack()\n",
    "\n",
    "mainloop()"
   ]
  },
  {
   "cell_type": "code",
   "execution_count": null,
   "metadata": {
    "collapsed": true
   },
   "outputs": [],
   "source": []
  }
 ],
 "metadata": {
  "kernelspec": {
   "display_name": "Python 3",
   "language": "python",
   "name": "python3"
  },
  "language_info": {
   "codemirror_mode": {
    "name": "ipython",
    "version": 3
   },
   "file_extension": ".py",
   "mimetype": "text/x-python",
   "name": "python",
   "nbconvert_exporter": "python",
   "pygments_lexer": "ipython3",
   "version": "3.6.3"
  }
 },
 "nbformat": 4,
 "nbformat_minor": 2
}
