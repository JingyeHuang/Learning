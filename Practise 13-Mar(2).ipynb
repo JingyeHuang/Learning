{
 "cells": [
  {
   "cell_type": "code",
   "execution_count": 1,
   "metadata": {},
   "outputs": [
    {
     "data": {
      "text/plain": [
       "'F:\\\\Python\\\\Huang'"
      ]
     },
     "execution_count": 1,
     "metadata": {},
     "output_type": "execute_result"
    }
   ],
   "source": [
    "import os\n",
    "os.getcwd()"
   ]
  },
  {
   "cell_type": "code",
   "execution_count": 2,
   "metadata": {},
   "outputs": [
    {
     "name": "stdout",
     "output_type": "stream",
     "text": [
      "10\n"
     ]
    }
   ],
   "source": [
    "f = os.listdir(path = '.')\n",
    "count = 0\n",
    "for each in f:\n",
    "    if 'txt' in each:\n",
    "        count +=1\n",
    "        \n",
    "print(count)"
   ]
  },
  {
   "cell_type": "code",
   "execution_count": 3,
   "metadata": {},
   "outputs": [
    {
     "name": "stdout",
     "output_type": "stream",
     "text": [
      "Quantity of file type [txt] is : 10 \n",
      "Quantity of file type [ipynb] is : 54 \n",
      "Quantity of file type [py] is : 2 \n"
     ]
    }
   ],
   "source": [
    "import os\n",
    "f = os.listdir(path = '.')\n",
    "txt = 0\n",
    "ipynb = 0\n",
    "py = 0\n",
    "for each in f:\n",
    "    if '.txt' in each:\n",
    "        txt +=1\n",
    "    if '.ipynb' in each:\n",
    "        ipynb +=1\n",
    "    if '.py' in each:\n",
    "        py +=1\n",
    "        \n",
    "print('Quantity of file type [txt] is : %d ' %txt)\n",
    "print('Quantity of file type [ipynb] is : %d ' %ipynb)\n",
    "print('Quantity of file type [py] is : %d ' %py)"
   ]
  },
  {
   "cell_type": "code",
   "execution_count": 4,
   "metadata": {},
   "outputs": [
    {
     "data": {
      "text/plain": [
       "'.txt'"
      ]
     },
     "execution_count": 4,
     "metadata": {},
     "output_type": "execute_result"
    }
   ],
   "source": [
    "import os.path as o\n",
    "x = o.splitext('C:\\\\Users\\\\jeremy\\\\Poem.txt')\n",
    "x[1]"
   ]
  },
  {
   "cell_type": "code",
   "execution_count": 5,
   "metadata": {},
   "outputs": [
    {
     "name": "stdout",
     "output_type": "stream",
     "text": [
      ".ipynb_checkpoints : [4096 Bytes]\n",
      "2048 game.ipynb : [581 Bytes]\n",
      "Dialog.txt : [278 Bytes]\n",
      "Dictionary.ipynb : [11879 Bytes]\n",
      "Easygui learning.ipynb : [3434 Bytes]\n",
      "else&with.ipynb : [3548 Bytes]\n",
      "Exception.ipynb : [5352 Bytes]\n",
      "Fish class.ipynb : [5380 Bytes]\n",
      "Hello.txt : [36 Bytes]\n",
      "huang.py : [230 Bytes]\n",
      "huang_write.txt : [190 Bytes]\n",
      "jing_write.txt : [27 Bytes]\n",
      "OpenMe.mp3 : [700 Bytes]\n",
      "pickle模块.ipynb : [1761 Bytes]\n",
      "Poem.txt : [212 Bytes]\n",
      "Poem2.txt : [169 Bytes]\n",
      "Practise 11-Mar.ipynb : [9347 Bytes]\n",
      "Practise 12-Mar(2).ipynb : [7668 Bytes]\n",
      "Practise 12-Mar.ipynb : [8605 Bytes]\n",
      "Practise 13-Mar(1).ipynb : [11620 Bytes]\n",
      "Practise 13-Mar(2).ipynb : [13369 Bytes]\n",
      "Practise 8-Mar.ipynb : [14911 Bytes]\n",
      "Practise 9-Mar.ipynb : [14199 Bytes]\n",
      "Practise-7 Mar.ipynb : [5299 Bytes]\n",
      "Python 10-循环.ipynb : [3883 Bytes]\n",
      "Python 11-函数.ipynb : [5402 Bytes]\n",
      "Python 12-包.ipynb : [4928 Bytes]\n",
      "Python 13-异常.ipynb : [11570 Bytes]\n",
      "Python 14-文件操作.ipynb : [4719 Bytes]\n",
      "Python 15-类.ipynb : [11285 Bytes]\n",
      "Python 16-时间.ipynb : [3340 Bytes]\n",
      "Python 3-字符串.ipynb : [8215 Bytes]\n",
      "Python 4-索引.ipynb : [3261 Bytes]\n",
      "Python 5-List结构.ipynb : [14558 Bytes]\n",
      "Python 6-字典.ipynb : [11639 Bytes]\n",
      "Python 7-集合.ipynb : [7776 Bytes]\n",
      "Python 8-赋值机制.ipynb : [4077 Bytes]\n",
      "Python 9-判断结构.ipynb : [2565 Bytes]\n",
      "Python 猜数字游戏.ipynb : [7237 Bytes]\n",
      "Python 练习题1.ipynb : [8440 Bytes]\n",
      "Python 练习题2.ipynb : [8616 Bytes]\n",
      "Python练习题 -1.ipynb : [7592 Bytes]\n",
      "Pytrhon练习题-2.ipynb : [6564 Bytes]\n",
      "Score list.ipynb : [2287 Bytes]\n",
      "script.txt : [391 Bytes]\n",
      "TemperatureConvertor.py : [140 Bytes]\n",
      "test.txt : [14 Bytes]\n",
      "Test13.txt : [44 Bytes]\n",
      "tuple & format.ipynb : [8305 Bytes]\n",
      "videolist.txt : [140 Bytes]\n",
      "__pycache__ : [4096 Bytes]\n",
      "函数.ipynb : [14876 Bytes]\n",
      "对象.ipynb : [26115 Bytes]\n",
      "对象组合-水池类.ipynb : [1636 Bytes]\n",
      "文件.ipynb : [5634 Bytes]\n",
      "模块.ipynb : [3232 Bytes]\n",
      "练习 7-Mar.ipynb : [5200 Bytes]\n",
      "递归.ipynb : [3954 Bytes]\n",
      "集合.ipynb : [4492 Bytes]\n",
      "魔法方法-1.ipynb : [7956 Bytes]\n",
      "魔法方法-10模块.ipynb : [1034 Bytes]\n",
      "魔法方法-3.ipynb : [3317 Bytes]\n",
      "魔法方法-5.ipynb : [7550 Bytes]\n",
      "魔法方法-6.ipynb : [7121 Bytes]\n",
      "魔法方法-7.ipynb : [8183 Bytes]\n",
      "魔法方法-8.ipynb : [5130 Bytes]\n",
      "魔法方法-9.ipynb : [6365 Bytes]\n",
      "魔法方法4-计时器类.ipynb : [6042 Bytes]\n"
     ]
    }
   ],
   "source": [
    "import os\n",
    "import os.path as o\n",
    "f = os.listdir(path = '.')\n",
    "for each in f:\n",
    "    size = int(o.getsize(each))\n",
    "    print('%s : [%d Bytes]' %(each,size))"
   ]
  },
  {
   "cell_type": "code",
   "execution_count": 6,
   "metadata": {},
   "outputs": [
    {
     "name": "stdout",
     "output_type": "stream",
     "text": [
      "Please input destination path: F:\\Python\\Huang\n",
      "Please input your target filename: Poem.txt\n",
      "F:\\Python\\Huang\\Poem.txt\n"
     ]
    }
   ],
   "source": [
    "import os\n",
    "import os.path as o\n",
    "mypath = input('Please input destination path: ')\n",
    "name = input('Please input your target filename: ')\n",
    "os.chdir(mypath)\n",
    "curpath = os.listdir(path = '.')\n",
    "for each in curpath:\n",
    "    if o.isdir(each) == True:\n",
    "        nextpath = os.listdir(path = (mypath + '\\\\' +each))\n",
    "        if name in nextpath:\n",
    "            print(mypath + '\\\\'+ each+ '\\\\' + name)\n",
    "    else:\n",
    "        if each == name:\n",
    "            print(mypath + '\\\\' +name)\n"
   ]
  },
  {
   "cell_type": "code",
   "execution_count": 7,
   "metadata": {
    "collapsed": true
   },
   "outputs": [],
   "source": [
    "os.chdir('F:\\\\Python\\\\Huang')"
   ]
  },
  {
   "cell_type": "code",
   "execution_count": 8,
   "metadata": {},
   "outputs": [
    {
     "name": "stdout",
     "output_type": "stream",
     "text": [
      "Please input your target path: F:\\Python\\Huang\n"
     ]
    }
   ],
   "source": [
    "import os\n",
    "import os.path as o\n",
    "mypath = input('Please input your target path: ')\n",
    "vlist = open('videolist.txt','w')\n",
    "H = os.listdir(mypath)\n",
    "for each in H:\n",
    "    if ('.txt' in each) or ('.avi' in each) or ('.mp4' in each):\n",
    "        vlist.write(mypath + '\\\\' + each + '\\n')\n",
    "vlist.close()"
   ]
  },
  {
   "cell_type": "code",
   "execution_count": 9,
   "metadata": {},
   "outputs": [
    {
     "name": "stdout",
     "output_type": "stream",
     "text": [
      "该文件夹下共有类型为【文件夹】的文件 2 个\n",
      "该文件夹下共有类型为【.ipynb】的文件 53 个\n",
      "该文件夹下共有类型为【.txt】的文件 10 个\n",
      "该文件夹下共有类型为【.py】的文件 2 个\n",
      "该文件夹下共有类型为【.mp3】的文件 1 个\n"
     ]
    }
   ],
   "source": [
    "import os\n",
    "\n",
    "all_files = os.listdir(os.curdir) # 使用os.curdir表示当前目录更标准\n",
    "type_dict = dict()\n",
    "\n",
    "for each_file in all_files:\n",
    "    if os.path.isdir(each_file):\n",
    "        type_dict.setdefault('文件夹', 0)\n",
    "        type_dict['文件夹'] += 1\n",
    "    else:\n",
    "        ext = os.path.splitext(each_file)[1]\n",
    "        type_dict.setdefault(ext, 0)\n",
    "        type_dict[ext] += 1\n",
    "\n",
    "for each_type in type_dict.keys():\n",
    "    print('该文件夹下共有类型为【%s】的文件 %d 个' % (each_type, type_dict[each_type]))\n"
   ]
  },
  {
   "cell_type": "code",
   "execution_count": 10,
   "metadata": {},
   "outputs": [
    {
     "name": "stdout",
     "output_type": "stream",
     "text": [
      "2048 game.ipynb【581Bytes】\n",
      "Dialog.txt【278Bytes】\n",
      "Dictionary.ipynb【11879Bytes】\n",
      "Easygui learning.ipynb【3434Bytes】\n",
      "else&with.ipynb【3548Bytes】\n",
      "Exception.ipynb【5352Bytes】\n",
      "Fish class.ipynb【5380Bytes】\n",
      "Hello.txt【36Bytes】\n",
      "huang.py【230Bytes】\n",
      "huang_write.txt【190Bytes】\n",
      "jing_write.txt【27Bytes】\n",
      "OpenMe.mp3【700Bytes】\n",
      "pickle模块.ipynb【1761Bytes】\n",
      "Poem.txt【212Bytes】\n",
      "Poem2.txt【169Bytes】\n",
      "Practise 11-Mar.ipynb【9347Bytes】\n",
      "Practise 12-Mar(2).ipynb【7668Bytes】\n",
      "Practise 12-Mar.ipynb【8605Bytes】\n",
      "Practise 13-Mar(1).ipynb【11620Bytes】\n",
      "Practise 13-Mar(2).ipynb【14700Bytes】\n",
      "Practise 8-Mar.ipynb【14911Bytes】\n",
      "Practise 9-Mar.ipynb【14199Bytes】\n",
      "Practise-7 Mar.ipynb【5299Bytes】\n",
      "Python 10-循环.ipynb【3883Bytes】\n",
      "Python 11-函数.ipynb【5402Bytes】\n",
      "Python 12-包.ipynb【4928Bytes】\n",
      "Python 13-异常.ipynb【11570Bytes】\n",
      "Python 14-文件操作.ipynb【4719Bytes】\n",
      "Python 15-类.ipynb【11285Bytes】\n",
      "Python 16-时间.ipynb【3340Bytes】\n",
      "Python 3-字符串.ipynb【8215Bytes】\n",
      "Python 4-索引.ipynb【3261Bytes】\n",
      "Python 5-List结构.ipynb【14558Bytes】\n",
      "Python 6-字典.ipynb【11639Bytes】\n",
      "Python 7-集合.ipynb【7776Bytes】\n",
      "Python 8-赋值机制.ipynb【4077Bytes】\n",
      "Python 9-判断结构.ipynb【2565Bytes】\n",
      "Python 猜数字游戏.ipynb【7237Bytes】\n",
      "Python 练习题1.ipynb【8440Bytes】\n",
      "Python 练习题2.ipynb【8616Bytes】\n",
      "Python练习题 -1.ipynb【7592Bytes】\n",
      "Pytrhon练习题-2.ipynb【6564Bytes】\n",
      "Score list.ipynb【2287Bytes】\n",
      "script.txt【391Bytes】\n",
      "TemperatureConvertor.py【140Bytes】\n",
      "test.txt【14Bytes】\n",
      "Test13.txt【44Bytes】\n",
      "tuple & format.ipynb【8305Bytes】\n",
      "videolist.txt【286Bytes】\n",
      "函数.ipynb【14876Bytes】\n",
      "对象.ipynb【26115Bytes】\n",
      "对象组合-水池类.ipynb【1636Bytes】\n",
      "文件.ipynb【5634Bytes】\n",
      "模块.ipynb【3232Bytes】\n",
      "练习 7-Mar.ipynb【5200Bytes】\n",
      "递归.ipynb【3954Bytes】\n",
      "集合.ipynb【4492Bytes】\n",
      "魔法方法-1.ipynb【7956Bytes】\n",
      "魔法方法-10模块.ipynb【1034Bytes】\n",
      "魔法方法-3.ipynb【3317Bytes】\n",
      "魔法方法-5.ipynb【7550Bytes】\n",
      "魔法方法-6.ipynb【7121Bytes】\n",
      "魔法方法-7.ipynb【8183Bytes】\n",
      "魔法方法-8.ipynb【5130Bytes】\n",
      "魔法方法-9.ipynb【6365Bytes】\n",
      "魔法方法4-计时器类.ipynb【6042Bytes】\n"
     ]
    }
   ],
   "source": [
    "import os\n",
    "\n",
    "all_files = os.listdir(os.curdir) # 使用os.curdir表示当前目录更标准\n",
    "file_dict = dict()\n",
    "\n",
    "for each_file in all_files:\n",
    "    if os.path.isfile(each_file):\n",
    "        file_size = os.path.getsize(each_file)\n",
    "        file_dict[each_file] = file_size\n",
    "\n",
    "for each in file_dict.items():\n",
    "    print('%s【%dBytes】' % (each[0], each[1]))\n"
   ]
  },
  {
   "cell_type": "code",
   "execution_count": 11,
   "metadata": {},
   "outputs": [
    {
     "name": "stdout",
     "output_type": "stream",
     "text": [
      "请将该脚本放于待查找的文件夹内，请输入关键字：is\n",
      "请问是否需要打印关键字【is】在文件中的具体位置（YES/NO）：YES\n",
      "================================================================\n",
      "在文件【F:\\Python\\Huang\\jing_write.txt】中找到关键字【is】\n",
      "关键字出现在第 1 行，第 [9] 个位置。\n",
      "================================================================\n",
      "在文件【F:\\Python\\Huang\\Poem.txt】中找到关键字【is】\n",
      "关键字出现在第 1 行，第 [10, 30] 个位置。\n",
      "关键字出现在第 2 行，第 [15] 个位置。\n",
      "关键字出现在第 3 行，第 [12] 个位置。\n",
      "关键字出现在第 4 行，第 [10] 个位置。\n",
      "================================================================\n",
      "在文件【F:\\Python\\Huang\\Poem2.txt】中找到关键字【is】\n",
      "关键字出现在第 1 行，第 [10, 30] 个位置。\n",
      "关键字出现在第 3 行，第 [12] 个位置。\n",
      "关键字出现在第 4 行，第 [10] 个位置。\n",
      "================================================================\n",
      "在文件【F:\\Python\\Huang\\Test13.txt】中找到关键字【is】\n",
      "关键字出现在第 1 行，第 [3, 6] 个位置。\n",
      "================================================================\n",
      "在文件【F:\\Python\\Huang\\videolist.txt】中找到关键字【is】\n",
      "关键字出现在第 10 行，第 [23] 个位置。\n"
     ]
    }
   ],
   "source": [
    "import os\n",
    "\n",
    "def print_pos(key_dict):\n",
    "    keys = key_dict.keys()\n",
    "    keys = sorted(keys) # 由于字典是无序的，我们这里对行数进行排序\n",
    "    for each_key in keys:\n",
    "        print('关键字出现在第 %s 行，第 %s 个位置。' % (each_key, str(key_dict[each_key])))\n",
    "\n",
    "\n",
    "def pos_in_line(line, key):\n",
    "    pos = []\n",
    "    begin = line.find(key)\n",
    "    while begin != -1:\n",
    "        pos.append(begin + 1) # 用户的角度是从1开始数\n",
    "        begin = line.find(key, begin+1) # 从下一个位置继续查找\n",
    "\n",
    "    return pos\n",
    "\n",
    "\n",
    "def search_in_file(file_name, key):\n",
    "    f = open(file_name)\n",
    "    count = 0 # 记录行数\n",
    "    key_dict = dict() # 字典，用户存放key所在具体行数对应具体位置\n",
    "    \n",
    "    for each_line in f:\n",
    "        count += 1\n",
    "        if key in each_line:\n",
    "            pos = pos_in_line(each_line, key) # key在每行对应的位置\n",
    "            key_dict[count] = pos\n",
    "    \n",
    "    f.close()\n",
    "    return key_dict\n",
    "\n",
    "\n",
    "def search_files(key, detail):    \n",
    "    all_files = os.walk(os.getcwd())\n",
    "    txt_files = []\n",
    "\n",
    "    for i in all_files:\n",
    "        for each_file in i[2]:\n",
    "            if os.path.splitext(each_file)[1] == '.txt': # 根据后缀判断是否文本文件\n",
    "                each_file = os.path.join(i[0], each_file)\n",
    "                txt_files.append(each_file)\n",
    "\n",
    "    for each_txt_file in txt_files:\n",
    "        key_dict = search_in_file(each_txt_file, key)\n",
    "        if key_dict:\n",
    "            print('================================================================')\n",
    "            print('在文件【%s】中找到关键字【%s】' % (each_txt_file, key))\n",
    "            if detail in ['YES', 'Yes', 'yes']:\n",
    "                print_pos(key_dict)\n",
    "\n",
    "\n",
    "key = input('请将该脚本放于待查找的文件夹内，请输入关键字：')\n",
    "detail = input('请问是否需要打印关键字【%s】在文件中的具体位置（YES/NO）：' % key)\n",
    "search_files(key, detail)"
   ]
  },
  {
   "cell_type": "code",
   "execution_count": null,
   "metadata": {
    "collapsed": true
   },
   "outputs": [],
   "source": []
  }
 ],
 "metadata": {
  "kernelspec": {
   "display_name": "Python 3",
   "language": "python",
   "name": "python3"
  },
  "language_info": {
   "codemirror_mode": {
    "name": "ipython",
    "version": 3
   },
   "file_extension": ".py",
   "mimetype": "text/x-python",
   "name": "python",
   "nbconvert_exporter": "python",
   "pygments_lexer": "ipython3",
   "version": "3.6.3"
  }
 },
 "nbformat": 4,
 "nbformat_minor": 2
}
