{
 "cells": [
  {
   "cell_type": "code",
   "execution_count": 1,
   "metadata": {},
   "outputs": [
    {
     "name": "stdout",
     "output_type": "stream",
     "text": [
      "\n",
      "\n",
      "\n",
      "\n",
      "\n",
      "\n",
      "\n",
      "\n",
      "\n",
      "\n",
      "\n",
      "\n",
      "\n",
      "\n",
      "\n",
      "\n",
      "\n",
      "\n",
      "\n",
      "\n",
      "\n",
      "\n",
      "\n",
      "\n",
      "\n",
      "\n",
      "\n",
      "\n",
      "\n",
      "\n",
      "\n",
      "\n",
      "\n",
      "\n",
      "\n",
      "\n",
      "\n",
      "\n",
      "\n",
      "\n",
      "\n",
      "\n",
      "\n",
      "\n",
      "\n",
      "\n",
      "\n",
      "\n",
      "\n",
      "\n",
      "\n",
      "\n",
      "\n",
      "\n",
      "\n",
      "\n",
      "\n",
      "\n",
      "\n",
      "\n",
      "\n",
      "\n",
      "\n",
      "\n",
      "\n",
      "\n",
      "\n",
      "\n",
      "\n",
      "\n",
      "\n",
      "\n",
      "\n",
      "\n",
      "\n",
      "\n",
      "\n",
      "\n",
      "\n",
      "\n",
      "\n",
      "\n",
      "\n",
      "\n",
      "\n",
      "\n",
      "\n",
      "\n",
      "\n",
      "\n",
      "\n",
      "\n",
      "\n",
      "\n",
      "\n",
      "\n",
      "\n",
      "\n",
      "\n",
      "\n",
      "\n",
      "Reply was: 1\n",
      "Reply was: 1\n",
      "Reply was: 'Button1'\n",
      "Reply was: 'msgbox'\n"
     ]
    }
   ],
   "source": [
    "import easygui as g\n",
    "g.egdemo()"
   ]
  },
  {
   "cell_type": "code",
   "execution_count": 10,
   "metadata": {},
   "outputs": [],
   "source": [
    "import random\n",
    "answer = random.randint(1,100)\n",
    "guess = g.enterbox(msg = '请猜一个数字: ', title = '猜数字游戏')\n",
    "number = int(guess)\n",
    "xiao = 0\n",
    "da = 100\n",
    "while 1:\n",
    "    if number != answer:\n",
    "        if number > answer:\n",
    "            g.msgbox('你猜的数字大了。')\n",
    "            da = number\n",
    "        elif number < answer:\n",
    "            g.msgbox('你猜的数字小了')\n",
    "            xiao = number\n",
    "        guess = g.enterbox(msg = '请重新猜一个数字: %d - %d' %(xiao,da), title = '猜数字游戏')\n",
    "        number = int(guess)\n",
    "    else:\n",
    "        g.msgbox('你猜对了！！！')\n",
    "        break"
   ]
  },
  {
   "cell_type": "code",
   "execution_count": 14,
   "metadata": {},
   "outputs": [],
   "source": [
    "columns = ['*用户名','*真实姓名','*手机号码','地址','Email']\n",
    "multbox = g.multenterbox(msg = '*用户名为必填项 \\n*真实姓名为必填项 \\n*手机号码为必填项', title = '账号中心', fields = columns)"
   ]
  },
  {
   "cell_type": "code",
   "execution_count": 15,
   "metadata": {},
   "outputs": [
    {
     "data": {
      "text/plain": [
       "['Allen', 'Bill', '123456', '33333', '23333']"
      ]
     },
     "execution_count": 15,
     "metadata": {},
     "output_type": "execute_result"
    }
   ],
   "source": [
    "multbox"
   ]
  },
  {
   "cell_type": "code",
   "execution_count": 27,
   "metadata": {},
   "outputs": [],
   "source": [
    "filedir = g.fileopenbox()\n",
    "f = open(filedir, 'r')\n",
    "content = []\n",
    "for eachline in f:\n",
    "    content.append(eachline)\n",
    "f.close()\n",
    "f = open(filedir,'w')\n",
    "revised = g.textbox(msg = '文件内容: ', title = '显示文件内容', text = content)\n",
    "f.write(revised)\n",
    "f.close()"
   ]
  },
  {
   "cell_type": "code",
   "execution_count": 39,
   "metadata": {},
   "outputs": [
    {
     "data": {
      "text/plain": [
       "14"
      ]
     },
     "execution_count": 39,
     "metadata": {},
     "output_type": "execute_result"
    }
   ],
   "source": [
    "test1 = open('TemperatureConvertor.py','r')\n",
    "count = 0\n",
    "for eachline in test1:\n",
    "    count += 1\n",
    "test1.close()\n",
    "count"
   ]
  },
  {
   "cell_type": "code",
   "execution_count": 2,
   "metadata": {},
   "outputs": [
    {
     "name": "stdout",
     "output_type": "stream",
     "text": [
      "Total code line quantity: 1066\n"
     ]
    }
   ],
   "source": [
    "import os\n",
    "import easygui as g\n",
    "codedir = g.diropenbox()\n",
    "allfile = os.listdir(path = codedir)\n",
    "pyfile = []\n",
    "count = 0\n",
    "for i in allfile:\n",
    "    if '.py' in i:\n",
    "        pyfile.append(i)\n",
    "    for x in range(len(pyfile)):\n",
    "        f = open(codedir + '\\\\' + pyfile[x], 'r')\n",
    "        for eachline in f:\n",
    "            count += 1\n",
    "        f.close()\n",
    "print('Total code line quantity: %d' %count)"
   ]
  },
  {
   "cell_type": "code",
   "execution_count": null,
   "metadata": {
    "collapsed": true
   },
   "outputs": [],
   "source": []
  }
 ],
 "metadata": {
  "kernelspec": {
   "display_name": "Python 3",
   "language": "python",
   "name": "python3"
  },
  "language_info": {
   "codemirror_mode": {
    "name": "ipython",
    "version": 3
   },
   "file_extension": ".py",
   "mimetype": "text/x-python",
   "name": "python",
   "nbconvert_exporter": "python",
   "pygments_lexer": "ipython3",
   "version": "3.6.3"
  }
 },
 "nbformat": 4,
 "nbformat_minor": 2
}
