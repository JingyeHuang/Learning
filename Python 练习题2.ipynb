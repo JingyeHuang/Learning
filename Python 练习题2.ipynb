{
 "cells": [
  {
   "cell_type": "markdown",
   "metadata": {},
   "source": [
    "（一）利用递归方法求5!"
   ]
  },
  {
   "cell_type": "code",
   "execution_count": 2,
   "metadata": {},
   "outputs": [
    {
     "name": "stdout",
     "output_type": "stream",
     "text": [
      "Recursive 5! = 120\n"
     ]
    }
   ],
   "source": [
    "def recursive(a):\n",
    "    sumvalue = 0\n",
    "    if a == 0:\n",
    "        sumvalue = 1\n",
    "    else:\n",
    "        sumvalue = a*recursive(a-1)\n",
    "    return sumvalue\n",
    "print ('Recursive 5! = %s' %(recursive(5)))"
   ]
  },
  {
   "cell_type": "markdown",
   "metadata": {},
   "source": [
    "（二）利用递归函数调用方式，将所输入的5个字符，以相反顺序打印出来"
   ]
  },
  {
   "cell_type": "code",
   "execution_count": 5,
   "metadata": {},
   "outputs": [
    {
     "name": "stdout",
     "output_type": "stream",
     "text": [
      "please input a list: alijcwil\n",
      "l\n",
      "i\n",
      "w\n",
      "c\n",
      "j\n",
      "i\n",
      "l\n",
      "a\n"
     ]
    }
   ],
   "source": [
    "def display(s,a):\n",
    "    if a == 0:\n",
    "        return\n",
    "    else:\n",
    "        print(s[a-1])\n",
    "        display(s,a-1)\n",
    "\n",
    "s = input('please input a list: ')\n",
    "length = len(s)\n",
    "display(s,length)"
   ]
  },
  {
   "cell_type": "markdown",
   "metadata": {},
   "source": [
    "（三）按逗号分隔列表"
   ]
  },
  {
   "cell_type": "code",
   "execution_count": 16,
   "metadata": {},
   "outputs": [
    {
     "name": "stdout",
     "output_type": "stream",
     "text": [
      "please input a list: huang,jing,ye,123\n",
      "['h', 'u', 'a', 'n', 'g']\n",
      "['j', 'i', 'n', 'g']\n",
      "['y', 'e']\n"
     ]
    },
    {
     "data": {
      "text/plain": [
       "['1', '2', '3']"
      ]
     },
     "execution_count": 16,
     "metadata": {},
     "output_type": "execute_result"
    }
   ],
   "source": [
    "a = input('please input a list: ')\n",
    "length = len(a)\n",
    "huang = []\n",
    "for i in range(0,length):\n",
    "    if a[i] != ',':\n",
    "        huang.append(a[i])\n",
    "    else:\n",
    "        print(huang)\n",
    "        huang = []\n",
    "huang"
   ]
  },
  {
   "cell_type": "code",
   "execution_count": 13,
   "metadata": {},
   "outputs": [
    {
     "data": {
      "text/plain": [
       "'tang,yu,di,123'"
      ]
     },
     "execution_count": 13,
     "metadata": {},
     "output_type": "execute_result"
    }
   ],
   "source": [
    "L  = ['tang','yu','di',123]\n",
    "s = ','.join(str(n) for n in L)\n",
    "s"
   ]
  },
  {
   "cell_type": "markdown",
   "metadata": {},
   "source": [
    "（四）将一个数组逆序输出"
   ]
  },
  {
   "cell_type": "code",
   "execution_count": 32,
   "metadata": {},
   "outputs": [
    {
     "data": {
      "text/plain": [
       "[1, 9, 5, 8, 7, 5]"
      ]
     },
     "execution_count": 32,
     "metadata": {},
     "output_type": "execute_result"
    }
   ],
   "source": [
    "a = [5,7,8,5,9,1]\n",
    "n = len(a)\n",
    "b=[]\n",
    "for i in range(0,n):\n",
    "    b.append(a[n-i-1])\n",
    "b"
   ]
  },
  {
   "cell_type": "code",
   "execution_count": 29,
   "metadata": {},
   "outputs": [
    {
     "name": "stdout",
     "output_type": "stream",
     "text": [
      "[5, 7, 8, 5, 9, 1]\n",
      "[1, 9, 5, 8, 7, 5]\n"
     ]
    }
   ],
   "source": [
    "a = [5,7,8,5,9,1]\n",
    "N = len(a)\n",
    "print (a)\n",
    "for i in range(int(len(a)/2)):\n",
    "    a[i],a[N-1-i] = a[N-1-i],a[i]\n",
    "print (a)"
   ]
  },
  {
   "cell_type": "markdown",
   "metadata": {},
   "source": [
    "（五）两个 3 行 3 列的矩阵，实现其对应位置的数据相加，并返回一个新矩阵"
   ]
  },
  {
   "cell_type": "code",
   "execution_count": 35,
   "metadata": {},
   "outputs": [
    {
     "name": "stdout",
     "output_type": "stream",
     "text": [
      "[11, 4, 6]\n",
      "[8, 55, 12]\n",
      "[14, 16, 99]\n"
     ]
    }
   ],
   "source": [
    "X = [[1,2,3],\n",
    "     [4,5,6],\n",
    "     [7,8,9]\n",
    "    ]\n",
    "Y = [[10,2,3],\n",
    "     [4,50,6],\n",
    "     [7,8,90]\n",
    "    ]\n",
    "Z = [[0,0,0],\n",
    "     [0,0,0],\n",
    "     [0,0,0]\n",
    "    ]\n",
    "for i in range(3):\n",
    "    for j in range(3):\n",
    "        Z[i][j] = X[i][j] + Y[i][j]\n",
    "        \n",
    "for z in Z:\n",
    "    print (z)"
   ]
  },
  {
   "cell_type": "markdown",
   "metadata": {},
   "source": [
    "（六）匿名函数求和"
   ]
  },
  {
   "cell_type": "code",
   "execution_count": 37,
   "metadata": {},
   "outputs": [
    {
     "name": "stdout",
     "output_type": "stream",
     "text": [
      "3\n"
     ]
    }
   ],
   "source": [
    "sum_value = lambda x,y:x+y\n",
    "print (sum_value(1,2))"
   ]
  },
  {
   "cell_type": "markdown",
   "metadata": {},
   "source": [
    "（七）查找字符串的位置"
   ]
  },
  {
   "cell_type": "code",
   "execution_count": 38,
   "metadata": {},
   "outputs": [
    {
     "name": "stdout",
     "output_type": "stream",
     "text": [
      "3\n"
     ]
    }
   ],
   "source": [
    "s1 = 'asdffgdhfdjhgj'\n",
    "s2 = 'ffg'\n",
    "print (s1.find(s2))"
   ]
  },
  {
   "cell_type": "markdown",
   "metadata": {},
   "source": [
    "（八）在字典中找到年龄最大的人，并输出"
   ]
  },
  {
   "cell_type": "code",
   "execution_count": 52,
   "metadata": {},
   "outputs": [
    {
     "data": {
      "text/plain": [
       "[('Natalie', 50), ('Dicky', 35), ('Jeremy', 25), ('Jimmy', 11)]"
      ]
     },
     "execution_count": 52,
     "metadata": {},
     "output_type": "execute_result"
    }
   ],
   "source": [
    "Huang = {'Dicky':35,'Jeremy':25,'Jimmy':11,'Natalie':50}\n",
    "sorted(Huang.items(), key=lambda x: (x[1],x[1]), reverse=True)"
   ]
  },
  {
   "cell_type": "code",
   "execution_count": 53,
   "metadata": {},
   "outputs": [
    {
     "name": "stdout",
     "output_type": "stream",
     "text": [
      "Natalie 50\n"
     ]
    }
   ],
   "source": [
    "Huang = {'Dicky':35,'Jeremy':25,'Jimmy':11,'Natalie':50}\n",
    "m = 'Dicky'\n",
    "for key in Huang.keys():\n",
    "    if Huang[m] < Huang[key]:\n",
    "        m = key\n",
    "print(m,Huang[m])"
   ]
  },
  {
   "cell_type": "markdown",
   "metadata": {},
   "source": [
    "（九）列表转换为字典"
   ]
  },
  {
   "cell_type": "code",
   "execution_count": 3,
   "metadata": {},
   "outputs": [
    {
     "data": {
      "text/plain": [
       "{'huang': 123, 'jing': 456, 'ye': 789}"
      ]
     },
     "execution_count": 3,
     "metadata": {},
     "output_type": "execute_result"
    }
   ],
   "source": [
    "a = ['huang','jing','ye']\n",
    "b = [123,456,789]\n",
    "l = len(a)\n",
    "z={}\n",
    "for i in range(l):\n",
    "    z[a[i]]=b[i]\n",
    "z"
   ]
  },
  {
   "cell_type": "code",
   "execution_count": 58,
   "metadata": {},
   "outputs": [
    {
     "name": "stdout",
     "output_type": "stream",
     "text": [
      "{'tang': 'yudi', 123: 456}\n"
     ]
    }
   ],
   "source": [
    "k = ['tang','yudi']\n",
    "v = [123,456]\n",
    "print (dict([k,v]))"
   ]
  },
  {
   "cell_type": "markdown",
   "metadata": {},
   "source": [
    "（十）从键盘输入一个字符串，将小写字母全部转换成大写字母，然后输出到一个磁盘文件\"test\"中保存"
   ]
  },
  {
   "cell_type": "code",
   "execution_count": 56,
   "metadata": {},
   "outputs": [
    {
     "name": "stdout",
     "output_type": "stream",
     "text": [
      "输入一个串串jvweiovjoiwedw\n",
      "JVWEIOVJOIWEDW\n"
     ]
    }
   ],
   "source": [
    "f = open('test.txt','w')\n",
    "s = input('输入一个串串')\n",
    "s = s.upper()\n",
    "f.write(s)\n",
    "f.close()\n",
    "\n",
    "f = open('test.txt','r')\n",
    "print (f.read())\n",
    "f.close()"
   ]
  },
  {
   "cell_type": "code",
   "execution_count": null,
   "metadata": {
    "collapsed": true
   },
   "outputs": [],
   "source": []
  }
 ],
 "metadata": {
  "kernelspec": {
   "display_name": "Python 3",
   "language": "python",
   "name": "python3"
  },
  "language_info": {
   "codemirror_mode": {
    "name": "ipython",
    "version": 3
   },
   "file_extension": ".py",
   "mimetype": "text/x-python",
   "name": "python",
   "nbconvert_exporter": "python",
   "pygments_lexer": "ipython3",
   "version": "3.6.3"
  }
 },
 "nbformat": 4,
 "nbformat_minor": 2
}
