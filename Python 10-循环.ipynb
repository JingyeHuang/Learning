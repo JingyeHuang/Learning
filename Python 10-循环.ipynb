{
 "cells": [
  {
   "cell_type": "markdown",
   "metadata": {},
   "source": [
    "循环结构"
   ]
  },
  {
   "cell_type": "code",
   "execution_count": 2,
   "metadata": {},
   "outputs": [
    {
     "name": "stdout",
     "output_type": "stream",
     "text": [
      "0\n",
      "1\n",
      "2\n",
      "3\n",
      "4\n",
      "5\n",
      "6\n",
      "7\n",
      "8\n",
      "9\n"
     ]
    }
   ],
   "source": [
    "huang = 0\n",
    "while huang < 10:\n",
    "    print(huang)\n",
    "    huang +=1"
   ]
  },
  {
   "cell_type": "code",
   "execution_count": 3,
   "metadata": {},
   "outputs": [
    {
     "name": "stdout",
     "output_type": "stream",
     "text": [
      "huang\n",
      "ye\n",
      "jing\n"
     ]
    }
   ],
   "source": [
    "huangj = set(['huang','jing','ye'])\n",
    "while huangj:\n",
    "    popp = huangj.pop()\n",
    "    print(popp)"
   ]
  },
  {
   "cell_type": "markdown",
   "metadata": {},
   "source": [
    "只要集合不为空，就弹出里面第一个元素"
   ]
  },
  {
   "cell_type": "code",
   "execution_count": 5,
   "metadata": {},
   "outputs": [
    {
     "name": "stdout",
     "output_type": "stream",
     "text": [
      "huang\n",
      "ye\n",
      "jing\n"
     ]
    }
   ],
   "source": [
    "huangj = set(['huang','jing','ye'])\n",
    "for a in huangj:\n",
    "    print (a)"
   ]
  },
  {
   "cell_type": "code",
   "execution_count": 7,
   "metadata": {},
   "outputs": [
    {
     "name": "stdout",
     "output_type": "stream",
     "text": [
      "123\n",
      "456\n",
      "678\n",
      "9964\n",
      "15\n",
      "64363\n",
      "785\n",
      "234\n"
     ]
    }
   ],
   "source": [
    "huang = [123,456,678,9964,15,64363,785,234]\n",
    "for i in range(8):\n",
    "    print(huang[i])"
   ]
  },
  {
   "cell_type": "code",
   "execution_count": 8,
   "metadata": {},
   "outputs": [
    {
     "name": "stdout",
     "output_type": "stream",
     "text": [
      "123\n",
      "456\n",
      "678\n",
      "9964\n",
      "15\n",
      "64363\n",
      "785\n",
      "234\n"
     ]
    }
   ],
   "source": [
    "huang = [123,456,678,9964,15,64363,785,234]\n",
    "for i in range(len(huang)):\n",
    "    print(huang[i])"
   ]
  },
  {
   "cell_type": "code",
   "execution_count": 9,
   "metadata": {},
   "outputs": [
    {
     "name": "stdout",
     "output_type": "stream",
     "text": [
      "22\n",
      "22\n",
      "44\n",
      "44\n",
      "66\n",
      "66\n"
     ]
    }
   ],
   "source": [
    "huang = [11,22,33,44,55,66,77]\n",
    "for i in huang:\n",
    "    if i%2 == 0:\n",
    "        print(i)\n",
    "    else:\n",
    "        continue\n",
    "    print (i)"
   ]
  },
  {
   "cell_type": "markdown",
   "metadata": {},
   "source": [
    "continue能中断下面语句，开始下一次循环"
   ]
  },
  {
   "cell_type": "code",
   "execution_count": 11,
   "metadata": {},
   "outputs": [
    {
     "name": "stdout",
     "output_type": "stream",
     "text": [
      "10\n",
      "10\n",
      "22\n",
      "22\n"
     ]
    }
   ],
   "source": [
    "huang = [10,22,33,44,55,66,77]\n",
    "for i in huang:\n",
    "    if i%2 == 0:\n",
    "        print(i)\n",
    "    else:\n",
    "        break\n",
    "    print (i)"
   ]
  },
  {
   "cell_type": "code",
   "execution_count": null,
   "metadata": {
    "collapsed": true
   },
   "outputs": [],
   "source": []
  }
 ],
 "metadata": {
  "kernelspec": {
   "display_name": "Python 3",
   "language": "python",
   "name": "python3"
  },
  "language_info": {
   "codemirror_mode": {
    "name": "ipython",
    "version": 3
   },
   "file_extension": ".py",
   "mimetype": "text/x-python",
   "name": "python",
   "nbconvert_exporter": "python",
   "pygments_lexer": "ipython3",
   "version": "3.6.3"
  }
 },
 "nbformat": 4,
 "nbformat_minor": 2
}
