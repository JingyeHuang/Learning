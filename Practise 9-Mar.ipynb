{
 "cells": [
  {
   "cell_type": "code",
   "execution_count": 1,
   "metadata": {},
   "outputs": [
    {
     "data": {
      "text/plain": [
       "'{1}'"
      ]
     },
     "execution_count": 1,
     "metadata": {},
     "output_type": "execute_result"
    }
   ],
   "source": [
    "\"{{1}}\".format(\"不打印\", \"打印\")"
   ]
  },
  {
   "cell_type": "code",
   "execution_count": 2,
   "metadata": {},
   "outputs": [
    {
     "data": {
      "text/plain": [
       "'I love FishC.com'"
      ]
     },
     "execution_count": 2,
     "metadata": {},
     "output_type": "execute_result"
    }
   ],
   "source": [
    "\"{a} love {b}.{c}\".format(a=\"I\", b=\"FishC\", c=\"com\")"
   ]
  },
  {
   "cell_type": "code",
   "execution_count": 5,
   "metadata": {},
   "outputs": [
    {
     "data": {
      "text/plain": [
       "'Pi =  3.14'"
      ]
     },
     "execution_count": 5,
     "metadata": {},
     "output_type": "execute_result"
    }
   ],
   "source": [
    "'{0} {1:.2f}'.format('Pi = ', 3.1415)"
   ]
  },
  {
   "cell_type": "code",
   "execution_count": 4,
   "metadata": {},
   "outputs": [
    {
     "name": "stdout",
     "output_type": "stream",
     "text": [
      "Please input a number: 100\n",
      "Decimal - > Hexadecimal: 100 -> 0x64\n",
      "Decimal - > Octal: 100 - > 0o144\n",
      "Decimal - > Binary: 100 - > 0b1100100\n",
      "Please input a number: 214\n",
      "Decimal - > Hexadecimal: 214 -> 0xd6\n",
      "Decimal - > Octal: 214 - > 0o326\n",
      "Decimal - > Binary: 214 - > 0b11010110\n",
      "Please input a number: Q\n"
     ]
    }
   ],
   "source": [
    "a = input('Please input a number: ')\n",
    "while a != 'Q':\n",
    "    number = int(a)\n",
    "    print('Decimal - > Hexadecimal: %d -> %s' %(number,hex(number)))\n",
    "    print('Decimal - > Octal: %d - > %s' %(number,oct(number)))\n",
    "    print('Decimal - > Binary: %d - > %s' %(number,bin(number)))\n",
    "    a = input('Please input a number: ')"
   ]
  },
  {
   "cell_type": "code",
   "execution_count": 6,
   "metadata": {},
   "outputs": [
    {
     "data": {
      "text/plain": [
       "'v'"
      ]
     },
     "execution_count": 6,
     "metadata": {},
     "output_type": "execute_result"
    }
   ],
   "source": [
    "max('I love google.com')"
   ]
  },
  {
   "cell_type": "code",
   "execution_count": 9,
   "metadata": {},
   "outputs": [
    {
     "data": {
      "text/plain": [
       "str"
      ]
     },
     "execution_count": 9,
     "metadata": {},
     "output_type": "execute_result"
    }
   ],
   "source": [
    "type('djwice')"
   ]
  },
  {
   "cell_type": "code",
   "execution_count": 12,
   "metadata": {
    "collapsed": true
   },
   "outputs": [],
   "source": [
    "def mysum(*args):\n",
    "    result = 0\n",
    "    for each in args:\n",
    "        if type(each) != str:\n",
    "            result += each\n",
    "        else:\n",
    "            continue\n",
    "    print(result)"
   ]
  },
  {
   "cell_type": "code",
   "execution_count": 13,
   "metadata": {},
   "outputs": [
    {
     "name": "stdout",
     "output_type": "stream",
     "text": [
      "144\n"
     ]
    }
   ],
   "source": [
    "mysum(2,45,23,51,'Hel0','dw',23)"
   ]
  },
  {
   "cell_type": "code",
   "execution_count": 14,
   "metadata": {},
   "outputs": [
    {
     "name": "stdout",
     "output_type": "stream",
     "text": [
      "5.4\n"
     ]
    }
   ],
   "source": [
    "def sum(x):\n",
    "    result = 0\n",
    "    \n",
    "    for each in x:\n",
    "        if (type(each) == int) or (type(each) == float):\n",
    "            result += each\n",
    "        else:\n",
    "            continue\n",
    "\n",
    "    return result\n",
    "\n",
    "print(sum([1, 2.1, 2.3, 'a', '1', True]))"
   ]
  },
  {
   "cell_type": "code",
   "execution_count": 15,
   "metadata": {},
   "outputs": [
    {
     "data": {
      "text/plain": [
       "9"
      ]
     },
     "execution_count": 15,
     "metadata": {},
     "output_type": "execute_result"
    }
   ],
   "source": [
    "def power(x,y):\n",
    "    return x**y\n",
    "a = power(3,2)\n",
    "a"
   ]
  },
  {
   "cell_type": "code",
   "execution_count": 73,
   "metadata": {
    "collapsed": true
   },
   "outputs": [],
   "source": [
    "def gcd(x,y):\n",
    "    divisor = y\n",
    "    remainder = x%y\n",
    "    while remainder != 0:\n",
    "        dividend = divisor\n",
    "        divisor = remainder\n",
    "        remainder = dividend%divisor\n",
    "    print(divisor)"
   ]
  },
  {
   "cell_type": "code",
   "execution_count": 74,
   "metadata": {},
   "outputs": [
    {
     "name": "stdout",
     "output_type": "stream",
     "text": [
      "6\n"
     ]
    }
   ],
   "source": [
    "gcd(246,18)"
   ]
  },
  {
   "cell_type": "code",
   "execution_count": 22,
   "metadata": {},
   "outputs": [
    {
     "data": {
      "text/plain": [
       "1"
      ]
     },
     "execution_count": 22,
     "metadata": {},
     "output_type": "execute_result"
    }
   ],
   "source": [
    "int(3/2)"
   ]
  },
  {
   "cell_type": "code",
   "execution_count": 71,
   "metadata": {
    "collapsed": true
   },
   "outputs": [],
   "source": [
    "def mybin(x):\n",
    "    binary = []\n",
    "    while x != 1:\n",
    "        remainder = x%2\n",
    "        binary.append(remainder)\n",
    "        x = int(x/2)\n",
    "    binary.append(x)\n",
    "    strbin = ''\n",
    "    for each in range(len(binary)-1,-1,-1):\n",
    "        strbin += str(binary[each])\n",
    "    return strbin"
   ]
  },
  {
   "cell_type": "code",
   "execution_count": 76,
   "metadata": {},
   "outputs": [
    {
     "data": {
      "text/plain": [
       "'111110'"
      ]
     },
     "execution_count": 76,
     "metadata": {},
     "output_type": "execute_result"
    }
   ],
   "source": [
    "Bin = mybin(62)\n",
    "Bin"
   ]
  },
  {
   "cell_type": "code",
   "execution_count": 75,
   "metadata": {},
   "outputs": [
    {
     "name": "stdout",
     "output_type": "stream",
     "text": [
      "111110\n"
     ]
    }
   ],
   "source": [
    "def Dec2Bin(dec):\n",
    "    temp = []\n",
    "    result = ''\n",
    "    \n",
    "    while dec:\n",
    "        quo = dec % 2\n",
    "        dec = dec // 2\n",
    "        temp.append(quo)\n",
    "\n",
    "    while temp:\n",
    "        result += str(temp.pop())\n",
    "    \n",
    "    return result\n",
    "\n",
    "print(Dec2Bin(62))"
   ]
  },
  {
   "cell_type": "code",
   "execution_count": 1,
   "metadata": {},
   "outputs": [
    {
     "name": "stdout",
     "output_type": "stream",
     "text": [
      "Help on built-in function print in module builtins:\n",
      "\n",
      "print(...)\n",
      "    print(value, ..., sep=' ', end='\\n', file=sys.stdout, flush=False)\n",
      "    \n",
      "    Prints the values to a stream, or to sys.stdout by default.\n",
      "    Optional keyword arguments:\n",
      "    file:  a file-like object (stream); defaults to the current sys.stdout.\n",
      "    sep:   string inserted between values, default a space.\n",
      "    end:   string appended after the last value, default a newline.\n",
      "    flush: whether to forcibly flush the stream.\n",
      "\n"
     ]
    }
   ],
   "source": [
    "help(print)"
   ]
  },
  {
   "cell_type": "code",
   "execution_count": 5,
   "metadata": {},
   "outputs": [
    {
     "name": "stdout",
     "output_type": "stream",
     "text": [
      "Please input your original string: Roses are red, violets are blue, sugar is sweet and so are you\n",
      "Please input your target string (two characters): ar\n",
      "target string was shown in orginal string 4 times.\n"
     ]
    }
   ],
   "source": [
    "def findstr():\n",
    "    ori = input('Please input your original string: ')\n",
    "    tar = input('Please input your target string (two characters): ')\n",
    "    count = 0\n",
    "    for index in range(len(ori)):\n",
    "        if ori[index] == tar[0] and ori[index+1] == tar[1]:\n",
    "            count += 1\n",
    "        else:\n",
    "            continue\n",
    "    print('target string was shown in orginal string %d times.' %count)\n",
    "\n",
    "findstr()"
   ]
  },
  {
   "cell_type": "code",
   "execution_count": 6,
   "metadata": {},
   "outputs": [
    {
     "name": "stdout",
     "output_type": "stream",
     "text": [
      "结果是： 75\n"
     ]
    }
   ],
   "source": [
    "def mFun(*param, base=3):\n",
    "    result = 0\n",
    "    for each in param:\n",
    "        result += each\n",
    "\n",
    "    result *= base\n",
    "    \n",
    "    print('结果是：', result)\n",
    "\n",
    "mFun(1, 2, 3, 4, 5, base=5)"
   ]
  },
  {
   "cell_type": "code",
   "execution_count": 7,
   "metadata": {},
   "outputs": [
    {
     "name": "stdout",
     "output_type": "stream",
     "text": [
      "结果是： 45\n"
     ]
    }
   ],
   "source": [
    "mFun(1,2,3,4,5)"
   ]
  },
  {
   "cell_type": "code",
   "execution_count": 8,
   "metadata": {},
   "outputs": [
    {
     "name": "stdout",
     "output_type": "stream",
     "text": [
      "请输入目标字符串：I went down to the river, I set down on the bank. I try to think but couldn't. So I jumped in and sank.\n",
      "请输入子字符串(两个字符)：ow\n",
      "子字符串在目标字符串中共出现 2 次\n"
     ]
    }
   ],
   "source": [
    "def findStr(desStr, subStr):\n",
    "    count = 0\n",
    "    length = len(desStr)\n",
    "    if subStr not in desStr:\n",
    "        print('在目标字符串中未找到字符串!')\n",
    "    else:\n",
    "        for each1 in range(length-1):      \n",
    "            if desStr[each1] == subStr[0]:\n",
    "                if desStr[each1+1] == subStr[1]:\n",
    "                    count += 1\n",
    "                    \n",
    "        print('子字符串在目标字符串中共出现 %d 次' % count)\n",
    "\n",
    "desStr = input('请输入目标字符串：')\n",
    "subStr = input('请输入子字符串(两个字符)：')\n",
    "findStr(desStr, subStr)"
   ]
  },
  {
   "cell_type": "code",
   "execution_count": 10,
   "metadata": {},
   "outputs": [
    {
     "name": "stdout",
     "output_type": "stream",
     "text": [
      "Please input the string: 上海自来水来自海上\n",
      "是回文联\n"
     ]
    }
   ],
   "source": [
    "def findhw(hwStr):\n",
    "    result = 1\n",
    "    for each in range(len(hwStr)//2):\n",
    "        if hwStr[each] != hwStr[len(hwStr)-1-each]:\n",
    "            result = 0\n",
    "        else:\n",
    "            continue\n",
    "    if result == 1:\n",
    "        print('是回文联')\n",
    "    else:\n",
    "        print('不是回文联')\n",
    "\n",
    "strtest = input('Please input the string: ')\n",
    "findhw(strtest)"
   ]
  },
  {
   "cell_type": "code",
   "execution_count": 12,
   "metadata": {},
   "outputs": [
    {
     "name": "stdout",
     "output_type": "stream",
     "text": [
      "Please input the string: 自挂东南枝\n",
      "不是回文联\n"
     ]
    }
   ],
   "source": [
    "strtest2 = input('Please input the string: ')\n",
    "findhw(strtest2)"
   ]
  },
  {
   "cell_type": "code",
   "execution_count": 15,
   "metadata": {},
   "outputs": [
    {
     "name": "stdout",
     "output_type": "stream",
     "text": [
      "The 1 string contain 8 characters, 0 digits, 2 space, 1 special characters.\n",
      "The 2 string contain 21 characters, 1 digits, 6 space, 1 special characters.\n",
      "The 3 string contain 6 characters, 6 digits, 3 space, 4 special characters.\n"
     ]
    }
   ],
   "source": [
    "def countstring(*args):\n",
    "    count = 0\n",
    "    for each in args:\n",
    "        alpha = 0\n",
    "        digit = 0\n",
    "        space = 0\n",
    "        special = 0\n",
    "        count += 1\n",
    "        for letter in each:\n",
    "            if letter.isalpha() == True:\n",
    "                alpha += 1\n",
    "            elif letter.isdigit() == True:\n",
    "                digit += 1\n",
    "            elif letter.isspace() == True:\n",
    "                space += 1\n",
    "            else:\n",
    "                special += 1\n",
    "        print('The %d string contain %d characters, %d digits, %d space, %d special characters.' %(count,alpha,digit,space,special))\n",
    "\n",
    "countstring('Just do it!','I love 3 things in the world!','@_@ Python 0_0 2222')"
   ]
  },
  {
   "cell_type": "code",
   "execution_count": 16,
   "metadata": {},
   "outputs": [
    {
     "name": "stdout",
     "output_type": "stream",
     "text": [
      "我在next()函数里...\n",
      "我在pre()函数里...\n"
     ]
    }
   ],
   "source": [
    "def next():\n",
    "    print('我在next()函数里...')\n",
    "    pre()\n",
    "\n",
    "def pre():\n",
    "    print('我在pre()函数里...')\n",
    "    \n",
    "next()"
   ]
  },
  {
   "cell_type": "code",
   "execution_count": 17,
   "metadata": {},
   "outputs": [
    {
     "name": "stdout",
     "output_type": "stream",
     "text": [
      "是回文联!\n"
     ]
    }
   ],
   "source": [
    "def palindrome(string):\n",
    "    list1 = list(string)\n",
    "    list2 = reversed(list1)\n",
    "    if list1 == list(list2):\n",
    "        return '是回文联!'\n",
    "    else:\n",
    "        return '不是回文联！'\n",
    "print(palindrome('上海自来水来自海上'))"
   ]
  },
  {
   "cell_type": "code",
   "execution_count": null,
   "metadata": {
    "collapsed": true
   },
   "outputs": [],
   "source": []
  }
 ],
 "metadata": {
  "kernelspec": {
   "display_name": "Python 3",
   "language": "python",
   "name": "python3"
  },
  "language_info": {
   "codemirror_mode": {
    "name": "ipython",
    "version": 3
   },
   "file_extension": ".py",
   "mimetype": "text/x-python",
   "name": "python",
   "nbconvert_exporter": "python",
   "pygments_lexer": "ipython3",
   "version": "3.6.3"
  }
 },
 "nbformat": 4,
 "nbformat_minor": 2
}
