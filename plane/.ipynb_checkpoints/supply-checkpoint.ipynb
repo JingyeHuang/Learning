{
 "cells": [
  {
   "cell_type": "code",
   "execution_count": null,
   "metadata": {
    "collapsed": true
   },
   "outputs": [],
   "source": [
    "import pygame\n",
    "from random import *\n",
    "\n",
    "class Bullet_Supply(pygame.sprite.Sprite):\n",
    "    def __init__(self, bg_size):\n",
    "        pygame.sprite.Sprite.__init__(self)\n",
    "        self.image = self.image.load('images/bullet_supply.png').convert_alpha()\n",
    "        \n",
    "        self.rect = self.image.get_rect()\n",
    "        self.width, self.height = bg_size[0], bg_size[1]\n",
    "        self.rect.left, self.rect.bottom = randint(0, self.width - self.rect.width), -100\n",
    "        self.speed = 5\n",
    "        self.active = False\n",
    "        self.mask = pygame.mask.from_surface(self.image)\n",
    "        \n",
    "    def move(self):\n",
    "        if self.rect.top < self.height:\n",
    "            self.rect.top += self.speed\n",
    "        else:\n",
    "            self.active = False\n",
    "            \n",
    "    def reset(self):\n",
    "        self.active = True\n",
    "        self.rect.left, self.rect.bottom = randint(0, self.width - self.rect.width), -100\n",
    "        \n",
    "class Bomb_Supply(pygame.sprite.Sprite):\n",
    "    def __init__(self, bg_size):\n",
    "        pygame.sprite.Sprite.__init__(self)\n",
    "        self.image = self.image.load('images/bomb_supply.png').convert_alpha()\n",
    "        \n",
    "        self.rect = self.image.get_rect()\n",
    "        self.width, self.height = bg_size[0], bg_size[1]\n",
    "        self.rect.left, self.rect.bottom = randint(0, self.width - self.rect.width), -100\n",
    "        self.speed = 5\n",
    "        self.active = False\n",
    "        self.mask = pygame.mask.from_surface(self.image)\n",
    "        \n",
    "    def move(self):\n",
    "        if self.rect.top < self.height:\n",
    "            self.rect.top += self.speed\n",
    "        else:\n",
    "            self.active = False\n",
    "            \n",
    "    def reset(self):\n",
    "        self.active = True\n",
    "        self.rect.left, self.rect.bottom = randint(0, self.width - self.rect.width), -100"
   ]
  }
 ],
 "metadata": {
  "kernelspec": {
   "display_name": "Python 3",
   "language": "python",
   "name": "python3"
  },
  "language_info": {
   "codemirror_mode": {
    "name": "ipython",
    "version": 3
   },
   "file_extension": ".py",
   "mimetype": "text/x-python",
   "name": "python",
   "nbconvert_exporter": "python",
   "pygments_lexer": "ipython3",
   "version": "3.6.3"
  }
 },
 "nbformat": 4,
 "nbformat_minor": 2
}
