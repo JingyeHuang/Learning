{
 "cells": [
  {
   "cell_type": "code",
   "execution_count": null,
   "metadata": {
    "collapsed": true
   },
   "outputs": [],
   "source": [
    "import pygame\n",
    "\n",
    "class MyPlane(pygame.sprite.Sprite):\n",
    "    def __init__(self, bg_size, ):\n",
    "        pygame.sprite.Sprite.__init__(self)\n",
    "        \n",
    "        self.image = pygame.image.load('images/me1.png').convert_alpha()\n",
    "        self.image2 = pygame.image.load('images/me2.png').convert_alpha()\n",
    "        self.rect = self.image.get_rect()\n",
    "        self.width, self.height = bg_size[0], bg_size[1]\n",
    "        self.rect.left, self.rect.top = self.width - self.rect.width // 2, self.height - self.rect.height - 60\n",
    "        self.speed = 10\n",
    "        \n",
    "    def moveUp(self):\n",
    "        if self.rect.top > 0:\n",
    "            self.rect.top -= self.speed\n",
    "        else:\n",
    "            self.rect.top = 0\n",
    "            \n",
    "    def moveDown(self):\n",
    "        if self.rect.bottom < self.height - 60:\n",
    "            self.rect.top += self.speed\n",
    "        else:\n",
    "            self.rect.bottom = self.height - 60\n",
    "            \n",
    "    def moveLeft(self):\n",
    "        if self.rect.left > 0:\n",
    "            self.rect.left -= self.speed\n",
    "        else:\n",
    "            self.rect.left = 0\n",
    "            \n",
    "    def moveRight(self):\n",
    "        if self.rect.right < self.width:\n",
    "            self.rect.left += self.speed\n",
    "        else:\n",
    "            self.rect.right = self.width\n",
    "            \n",
    "    "
   ]
  }
 ],
 "metadata": {
  "kernelspec": {
   "display_name": "Python 3",
   "language": "python",
   "name": "python3"
  },
  "language_info": {
   "codemirror_mode": {
    "name": "ipython",
    "version": 3
   },
   "file_extension": ".py",
   "mimetype": "text/x-python",
   "name": "python",
   "nbconvert_exporter": "python",
   "pygments_lexer": "ipython3",
   "version": "3.6.3"
  }
 },
 "nbformat": 4,
 "nbformat_minor": 2
}
