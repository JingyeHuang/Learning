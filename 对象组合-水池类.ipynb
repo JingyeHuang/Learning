{
 "cells": [
  {
   "cell_type": "code",
   "execution_count": 1,
   "metadata": {
    "collapsed": true
   },
   "outputs": [],
   "source": [
    "class Turtle:\n",
    "    def __init__(self,x):\n",
    "        self.num = x\n",
    "        \n",
    "class Fish:\n",
    "    def __init__(self,y):\n",
    "        self.num = y\n",
    "        \n",
    "class Pool:\n",
    "    def __init__(self,x,y):\n",
    "        self.Turtle = Turtle(x)\n",
    "        self.Fish = Fish(y)\n",
    "        \n",
    "    def print_num(self):\n",
    "        print('水池总共有鱼 %d条，乌龟 %d只' %(self.Turtle.num, self.Fish.num))"
   ]
  },
  {
   "cell_type": "code",
   "execution_count": 2,
   "metadata": {},
   "outputs": [],
   "source": [
    "Pool1 = Pool(5,10)"
   ]
  },
  {
   "cell_type": "code",
   "execution_count": 3,
   "metadata": {},
   "outputs": [
    {
     "name": "stdout",
     "output_type": "stream",
     "text": [
      "水池总共有鱼 5条，乌龟 10只\n"
     ]
    }
   ],
   "source": [
    "Pool1.print_num()"
   ]
  },
  {
   "cell_type": "code",
   "execution_count": null,
   "metadata": {
    "collapsed": true
   },
   "outputs": [],
   "source": []
  }
 ],
 "metadata": {
  "kernelspec": {
   "display_name": "Python 3",
   "language": "python",
   "name": "python3"
  },
  "language_info": {
   "codemirror_mode": {
    "name": "ipython",
    "version": 3
   },
   "file_extension": ".py",
   "mimetype": "text/x-python",
   "name": "python",
   "nbconvert_exporter": "python",
   "pygments_lexer": "ipython3",
   "version": "3.6.3"
  }
 },
 "nbformat": 4,
 "nbformat_minor": 2
}
