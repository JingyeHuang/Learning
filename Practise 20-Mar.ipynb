{
 "cells": [
  {
   "cell_type": "code",
   "execution_count": 5,
   "metadata": {
    "collapsed": true
   },
   "outputs": [],
   "source": [
    "class FileObject:\n",
    "    def __init__(self,file=''):\n",
    "        self.f = open(file,'r')\n",
    "        \n",
    "    def printf(self):\n",
    "        for eachline in self.f:\n",
    "            print(eachline)\n",
    "    \n",
    "    def __del__(self):\n",
    "        self.f.close()"
   ]
  },
  {
   "cell_type": "code",
   "execution_count": 6,
   "metadata": {
    "collapsed": true
   },
   "outputs": [],
   "source": [
    "f1 = FileObject('test.txt')"
   ]
  },
  {
   "cell_type": "code",
   "execution_count": 7,
   "metadata": {},
   "outputs": [
    {
     "name": "stdout",
     "output_type": "stream",
     "text": [
      "hahaha\n",
      "\n",
      "xsjlkjcw\n",
      "\n",
      "ajwfdoifew\n"
     ]
    }
   ],
   "source": [
    "f1.printf()"
   ]
  },
  {
   "cell_type": "code",
   "execution_count": 8,
   "metadata": {
    "collapsed": true
   },
   "outputs": [],
   "source": [
    "del f1"
   ]
  },
  {
   "cell_type": "code",
   "execution_count": 19,
   "metadata": {
    "collapsed": true
   },
   "outputs": [],
   "source": [
    "class C2F(float):\n",
    "        \"摄氏度转换为华氏度\"\n",
    "        def __new__(cls, arg=0.0):\n",
    "                return float.__new__(cls, arg * 1.8 + 32)"
   ]
  },
  {
   "cell_type": "code",
   "execution_count": 20,
   "metadata": {},
   "outputs": [
    {
     "name": "stdout",
     "output_type": "stream",
     "text": [
      "89.6\n"
     ]
    }
   ],
   "source": [
    "print(C2F(32))"
   ]
  },
  {
   "cell_type": "code",
   "execution_count": 30,
   "metadata": {
    "collapsed": true
   },
   "outputs": [],
   "source": [
    "class Nint(int):\n",
    "    def __new__(cls,inp):\n",
    "        if type(inp) == str:\n",
    "            count = 0\n",
    "            for each in inp:\n",
    "                count += ord(each)\n",
    "            return count\n",
    "        else:\n",
    "            return int.__new__(cls,inp)"
   ]
  },
  {
   "cell_type": "code",
   "execution_count": 31,
   "metadata": {},
   "outputs": [
    {
     "name": "stdout",
     "output_type": "stream",
     "text": [
      "123\n"
     ]
    }
   ],
   "source": [
    "print(Nint(123))"
   ]
  },
  {
   "cell_type": "code",
   "execution_count": 32,
   "metadata": {},
   "outputs": [
    {
     "name": "stdout",
     "output_type": "stream",
     "text": [
      "1\n"
     ]
    }
   ],
   "source": [
    "print(Nint(1.5))"
   ]
  },
  {
   "cell_type": "code",
   "execution_count": 33,
   "metadata": {},
   "outputs": [
    {
     "name": "stdout",
     "output_type": "stream",
     "text": [
      "620\n"
     ]
    }
   ],
   "source": [
    "print(Nint('Jeremy'))"
   ]
  },
  {
   "cell_type": "code",
   "execution_count": 34,
   "metadata": {
    "collapsed": true
   },
   "outputs": [],
   "source": [
    "class Nint(int):\n",
    "        def __new__(cls, arg=0):\n",
    "                if isinstance(arg, str):\n",
    "                        total = 0\n",
    "                        for each in arg:\n",
    "                                total += ord(each)\n",
    "                        arg = total\n",
    "                return int.__new__(cls, arg)"
   ]
  },
  {
   "cell_type": "code",
   "execution_count": 3,
   "metadata": {
    "collapsed": true
   },
   "outputs": [],
   "source": [
    "class Nstr(str):\n",
    "    def __sub__(self, other):\n",
    "        return self.replace(other, '')"
   ]
  },
  {
   "cell_type": "code",
   "execution_count": 4,
   "metadata": {},
   "outputs": [
    {
     "data": {
      "text/plain": [
       "'I love FshC.com!'"
      ]
     },
     "execution_count": 4,
     "metadata": {},
     "output_type": "execute_result"
    }
   ],
   "source": [
    "a = Nstr('I love FishC.com!iiiiiiii')\n",
    "b = Nstr('i')\n",
    "a - b"
   ]
  },
  {
   "cell_type": "code",
   "execution_count": 5,
   "metadata": {
    "collapsed": true
   },
   "outputs": [],
   "source": [
    "class Nstr(str):\n",
    "    def __lshift__(self,other):\n",
    "        return self[other:]+self[:other]\n",
    "    def __rshift__(self,other):\n",
    "        return self[-other:]+self[:-other]"
   ]
  },
  {
   "cell_type": "code",
   "execution_count": 6,
   "metadata": {},
   "outputs": [
    {
     "data": {
      "text/plain": [
       "'ove FishC.com!iiiiiiiiI l'"
      ]
     },
     "execution_count": 6,
     "metadata": {},
     "output_type": "execute_result"
    }
   ],
   "source": [
    "a = Nstr('I love FishC.com!iiiiiiii')\n",
    "a << 3"
   ]
  },
  {
   "cell_type": "code",
   "execution_count": 12,
   "metadata": {
    "collapsed": true
   },
   "outputs": [],
   "source": [
    "class Nstr(str):\n",
    "    def __init__(self,str1):\n",
    "        self.total = 0\n",
    "        for each in str1:\n",
    "            self.total += ord(each)\n",
    "    \n",
    "    def __add__(self,other):\n",
    "        return self.total + other.total\n",
    "    \n",
    "    def __sub__(self,other):\n",
    "        return int.__sub__(self.total,other.total)\n",
    "\n",
    "    def __mul__(self, other):\n",
    "        return self.total * other.total\n",
    "\n",
    "    def __truediv__(self, other):\n",
    "        return self.total / other.total\n",
    "\n",
    "    def __floordiv__(self, other):\n",
    "        return self.total // other.total\n",
    "        "
   ]
  },
  {
   "cell_type": "code",
   "execution_count": 13,
   "metadata": {},
   "outputs": [
    {
     "data": {
      "text/plain": [
       "-9"
      ]
     },
     "execution_count": 13,
     "metadata": {},
     "output_type": "execute_result"
    }
   ],
   "source": [
    "x = Nstr('abc')\n",
    "y = Nstr('def')\n",
    "x - y"
   ]
  },
  {
   "cell_type": "code",
   "execution_count": 14,
   "metadata": {},
   "outputs": [
    {
     "data": {
      "text/plain": [
       "899"
      ]
     },
     "execution_count": 14,
     "metadata": {},
     "output_type": "execute_result"
    }
   ],
   "source": [
    ">>> a = Nstr('FishC')\n",
    ">>> b = Nstr('love')\n",
    ">>> a + b"
   ]
  },
  {
   "cell_type": "code",
   "execution_count": 15,
   "metadata": {
    "collapsed": true
   },
   "outputs": [],
   "source": [
    "class Nstr:\n",
    "    def __init__(self, arg=''):\n",
    "        if isinstance(arg, str):\n",
    "            self.total = 0\n",
    "            for each in arg:\n",
    "                self.total += ord(each)\n",
    "        else:\n",
    "            print(\"参数错误！\")\n",
    "\n",
    "    def __add__(self, other):\n",
    "        return self.total + other.total\n",
    "\n",
    "    def __sub__(self, other):\n",
    "        return self.total - other.total\n",
    "\n",
    "    def __mul__(self, other):\n",
    "        return self.total * other.total\n",
    "\n",
    "    def __truediv__(self, other):\n",
    "        return self.total / other.total\n",
    "\n",
    "    def __floordiv__(self, other):\n",
    "        return self.total // other.total"
   ]
  },
  {
   "cell_type": "code",
   "execution_count": 16,
   "metadata": {},
   "outputs": [
    {
     "data": {
      "text/plain": [
       "1.052511415525114"
      ]
     },
     "execution_count": 16,
     "metadata": {},
     "output_type": "execute_result"
    }
   ],
   "source": [
    "a/b"
   ]
  },
  {
   "cell_type": "code",
   "execution_count": 1,
   "metadata": {
    "collapsed": true
   },
   "outputs": [],
   "source": [
    "class Nstr(int):\n",
    "    def __new__(cls, arg=0):\n",
    "        if isinstance(arg, str):\n",
    "            total = 0\n",
    "            for each in arg:\n",
    "                total += ord(each)\n",
    "            arg = total\n",
    "        return int.__new__(cls, arg)"
   ]
  },
  {
   "cell_type": "code",
   "execution_count": 2,
   "metadata": {},
   "outputs": [
    {
     "data": {
      "text/plain": [
       "True"
      ]
     },
     "execution_count": 2,
     "metadata": {},
     "output_type": "execute_result"
    }
   ],
   "source": [
    ">>> a = Nstr('FishC')\n",
    ">>> b = Nstr('love')\n",
    ">>> a > b"
   ]
  },
  {
   "cell_type": "code",
   "execution_count": null,
   "metadata": {
    "collapsed": true
   },
   "outputs": [],
   "source": []
  }
 ],
 "metadata": {
  "kernelspec": {
   "display_name": "Python 3",
   "language": "python",
   "name": "python3"
  },
  "language_info": {
   "codemirror_mode": {
    "name": "ipython",
    "version": 3
   },
   "file_extension": ".py",
   "mimetype": "text/x-python",
   "name": "python",
   "nbconvert_exporter": "python",
   "pygments_lexer": "ipython3",
   "version": "3.6.3"
  }
 },
 "nbformat": 4,
 "nbformat_minor": 2
}
