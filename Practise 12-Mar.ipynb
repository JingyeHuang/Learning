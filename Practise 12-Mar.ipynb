{
 "cells": [
  {
   "cell_type": "code",
   "execution_count": 1,
   "metadata": {
    "collapsed": true
   },
   "outputs": [],
   "source": [
    "def d2b(x):\n",
    "    if x != 1:\n",
    "        return str(d2b(x//2))+str(x%2)\n",
    "    if x == 1:\n",
    "        return '1'"
   ]
  },
  {
   "cell_type": "code",
   "execution_count": 2,
   "metadata": {},
   "outputs": [
    {
     "data": {
      "text/plain": [
       "'1111101'"
      ]
     },
     "execution_count": 2,
     "metadata": {},
     "output_type": "execute_result"
    }
   ],
   "source": [
    "d2b(125)"
   ]
  },
  {
   "cell_type": "code",
   "execution_count": 3,
   "metadata": {},
   "outputs": [
    {
     "data": {
      "text/plain": [
       "[1, 2, 3, 4, 5]"
      ]
     },
     "execution_count": 3,
     "metadata": {},
     "output_type": "execute_result"
    }
   ],
   "source": [
    "def get_digits(n):\n",
    "    str1 = str(n)\n",
    "    list1 = []\n",
    "    for each in str1:\n",
    "        list1.append(int(each))\n",
    "    return list1\n",
    "\n",
    "test = get_digits(12345)\n",
    "test"
   ]
  },
  {
   "cell_type": "code",
   "execution_count": 4,
   "metadata": {},
   "outputs": [
    {
     "name": "stdout",
     "output_type": "stream",
     "text": [
      "The fifth person is 18 years old\n"
     ]
    }
   ],
   "source": [
    "def fifth(x=10,count=5):\n",
    "    if count != 1:\n",
    "        return fifth(x+2,count-1)\n",
    "    if count == 1:\n",
    "        print('The fifth person is %d years old' %x)\n",
    "\n",
    "fifth()"
   ]
  },
  {
   "cell_type": "code",
   "execution_count": 5,
   "metadata": {},
   "outputs": [
    {
     "name": "stdout",
     "output_type": "stream",
     "text": [
      "[1, 2, 3, 4, 5]\n"
     ]
    }
   ],
   "source": [
    "result = []\n",
    "def get_digits(n):\n",
    "        if n > 0:\n",
    "                result.insert(0, n%10)\n",
    "                get_digits(n//10)\n",
    "\n",
    "get_digits(12345)\n",
    "print(result)"
   ]
  },
  {
   "cell_type": "code",
   "execution_count": 6,
   "metadata": {},
   "outputs": [
    {
     "name": "stdout",
     "output_type": "stream",
     "text": [
      "ID:   1000\n",
      "Name: 小甲鱼\n",
      "Sex   男\n"
     ]
    }
   ],
   "source": [
    "data = \"1000,小甲鱼,男\"\n",
    "MyDict = {}\n",
    "# 还记得字符串的分割方法吧，别学过就忘啦^_^\n",
    "(MyDict['id'], MyDict['name'], MyDict['sex']) = data.split(',') \n",
    "\n",
    "print(\"ID:   \" + MyDict['id'])\n",
    "print(\"Name: \" + MyDict['name'])\n",
    "print(\"Sex   \" + MyDict['sex'])"
   ]
  },
  {
   "cell_type": "code",
   "execution_count": 7,
   "metadata": {},
   "outputs": [
    {
     "name": "stdout",
     "output_type": "stream",
     "text": [
      "|--- 欢迎进入通讯录程序 ---|\n",
      "|--- 1：查询联系人资料  ---|\n",
      "|--- 2：插入新的联系人  ---|\n",
      "|--- 3：删除已有联系人  ---|\n",
      "|--- 4：退出通讯录程序  ---|\n",
      "请输入相关指令: 2\n",
      "请输入联系人姓名：Jeremy\n",
      "请输入电话号码： 66668888\n",
      "请输入相关指令: 2\n",
      "请输入联系人姓名：Kobe\n",
      "请输入电话号码： 58172432\n",
      "请输入相关指令: 2\n",
      "请输入联系人姓名：Kobe\n",
      "你输入的人已存在: Kobe:58172432\n",
      "是否修改用户资料Yes/No: No\n",
      "请输入相关指令: Ursa\n"
     ]
    },
    {
     "ename": "ValueError",
     "evalue": "invalid literal for int() with base 10: 'Ursa'",
     "output_type": "error",
     "traceback": [
      "\u001b[1;31m---------------------------------------------------------------------------\u001b[0m",
      "\u001b[1;31mValueError\u001b[0m                                Traceback (most recent call last)",
      "\u001b[1;32m<ipython-input-7-3ada07991f9e>\u001b[0m in \u001b[0;36m<module>\u001b[1;34m()\u001b[0m\n\u001b[0;32m      8\u001b[0m \u001b[1;33m\u001b[0m\u001b[0m\n\u001b[0;32m      9\u001b[0m \u001b[1;32mwhile\u001b[0m \u001b[1;36m1\u001b[0m\u001b[1;33m:\u001b[0m\u001b[1;33m\u001b[0m\u001b[0m\n\u001b[1;32m---> 10\u001b[1;33m     \u001b[0mselect\u001b[0m \u001b[1;33m=\u001b[0m \u001b[0mint\u001b[0m\u001b[1;33m(\u001b[0m\u001b[0minput\u001b[0m\u001b[1;33m(\u001b[0m\u001b[1;34m'请输入相关指令: '\u001b[0m\u001b[1;33m)\u001b[0m\u001b[1;33m)\u001b[0m\u001b[1;33m\u001b[0m\u001b[0m\n\u001b[0m\u001b[0;32m     11\u001b[0m \u001b[1;33m\u001b[0m\u001b[0m\n\u001b[0;32m     12\u001b[0m     \u001b[1;32mif\u001b[0m \u001b[0mselect\u001b[0m \u001b[1;33m==\u001b[0m \u001b[1;36m1\u001b[0m\u001b[1;33m:\u001b[0m\u001b[1;33m\u001b[0m\u001b[0m\n",
      "\u001b[1;31mValueError\u001b[0m: invalid literal for int() with base 10: 'Ursa'"
     ]
    }
   ],
   "source": [
    "print('|--- 欢迎进入通讯录程序 ---|')\n",
    "print('|--- 1：查询联系人资料  ---|')\n",
    "print('|--- 2：插入新的联系人  ---|')\n",
    "print('|--- 3：删除已有联系人  ---|')\n",
    "print('|--- 4：退出通讯录程序  ---|')\n",
    "\n",
    "contacts = dict()\n",
    "\n",
    "while 1:\n",
    "    select = int(input('请输入相关指令: '))\n",
    "    \n",
    "    if select == 1:\n",
    "        name = input('请输入联系人姓名：')\n",
    "        if name in contacts:\n",
    "            print(name, contacts[name])\n",
    "        else:\n",
    "            print('你要查询的人不存在。')\n",
    "    \n",
    "    if select == 2:\n",
    "        name = input('请输入联系人姓名：')\n",
    "        if name in contacts:\n",
    "            print('你输入的人已存在: '+ name +':' + contacts[name])\n",
    "            x = input('是否修改用户资料Yes/No: ')\n",
    "            if x == 'Yes':\n",
    "                contacts[name] = input('请输入新的电话号码： ')\n",
    "        else:\n",
    "            contacts[name] = input('请输入电话号码： ')\n",
    "    \n",
    "    if select == 3:\n",
    "        name = input('请输入要删除的姓名： ')\n",
    "        if name in contacts:\n",
    "            del(contacts[name])\n",
    "        else:\n",
    "            print('该用户不存在')\n",
    "            \n",
    "    if select == 4:\n",
    "        break\n",
    "            \n",
    "\n",
    "print('|--- 感谢使用通讯录程序 ---|')"
   ]
  },
  {
   "cell_type": "code",
   "execution_count": 8,
   "metadata": {},
   "outputs": [
    {
     "data": {
      "text/plain": [
       "{1: '数字', 3: '数字'}"
      ]
     },
     "execution_count": 8,
     "metadata": {},
     "output_type": "execute_result"
    }
   ],
   "source": [
    "dict1 = dict()\n",
    "dict1.fromkeys((1, 2, 3), ('one', 'two', 'three')) \n",
    "dict1.fromkeys((1, 3), '数字')"
   ]
  },
  {
   "cell_type": "code",
   "execution_count": 12,
   "metadata": {},
   "outputs": [],
   "source": [
    "dict2 = {1:'one',2:'two',3:'three'}"
   ]
  },
  {
   "cell_type": "code",
   "execution_count": 13,
   "metadata": {},
   "outputs": [],
   "source": [
    "dict3 = dict2.copy()"
   ]
  },
  {
   "cell_type": "code",
   "execution_count": 14,
   "metadata": {},
   "outputs": [
    {
     "data": {
      "text/plain": [
       "{1: 'one', 2: 'two', 3: 'three'}"
      ]
     },
     "execution_count": 14,
     "metadata": {},
     "output_type": "execute_result"
    }
   ],
   "source": [
    "dict3"
   ]
  },
  {
   "cell_type": "code",
   "execution_count": 15,
   "metadata": {
    "collapsed": true
   },
   "outputs": [],
   "source": [
    "dict2[4] = 'four'"
   ]
  },
  {
   "cell_type": "code",
   "execution_count": 16,
   "metadata": {},
   "outputs": [
    {
     "data": {
      "text/plain": [
       "{1: 'one', 2: 'two', 3: 'three'}"
      ]
     },
     "execution_count": 16,
     "metadata": {},
     "output_type": "execute_result"
    }
   ],
   "source": [
    "dict3"
   ]
  },
  {
   "cell_type": "code",
   "execution_count": null,
   "metadata": {
    "collapsed": true
   },
   "outputs": [],
   "source": []
  }
 ],
 "metadata": {
  "kernelspec": {
   "display_name": "Python 3",
   "language": "python",
   "name": "python3"
  },
  "language_info": {
   "codemirror_mode": {
    "name": "ipython",
    "version": 3
   },
   "file_extension": ".py",
   "mimetype": "text/x-python",
   "name": "python",
   "nbconvert_exporter": "python",
   "pygments_lexer": "ipython3",
   "version": "3.6.3"
  }
 },
 "nbformat": 4,
 "nbformat_minor": 2
}
