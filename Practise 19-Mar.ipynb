{
 "cells": [
  {
   "cell_type": "code",
   "execution_count": 4,
   "metadata": {
    "collapsed": true
   },
   "outputs": [],
   "source": [
    "import math\n",
    "import numpy\n",
    "\n",
    "class point:\n",
    "    def __init__(self):\n",
    "        self.x = int(input('Please input value of x: '))\n",
    "        self.y = int(input('Please input value of y: '))\n",
    "        return (self.x,self.y)\n",
    "        \n",
    "class line(point):\n",
    "    def __init__(self):\n",
    "        print('Plese input coordinate of A')\n",
    "        self.A = point.__init__(self)\n",
    "        print('Please input coordinate of B')\n",
    "        self.B = point.__init__(self)\n",
    "        \n",
    "    def getLen(self):\n",
    "        self.length = float(math.sqrt((self.A[0]-self.B[0])**2 + (self.A[1]-self.B[1])**2))\n",
    "        print('Length = %.4f' %self.length)"
   ]
  },
  {
   "cell_type": "code",
   "execution_count": 5,
   "metadata": {},
   "outputs": [
    {
     "name": "stdout",
     "output_type": "stream",
     "text": [
      "Plese input coordinate of A\n",
      "Please input value of x: 1\n",
      "Please input value of y: 1\n",
      "Please input coordinate of B\n",
      "Please input value of x: 2\n",
      "Please input value of y: 2\n"
     ]
    }
   ],
   "source": [
    "line1 = line()"
   ]
  },
  {
   "cell_type": "code",
   "execution_count": 6,
   "metadata": {},
   "outputs": [
    {
     "name": "stdout",
     "output_type": "stream",
     "text": [
      "Length = 1.4142\n"
     ]
    }
   ],
   "source": [
    "line1.getLen()"
   ]
  },
  {
   "cell_type": "code",
   "execution_count": 7,
   "metadata": {},
   "outputs": [
    {
     "data": {
      "text/plain": [
       "5.0"
      ]
     },
     "execution_count": 7,
     "metadata": {},
     "output_type": "execute_result"
    }
   ],
   "source": [
    "import math\n",
    "\n",
    "class Point():\n",
    "    def __init__(self, x=0, y=0):\n",
    "        self.x = x\n",
    "        self.y = y\n",
    "\n",
    "    def getX(self):\n",
    "        return self.x\n",
    "\n",
    "    def getY(self):\n",
    "        return self.y\n",
    "\n",
    "class Line():\n",
    "    def __init__(self, p1, p2):\n",
    "        self.x = p1.getX() - p2.getX()\n",
    "        self.y = p1.getY() - p2.getY()\n",
    "        self.len = math.sqrt(self.x*self.x + self.y*self.y)\n",
    "\n",
    "    def getLen(self):\n",
    "        return self.len\n",
    "\n",
    "p1 = Point(1, 1)\n",
    "p2 = Point(4, 5)\n",
    "line = Line(p1, p2)\n",
    "line.getLen()"
   ]
  },
  {
   "cell_type": "code",
   "execution_count": 3,
   "metadata": {
    "collapsed": true
   },
   "outputs": [],
   "source": [
    "class A:\n",
    "    count = 0\n",
    "    def __init__(self):\n",
    "        A.count += 1\n",
    "        \n",
    "    def __del__(self):\n",
    "        A.count -= 1"
   ]
  },
  {
   "cell_type": "code",
   "execution_count": 4,
   "metadata": {},
   "outputs": [
    {
     "data": {
      "text/plain": [
       "2"
      ]
     },
     "execution_count": 4,
     "metadata": {},
     "output_type": "execute_result"
    }
   ],
   "source": [
    "a = A()\n",
    "b = A()\n",
    "A.count"
   ]
  },
  {
   "cell_type": "code",
   "execution_count": 5,
   "metadata": {
    "collapsed": true
   },
   "outputs": [],
   "source": [
    "del a"
   ]
  },
  {
   "cell_type": "code",
   "execution_count": 6,
   "metadata": {},
   "outputs": [
    {
     "data": {
      "text/plain": [
       "1"
      ]
     },
     "execution_count": 6,
     "metadata": {},
     "output_type": "execute_result"
    }
   ],
   "source": [
    "A.count"
   ]
  },
  {
   "cell_type": "code",
   "execution_count": 23,
   "metadata": {
    "collapsed": true
   },
   "outputs": [],
   "source": [
    "class stack:\n",
    "    list1 = []\n",
    "    def isEmpty(self):\n",
    "        if len(self.list1) == 0:\n",
    "            print('The stack is empty.')\n",
    "        else:\n",
    "            print('The stack is not empty.')\n",
    "        \n",
    "    def push(self,x):\n",
    "        self.list1.append(x)\n",
    "    \n",
    "    def pop(self):\n",
    "        self.list1.pop()\n",
    "    \n",
    "    def top(self):\n",
    "        print(self.list1[-1])\n",
    "    \n",
    "    def bottom(self):\n",
    "        print(self.list1[0])"
   ]
  },
  {
   "cell_type": "code",
   "execution_count": 24,
   "metadata": {
    "collapsed": true
   },
   "outputs": [],
   "source": [
    "s1 = stack()"
   ]
  },
  {
   "cell_type": "code",
   "execution_count": 25,
   "metadata": {},
   "outputs": [
    {
     "name": "stdout",
     "output_type": "stream",
     "text": [
      "The stack is empty.\n"
     ]
    }
   ],
   "source": [
    "s1.isEmpty()"
   ]
  },
  {
   "cell_type": "code",
   "execution_count": 26,
   "metadata": {
    "collapsed": true
   },
   "outputs": [],
   "source": [
    "s1.push(3)"
   ]
  },
  {
   "cell_type": "code",
   "execution_count": 27,
   "metadata": {},
   "outputs": [
    {
     "name": "stdout",
     "output_type": "stream",
     "text": [
      "The stack is not empty.\n"
     ]
    }
   ],
   "source": [
    "s1.isEmpty()"
   ]
  },
  {
   "cell_type": "code",
   "execution_count": 28,
   "metadata": {},
   "outputs": [
    {
     "name": "stdout",
     "output_type": "stream",
     "text": [
      "3\n"
     ]
    }
   ],
   "source": [
    "s1.top()"
   ]
  },
  {
   "cell_type": "code",
   "execution_count": 29,
   "metadata": {
    "collapsed": true
   },
   "outputs": [],
   "source": [
    "s1.push(10)\n",
    "s1.push(200)"
   ]
  },
  {
   "cell_type": "code",
   "execution_count": 30,
   "metadata": {},
   "outputs": [
    {
     "name": "stdout",
     "output_type": "stream",
     "text": [
      "200\n"
     ]
    }
   ],
   "source": [
    "s1.top()"
   ]
  },
  {
   "cell_type": "code",
   "execution_count": 31,
   "metadata": {},
   "outputs": [
    {
     "name": "stdout",
     "output_type": "stream",
     "text": [
      "3\n"
     ]
    }
   ],
   "source": [
    "s1.bottom()"
   ]
  },
  {
   "cell_type": "code",
   "execution_count": 32,
   "metadata": {
    "collapsed": true
   },
   "outputs": [],
   "source": [
    "s1.pop()"
   ]
  },
  {
   "cell_type": "code",
   "execution_count": 33,
   "metadata": {},
   "outputs": [
    {
     "name": "stdout",
     "output_type": "stream",
     "text": [
      "10\n"
     ]
    }
   ],
   "source": [
    "s1.top()"
   ]
  },
  {
   "cell_type": "code",
   "execution_count": 34,
   "metadata": {
    "collapsed": true
   },
   "outputs": [],
   "source": [
    "class Stack:\n",
    "    def __init__(self, start=[]):\n",
    "        self.stack = []\n",
    "        for x in start:\n",
    "            self.push(x)\n",
    "\n",
    "    def isEmpty(self):\n",
    "        return not self.stack\n",
    "    \n",
    "    def push(self, obj):\n",
    "        self.stack.append(obj)\n",
    " \n",
    "    def pop(self):\n",
    "        if not self.stack:\n",
    "            print('警告：栈为空！')\n",
    "        else:\n",
    "            return self.stack.pop()\n",
    " \n",
    "    def top(self):\n",
    "        if not self.stack:\n",
    "            print('警告：栈为空！')\n",
    "        else:\n",
    "            return self.stack[-1]\n",
    " \n",
    "    def bottom(self):\n",
    "        if not self.stack:\n",
    "            print('警告：栈为空！')\n",
    "        else:\n",
    "            return self.stack[0]"
   ]
  },
  {
   "cell_type": "code",
   "execution_count": 1,
   "metadata": {},
   "outputs": [
    {
     "name": "stdout",
     "output_type": "stream",
     "text": [
      "It's time starting ! \n",
      "1\n",
      "3\n",
      "6\n",
      "10\n",
      "15\n",
      "21\n",
      "28\n",
      "36\n",
      "45\n",
      "55\n",
      "It's time ending ! \n",
      "It's used : 0.010088107912093925 .\n"
     ]
    }
   ],
   "source": [
    "import time\n",
    " \n",
    "def timeslong(func):\n",
    "    def call():\n",
    "        start = time.clock()\n",
    "        print(\"It's time starting ! \")\n",
    "        func()\n",
    "        print(\"It's time ending ! \")\n",
    "        end = time.clock()\n",
    "        return \"It's used : %s .\" % (end - start)\n",
    "    return call\n",
    "\n",
    "@timeslong\n",
    "def f():\n",
    "    y = 0\n",
    "    for i in range(10):\n",
    "        y = y + i + 1\n",
    "        print(y)\n",
    "    return y\n",
    "\n",
    "print(f())"
   ]
  },
  {
   "cell_type": "code",
   "execution_count": 5,
   "metadata": {},
   "outputs": [],
   "source": [
    "class C:\n",
    "    def __init__(self, size=10):\n",
    "        self.size = size\n",
    "\n",
    "    def getXSize(self):\n",
    "        return self.size\n",
    "\n",
    "    def setXSize(self, value):\n",
    "        self.size = value\n",
    "\n",
    "    def delXSize(self):\n",
    "        del self.size\n",
    "\n",
    "    x = property(getXSize,setXSize,delXSize)# 此处应该补充一句代码，程序才能正常运行"
   ]
  },
  {
   "cell_type": "code",
   "execution_count": 6,
   "metadata": {},
   "outputs": [
    {
     "data": {
      "text/plain": [
       "10"
      ]
     },
     "execution_count": 6,
     "metadata": {},
     "output_type": "execute_result"
    }
   ],
   "source": [
    "c = C()\n",
    "c.x"
   ]
  },
  {
   "cell_type": "code",
   "execution_count": 7,
   "metadata": {},
   "outputs": [
    {
     "data": {
      "text/plain": [
       "12"
      ]
     },
     "execution_count": 7,
     "metadata": {},
     "output_type": "execute_result"
    }
   ],
   "source": [
    "c.x = 12\n",
    "c.x"
   ]
  },
  {
   "cell_type": "code",
   "execution_count": 2,
   "metadata": {
    "collapsed": true
   },
   "outputs": [],
   "source": [
    "class A:\n",
    "    pass\n",
    "\n",
    "class B(A):\n",
    "    pass"
   ]
  },
  {
   "cell_type": "code",
   "execution_count": 3,
   "metadata": {
    "collapsed": true
   },
   "outputs": [],
   "source": [
    "a = A()\n",
    "b = B()"
   ]
  },
  {
   "cell_type": "code",
   "execution_count": 10,
   "metadata": {},
   "outputs": [
    {
     "name": "stdout",
     "output_type": "stream",
     "text": [
      "False\n"
     ]
    }
   ],
   "source": [
    "print(issubclass(A,B))"
   ]
  },
  {
   "cell_type": "code",
   "execution_count": 11,
   "metadata": {},
   "outputs": [
    {
     "name": "stdout",
     "output_type": "stream",
     "text": [
      "True\n"
     ]
    }
   ],
   "source": [
    "print(issubclass(B,A))"
   ]
  },
  {
   "cell_type": "code",
   "execution_count": 15,
   "metadata": {},
   "outputs": [
    {
     "data": {
      "text/plain": [
       "True"
      ]
     },
     "execution_count": 15,
     "metadata": {},
     "output_type": "execute_result"
    }
   ],
   "source": [
    "isinstance(a,A)"
   ]
  },
  {
   "cell_type": "code",
   "execution_count": 23,
   "metadata": {},
   "outputs": [
    {
     "name": "stdout",
     "output_type": "stream",
     "text": [
      "call fun\n",
      "call fun1\n",
      "call test1 \n",
      "call test\n"
     ]
    }
   ],
   "source": [
    "def test(func):  \n",
    "    func()  \n",
    "    print('call test')\n",
    "   \n",
    "def test1(f):  \n",
    "    f()  \n",
    "    print('call test1 ')\n",
    "       \n",
    "def main():  \n",
    "    @test  \n",
    "    def fun():  \n",
    "        print('call fun') \n",
    "        @test1  \n",
    "        def fun1():  \n",
    "            print('call fun1')  \n",
    "main()"
   ]
  },
  {
   "cell_type": "code",
   "execution_count": 30,
   "metadata": {},
   "outputs": [],
   "source": [
    "class C:\n",
    "    def __init__(self, size=10):\n",
    "        self.size = size\n",
    "        \n",
    "    @property\n",
    "    def x(self):\n",
    "        return self.size\n",
    "\n",
    "    @x.setter\n",
    "    def x(self, value):\n",
    "        self.size = value\n",
    "\n",
    "    @x.deleter\n",
    "    def x(self):\n",
    "        del self.size"
   ]
  },
  {
   "cell_type": "code",
   "execution_count": 32,
   "metadata": {},
   "outputs": [
    {
     "data": {
      "text/plain": [
       "10"
      ]
     },
     "execution_count": 32,
     "metadata": {},
     "output_type": "execute_result"
    }
   ],
   "source": [
    "c1 = C()\n",
    "c1.x"
   ]
  },
  {
   "cell_type": "code",
   "execution_count": 33,
   "metadata": {},
   "outputs": [
    {
     "data": {
      "text/plain": [
       "15"
      ]
     },
     "execution_count": 33,
     "metadata": {},
     "output_type": "execute_result"
    }
   ],
   "source": [
    "c1.x = 15\n",
    "c1.x"
   ]
  },
  {
   "cell_type": "code",
   "execution_count": 34,
   "metadata": {
    "collapsed": true
   },
   "outputs": [],
   "source": [
    "class Foo(object):  \n",
    "    def test(self):  #定义了实例方法  \n",
    "        print(\"object\")  \n",
    "    @classmethod  \n",
    "    def test2(clss):  #定义了类方法  \n",
    "        print(\"class\")  \n",
    "    @staticmethod  \n",
    "    def test3(): #定义了静态方法  \n",
    "        print(\"static\")"
   ]
  },
  {
   "cell_type": "code",
   "execution_count": 37,
   "metadata": {},
   "outputs": [],
   "source": [
    "ff = Foo()"
   ]
  },
  {
   "cell_type": "code",
   "execution_count": 39,
   "metadata": {},
   "outputs": [
    {
     "name": "stdout",
     "output_type": "stream",
     "text": [
      "object\n"
     ]
    }
   ],
   "source": [
    "ff.test()"
   ]
  },
  {
   "cell_type": "code",
   "execution_count": 40,
   "metadata": {},
   "outputs": [
    {
     "name": "stdout",
     "output_type": "stream",
     "text": [
      "class\n"
     ]
    }
   ],
   "source": [
    "Foo.test2()"
   ]
  },
  {
   "cell_type": "code",
   "execution_count": 41,
   "metadata": {},
   "outputs": [
    {
     "name": "stdout",
     "output_type": "stream",
     "text": [
      "static\n"
     ]
    }
   ],
   "source": [
    "Foo.test3()"
   ]
  },
  {
   "cell_type": "code",
   "execution_count": 42,
   "metadata": {},
   "outputs": [
    {
     "ename": "TypeError",
     "evalue": "test() missing 1 required positional argument: 'self'",
     "output_type": "error",
     "traceback": [
      "\u001b[1;31m---------------------------------------------------------------------------\u001b[0m",
      "\u001b[1;31mTypeError\u001b[0m                                 Traceback (most recent call last)",
      "\u001b[1;32m<ipython-input-42-4f9102f86655>\u001b[0m in \u001b[0;36m<module>\u001b[1;34m()\u001b[0m\n\u001b[1;32m----> 1\u001b[1;33m \u001b[0mFoo\u001b[0m\u001b[1;33m.\u001b[0m\u001b[0mtest\u001b[0m\u001b[1;33m(\u001b[0m\u001b[1;33m)\u001b[0m\u001b[1;33m\u001b[0m\u001b[0m\n\u001b[0m",
      "\u001b[1;31mTypeError\u001b[0m: test() missing 1 required positional argument: 'self'"
     ]
    }
   ],
   "source": [
    "Foo.test()"
   ]
  },
  {
   "cell_type": "code",
   "execution_count": 44,
   "metadata": {},
   "outputs": [],
   "source": [
    "class CodeA:\n",
    "    @staticmethod\n",
    "    def foo():\n",
    "        print(\"调用静态方法 foo()\")"
   ]
  },
  {
   "cell_type": "code",
   "execution_count": 45,
   "metadata": {},
   "outputs": [
    {
     "name": "stdout",
     "output_type": "stream",
     "text": [
      "调用静态方法 foo()\n"
     ]
    }
   ],
   "source": [
    "CodeA.foo()"
   ]
  },
  {
   "cell_type": "code",
   "execution_count": 49,
   "metadata": {},
   "outputs": [
    {
     "name": "stdout",
     "output_type": "stream",
     "text": [
      "hello, foo\n",
      "i am foo\n",
      "goodby, foo\n"
     ]
    }
   ],
   "source": [
    "def hello(fn):\n",
    "    def wrapper():\n",
    "        print('hello, %s' % fn.__name__)\n",
    "        fn()\n",
    "        print('goodby, %s' % fn.__name__)\n",
    "    return wrapper\n",
    " \n",
    "@hello\n",
    "def foo():\n",
    "    print( \"i am foo\")\n",
    " \n",
    "foo()"
   ]
  },
  {
   "cell_type": "code",
   "execution_count": 51,
   "metadata": {},
   "outputs": [
    {
     "name": "stdout",
     "output_type": "stream",
     "text": [
      "fuck GFW!\n"
     ]
    }
   ],
   "source": [
    "def fuck(fn):\n",
    "    print( \"fuck %s!\" % fn.__name__[::-1].upper())\n",
    " \n",
    "@fuck\n",
    "def wfg():\n",
    "    pass"
   ]
  },
  {
   "cell_type": "code",
   "execution_count": null,
   "metadata": {
    "collapsed": true
   },
   "outputs": [],
   "source": []
  }
 ],
 "metadata": {
  "kernelspec": {
   "display_name": "Python 3",
   "language": "python",
   "name": "python3"
  },
  "language_info": {
   "codemirror_mode": {
    "name": "ipython",
    "version": 3
   },
   "file_extension": ".py",
   "mimetype": "text/x-python",
   "name": "python",
   "nbconvert_exporter": "python",
   "pygments_lexer": "ipython3",
   "version": "3.6.3"
  }
 },
 "nbformat": 4,
 "nbformat_minor": 2
}
