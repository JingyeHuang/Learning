{
 "cells": [
  {
   "cell_type": "code",
   "execution_count": 1,
   "metadata": {
    "collapsed": true
   },
   "outputs": [],
   "source": [
    "class Person:\n",
    "    name = 'xiaojiayu'\n",
    "    def printname(self):\n",
    "        print(self.name)"
   ]
  },
  {
   "cell_type": "code",
   "execution_count": 2,
   "metadata": {
    "collapsed": true
   },
   "outputs": [],
   "source": [
    "p1 = Person()"
   ]
  },
  {
   "cell_type": "code",
   "execution_count": 3,
   "metadata": {},
   "outputs": [
    {
     "name": "stdout",
     "output_type": "stream",
     "text": [
      "xiaojiayu\n"
     ]
    }
   ],
   "source": [
    "p1.printname()"
   ]
  },
  {
   "cell_type": "code",
   "execution_count": 15,
   "metadata": {
    "collapsed": true
   },
   "outputs": [],
   "source": [
    "class Rectangle:\n",
    "    length = 5.00\n",
    "    width = 4.00\n",
    "    def getRect(self):\n",
    "        print('Length = %.2f, width = %.2f' %(self.length,self.width))\n",
    "    def setRect(self):\n",
    "        self.length = float(input('Length = '))\n",
    "        self.width = float(input('Width = '))\n",
    "    def getArea(self):\n",
    "        print('Area = %.2f' %(self.length * self.width))"
   ]
  },
  {
   "cell_type": "code",
   "execution_count": 16,
   "metadata": {},
   "outputs": [
    {
     "name": "stdout",
     "output_type": "stream",
     "text": [
      "Length = 5.00, width = 4.00\n"
     ]
    }
   ],
   "source": [
    "r1 = Rectangle()\n",
    "r1.getRect()"
   ]
  },
  {
   "cell_type": "code",
   "execution_count": 17,
   "metadata": {},
   "outputs": [
    {
     "name": "stdout",
     "output_type": "stream",
     "text": [
      "Area = 20.00\n"
     ]
    }
   ],
   "source": [
    "r1.getArea()"
   ]
  },
  {
   "cell_type": "code",
   "execution_count": 18,
   "metadata": {},
   "outputs": [
    {
     "name": "stdout",
     "output_type": "stream",
     "text": [
      "Length = 3\n",
      "Width = 3\n"
     ]
    }
   ],
   "source": [
    "r1.setRect()"
   ]
  },
  {
   "cell_type": "code",
   "execution_count": 20,
   "metadata": {},
   "outputs": [
    {
     "name": "stdout",
     "output_type": "stream",
     "text": [
      "Length = 3.00, width = 3.00\n"
     ]
    }
   ],
   "source": [
    "r1.getRect()"
   ]
  },
  {
   "cell_type": "code",
   "execution_count": 21,
   "metadata": {},
   "outputs": [
    {
     "name": "stdout",
     "output_type": "stream",
     "text": [
      "Area = 9.00\n"
     ]
    }
   ],
   "source": [
    "r1.getArea()"
   ]
  },
  {
   "cell_type": "code",
   "execution_count": 22,
   "metadata": {
    "collapsed": true
   },
   "outputs": [],
   "source": [
    "class MyClass:\n",
    "        name = 'FishC'\n",
    "        def myFun(self):\n",
    "                print(\"Hello FishC!\")"
   ]
  },
  {
   "cell_type": "code",
   "execution_count": 23,
   "metadata": {},
   "outputs": [
    {
     "data": {
      "text/plain": [
       "'FishC'"
      ]
     },
     "execution_count": 23,
     "metadata": {},
     "output_type": "execute_result"
    }
   ],
   "source": [
    "MyClass.name"
   ]
  },
  {
   "cell_type": "code",
   "execution_count": 25,
   "metadata": {},
   "outputs": [
    {
     "name": "stdout",
     "output_type": "stream",
     "text": [
      "Hello FishC!\n"
     ]
    }
   ],
   "source": [
    "m1 = MyClass()\n",
    "m1.myFun()"
   ]
  },
  {
   "cell_type": "code",
   "execution_count": 34,
   "metadata": {
    "collapsed": true
   },
   "outputs": [],
   "source": [
    "class ticket:\n",
    "    fare = 100\n",
    "    def week(self):\n",
    "        weekend = input('Is the visit on weekend? ')\n",
    "        if weekend == 'YES' or 'yes' or 'Yes':\n",
    "            self.fare = 120\n",
    "    def cost(self,child = 1,adult = 2):\n",
    "        print('Total cost = %d' %(self.fare*(child*0.5+adult)))"
   ]
  },
  {
   "cell_type": "code",
   "execution_count": 35,
   "metadata": {
    "collapsed": true
   },
   "outputs": [],
   "source": [
    "t1 = ticket()"
   ]
  },
  {
   "cell_type": "code",
   "execution_count": 36,
   "metadata": {},
   "outputs": [
    {
     "name": "stdout",
     "output_type": "stream",
     "text": [
      "Total cost = 250\n"
     ]
    }
   ],
   "source": [
    "t1.cost()"
   ]
  },
  {
   "cell_type": "code",
   "execution_count": 37,
   "metadata": {},
   "outputs": [
    {
     "name": "stdout",
     "output_type": "stream",
     "text": [
      "Is the visit on weekend? Yes\n"
     ]
    }
   ],
   "source": [
    "t1.week()"
   ]
  },
  {
   "cell_type": "code",
   "execution_count": 38,
   "metadata": {},
   "outputs": [
    {
     "name": "stdout",
     "output_type": "stream",
     "text": [
      "Total cost = 300\n"
     ]
    }
   ],
   "source": [
    "t1.cost()"
   ]
  },
  {
   "cell_type": "code",
   "execution_count": 13,
   "metadata": {},
   "outputs": [
    {
     "data": {
      "text/plain": [
       "4"
      ]
     },
     "execution_count": 13,
     "metadata": {},
     "output_type": "execute_result"
    }
   ],
   "source": [
    "import random\n",
    "random.randint(1,4)"
   ]
  },
  {
   "cell_type": "code",
   "execution_count": 1,
   "metadata": {},
   "outputs": [
    {
     "name": "stdout",
     "output_type": "stream",
     "text": [
      "Initial location: 0,4 \n",
      "Initial location: 1,9 \n",
      "Initial location: 7,10 \n",
      "Initial location: 9,3 \n",
      "Initial location: 5,9 \n",
      "Initial location: 5,4 \n",
      "Initial location: 4,4 \n",
      "Initial location: 3,3 \n",
      "Initial location: 9,10 \n",
      "Initial location: 8,4 \n",
      "Initial location: 2,8 \n",
      "A fish have been eaten\n",
      "A fish have been eaten\n",
      "A fish have been eaten\n",
      "Turtle exhausted.\n"
     ]
    }
   ],
   "source": [
    "import random as r\n",
    "class Fish:\n",
    "    step = 1\n",
    "    def __init__(self):\n",
    "        self.x = r.randint(0,10)\n",
    "        self.y = r.randint(0,10)\n",
    "        print('Initial location: %d,%d ' %(self.x,self.y))\n",
    "    def move(self):\n",
    "        if self.x == 0:\n",
    "            self.x += self.step\n",
    "        elif self.x == 10:\n",
    "            self.x -= self.step\n",
    "        elif self.y == 0:\n",
    "            self.y += self.step\n",
    "        elif self.y == 10:\n",
    "            self.y -= self.step\n",
    "        else:\n",
    "            s = r.randint(1,4)\n",
    "            if s == 1:\n",
    "                self.x += self.step\n",
    "            elif s == 2:\n",
    "                self.x -= self.step\n",
    "            elif s == 3:\n",
    "                self.y += self.step\n",
    "            else:\n",
    "                self.y -= self.step\n",
    "    def getLoc(self):\n",
    "        return self.x,self.y\n",
    "        \n",
    "class Turtle(Fish):\n",
    "    blood_bar = 100\n",
    "    def eat(self):\n",
    "        self.blood_bar += 20\n",
    "    def consume(self):\n",
    "        self.blood_bar -= 1\n",
    "    def steplength(self):\n",
    "        self.step = r.randint(1,2)\n",
    "    def getLoc(self):\n",
    "        return self.x,self.y\n",
    "        \n",
    "f0= Fish(); f1 = Fish(); f2= Fish(); f3= Fish(); f4= Fish(); f5= Fish(); f6= Fish(); f7= Fish(); f8= Fish(); f9= Fish()\n",
    "fishlist = [f0,f1,f2,f3,f4,f5,f6,f7,f8,f9]\n",
    "t1 = Turtle()\n",
    "    \n",
    "while 1:\n",
    "    for i in range(len(fishlist)):\n",
    "        if fishlist[i].getLoc() == t1.getLoc():\n",
    "            del fishlist[i]\n",
    "            t1.eat()\n",
    "            print('A fish have been eaten')\n",
    "            break\n",
    "    for i in range(len(fishlist)):\n",
    "        fishlist[i].move()\n",
    "    t1.steplength()\n",
    "    t1.move()\n",
    "    t1.consume()\n",
    "    if len(fishlist) == 0:\n",
    "        print('All fish have been eaten.')\n",
    "        break\n",
    "    if t1.blood_bar == 0:\n",
    "        print('Turtle exhausted.')\n",
    "        break"
   ]
  },
  {
   "cell_type": "code",
   "execution_count": 2,
   "metadata": {},
   "outputs": [
    {
     "data": {
      "text/plain": [
       "7"
      ]
     },
     "execution_count": 2,
     "metadata": {},
     "output_type": "execute_result"
    }
   ],
   "source": [
    "len(fishlist)"
   ]
  },
  {
   "cell_type": "code",
   "execution_count": 73,
   "metadata": {},
   "outputs": [
    {
     "name": "stdout",
     "output_type": "stream",
     "text": [
      "有一条鱼儿被吃掉了...\n",
      "有一条鱼儿被吃掉了...\n",
      "有一条鱼儿被吃掉了...\n",
      "有一条鱼儿被吃掉了...\n",
      "有一条鱼儿被吃掉了...\n",
      "有一条鱼儿被吃掉了...\n",
      "有一条鱼儿被吃掉了...\n",
      "有一条鱼儿被吃掉了...\n",
      "有一条鱼儿被吃掉了...\n",
      "有一条鱼儿被吃掉了...\n",
      "鱼儿都吃完了，游戏结束！\n"
     ]
    }
   ],
   "source": [
    "import random as r\n",
    "\n",
    "legal_x = [0, 10]\n",
    "legal_y = [0, 10]\n",
    "\n",
    "class Turtle:\n",
    "    def __init__(self):\n",
    "        # 初始体力\n",
    "        self.power = 100\n",
    "        # 初始位置随机\n",
    "        self.x = r.randint(legal_x[0], legal_x[1])\n",
    "        self.y = r.randint(legal_y[0], legal_y[1])\n",
    "\n",
    "    def move(self):\n",
    "        # 随机计算方向并移动到新的位置（x, y）\n",
    "        new_x = self.x + r.choice([1, 2, -1, -2])\n",
    "        new_y = self.y + r.choice([1, 2, -1, -2])\n",
    "        # 检查移动后是否超出场景x轴边界\n",
    "        if new_x < legal_x[0]:\n",
    "            self.x = legal_x[0] - (new_x - legal_x[0])\n",
    "        elif new_x > legal_x[1]:\n",
    "            self.x = legal_x[1] - (new_x - legal_x[1])\n",
    "        else:\n",
    "            self.x = new_x\n",
    "        # 检查移动后是否超出场景y轴边界\n",
    "        if new_y < legal_y[0]:\n",
    "            self.y = legal_y[0] - (new_y - legal_y[0])\n",
    "        elif new_y > legal_y[1]:\n",
    "            self.y = legal_y[1] - (new_y - legal_y[1])\n",
    "        else:\n",
    "            self.y = new_y        \n",
    "        # 体力消耗\n",
    "        self.power -= 1\n",
    "        # 返回移动后的新位置\n",
    "        return (self.x, self.y)\n",
    "\n",
    "    def eat(self):\n",
    "        self.power += 20\n",
    "        if self.power > 100:\n",
    "            self.power = 100\n",
    "\n",
    "class Fish:\n",
    "    def __init__(self):\n",
    "        self.x = r.randint(legal_x[0], legal_x[1])\n",
    "        self.y = r.randint(legal_y[0], legal_y[1])\n",
    "        \n",
    "    def move(self):\n",
    "        # 随机计算方向并移动到新的位置（x, y）\n",
    "        new_x = self.x + r.choice([1, -1])\n",
    "        new_y = self.y + r.choice([1, -1])\n",
    "        # 检查移动后是否超出场景x轴边界\n",
    "        if new_x < legal_x[0]:\n",
    "            self.x = legal_x[0] - (new_x - legal_x[0])\n",
    "        elif new_x > legal_x[1]:\n",
    "            self.x = legal_x[1] - (new_x - legal_x[1])\n",
    "        else:\n",
    "            self.x = new_x\n",
    "        # 检查移动后是否超出场景y轴边界\n",
    "        if new_y < legal_y[0]:\n",
    "            self.y = legal_y[0] - (new_y - legal_y[0])\n",
    "        elif new_y > legal_y[1]:\n",
    "            self.y = legal_y[1] - (new_y - legal_y[1])\n",
    "        else:\n",
    "            self.y = new_y\n",
    "        # 返回移动后的新位置\n",
    "        return (self.x, self.y)\n",
    "\n",
    "turtle = Turtle()\n",
    "fish = []\n",
    "for i in range(10):\n",
    "    new_fish = Fish()\n",
    "    fish.append(new_fish)\n",
    "\n",
    "while True:\n",
    "    if not len(fish):\n",
    "        print(\"鱼儿都吃完了，游戏结束！\")\n",
    "        break\n",
    "    if not turtle.power:\n",
    "        print(\"乌龟体力耗尽，挂掉了！\")\n",
    "        break\n",
    "\n",
    "    pos = turtle.move()\n",
    "    # 在迭代器中删除列表元素是非常危险的，经常会出现意想不到的问题，因为迭代器是直接引用列表的数据进行引用\n",
    "    # 这里我们把列表拷贝给迭代器，然后对原列表进行删除操作就不会有问题了^_^\n",
    "    for each_fish in fish[:]:\n",
    "        if each_fish.move() == pos:\n",
    "            # 鱼儿被吃掉了\n",
    "            turtle.eat()\n",
    "            fish.remove(each_fish)\n",
    "            print(\"有一条鱼儿被吃掉了...\")"
   ]
  },
  {
   "cell_type": "code",
   "execution_count": null,
   "metadata": {
    "collapsed": true
   },
   "outputs": [],
   "source": []
  }
 ],
 "metadata": {
  "kernelspec": {
   "display_name": "Python 3",
   "language": "python",
   "name": "python3"
  },
  "language_info": {
   "codemirror_mode": {
    "name": "ipython",
    "version": 3
   },
   "file_extension": ".py",
   "mimetype": "text/x-python",
   "name": "python",
   "nbconvert_exporter": "python",
   "pygments_lexer": "ipython3",
   "version": "3.6.3"
  }
 },
 "nbformat": 4,
 "nbformat_minor": 2
}
