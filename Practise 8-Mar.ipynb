{
 "cells": [
  {
   "cell_type": "code",
   "execution_count": 3,
   "metadata": {},
   "outputs": [
    {
     "name": "stdout",
     "output_type": "stream",
     "text": [
      "please input the password: djjw*lkas\n",
      "* cannot exist in password, you still have 3 chances, please try again: xa*****\n",
      "* cannot exist in password, you still have 3 chances, please try again: klcjsa\n",
      "The password is incorrect, you still have 2 chances, please try again lkdws\n",
      "The password is incorrect, you still have 1 chances, please try again Jeremy\n",
      "Password is correct! Entering the program. \n"
     ]
    }
   ],
   "source": [
    "opp = 3\n",
    "pwd = 'Jeremy'\n",
    "password = input('please input the password: ')\n",
    "\n",
    "while opp:\n",
    "    if '*' in password:\n",
    "        password = input('* cannot exist in password, you still have %d chances, please try again: ' %opp)\n",
    "        continue\n",
    "    else:\n",
    "        if password != pwd:\n",
    "            opp -= 1\n",
    "            password = input('The password is incorrect, you still have %d chances, please try again ' %opp)\n",
    "            continue\n",
    "        elif password == pwd:\n",
    "            print('Password is correct! Entering the program. ')\n",
    "            break"
   ]
  },
  {
   "cell_type": "code",
   "execution_count": 4,
   "metadata": {},
   "outputs": [
    {
     "name": "stdout",
     "output_type": "stream",
     "text": [
      "1 5 3\n",
      "3 7 0\n",
      "3 7 1\n",
      "4 0 7\n"
     ]
    }
   ],
   "source": [
    "for a in range(1,10):\n",
    "    for b in range(10):\n",
    "        for c in range(10):\n",
    "            if (a*100 + b*10 + c) == (a**3 + b**3 + c**3):\n",
    "                print(a,b,c)\n",
    "            else:\n",
    "                continue"
   ]
  },
  {
   "cell_type": "code",
   "execution_count": 9,
   "metadata": {},
   "outputs": [
    {
     "name": "stdout",
     "output_type": "stream",
     "text": [
      "0 red 2 yellow 6 blue\n",
      "0 red 3 yellow 5 blue\n",
      "1 red 1 yellow 6 blue\n",
      "1 red 2 yellow 5 blue\n",
      "1 red 3 yellow 4 blue\n",
      "2 red 0 yellow 6 blue\n",
      "2 red 1 yellow 5 blue\n",
      "2 red 2 yellow 4 blue\n",
      "2 red 3 yellow 3 blue\n",
      "3 red 0 yellow 5 blue\n",
      "3 red 1 yellow 4 blue\n",
      "3 red 2 yellow 3 blue\n",
      "3 red 3 yellow 2 blue\n"
     ]
    }
   ],
   "source": [
    "for a in range(4):\n",
    "    for b in range(4):\n",
    "        for c in range(7):\n",
    "            if a+b+c == 8:\n",
    "                print('%d red %d yellow %d blue' %(a,b,c))\n",
    "            else:\n",
    "                continue"
   ]
  },
  {
   "cell_type": "code",
   "execution_count": 10,
   "metadata": {},
   "outputs": [
    {
     "name": "stdout",
     "output_type": "stream",
     "text": [
      "153\n",
      "370\n",
      "371\n",
      "407\n"
     ]
    }
   ],
   "source": [
    "for i in range(100, 1000):\n",
    "    sum = 0\n",
    "    temp = i\n",
    "    while temp:\n",
    "        sum = sum + (temp%10) ** 3\n",
    "        temp //= 10         # 注意这里要使用地板除哦~\n",
    "    if sum == i:\n",
    "        print(i)"
   ]
  },
  {
   "cell_type": "code",
   "execution_count": 11,
   "metadata": {},
   "outputs": [
    {
     "data": {
      "text/plain": [
       "['F', 'i', 's', 'h', 'C']"
      ]
     },
     "execution_count": 11,
     "metadata": {},
     "output_type": "execute_result"
    }
   ],
   "source": [
    "name = ['F','i','h','C']\n",
    "name.insert(2,'s')\n",
    "name"
   ]
  },
  {
   "cell_type": "code",
   "execution_count": 12,
   "metadata": {},
   "outputs": [
    {
     "data": {
      "text/plain": [
       "['A', 88, 'B', 65, 'C', 96, 'D', 66, 'E', 79]"
      ]
     },
     "execution_count": 12,
     "metadata": {},
     "output_type": "execute_result"
    }
   ],
   "source": [
    "member = ['A','B','C','D','E']\n",
    "member = ['A',88,'B',65,'C',96,'D',66,'E',79]\n",
    "member"
   ]
  },
  {
   "cell_type": "code",
   "execution_count": 13,
   "metadata": {},
   "outputs": [
    {
     "name": "stdout",
     "output_type": "stream",
     "text": [
      "A\n",
      "88\n",
      "B\n",
      "65\n",
      "C\n",
      "96\n",
      "D\n",
      "66\n",
      "E\n",
      "79\n"
     ]
    }
   ],
   "source": [
    "for each in member:\n",
    "    print(each)"
   ]
  },
  {
   "cell_type": "code",
   "execution_count": 14,
   "metadata": {},
   "outputs": [
    {
     "name": "stdout",
     "output_type": "stream",
     "text": [
      "A 88\n",
      "B 65\n",
      "C 96\n",
      "D 66\n",
      "E 79\n"
     ]
    }
   ],
   "source": [
    "for index in range(0,10,2):\n",
    "    print(member[index],member[index+1])"
   ]
  },
  {
   "cell_type": "code",
   "execution_count": 16,
   "metadata": {},
   "outputs": [
    {
     "name": "stdout",
     "output_type": "stream",
     "text": [
      "[1, 2, 3, 4, 5]\n"
     ]
    }
   ],
   "source": [
    "old = [1, 2, 3, 4, 5]\n",
    "new = old\n",
    "old = [6]\n",
    "print(new)"
   ]
  },
  {
   "cell_type": "code",
   "execution_count": 18,
   "metadata": {},
   "outputs": [
    {
     "data": {
      "text/plain": [
       "[1, 7, 12, 33, 36, 46, 456]"
      ]
     },
     "execution_count": 18,
     "metadata": {},
     "output_type": "execute_result"
    }
   ],
   "source": [
    "a = [12,46,33,7,1,36,456]\n",
    "a.sort()\n",
    "a"
   ]
  },
  {
   "cell_type": "code",
   "execution_count": 20,
   "metadata": {},
   "outputs": [
    {
     "data": {
      "text/plain": [
       "[456, 46, 36, 33, 12, 7, 1]"
      ]
     },
     "execution_count": 20,
     "metadata": {},
     "output_type": "execute_result"
    }
   ],
   "source": [
    "a.sort(reverse = 1)\n",
    "a"
   ]
  },
  {
   "cell_type": "code",
   "execution_count": 21,
   "metadata": {},
   "outputs": [
    {
     "data": {
      "text/plain": [
       "[0, 1, 4, 9, 16, 25, 36, 49, 64, 81]"
      ]
     },
     "execution_count": 21,
     "metadata": {},
     "output_type": "execute_result"
    }
   ],
   "source": [
    "list1 = [i*i for i in range(10)]\n",
    "list1"
   ]
  },
  {
   "cell_type": "code",
   "execution_count": 22,
   "metadata": {},
   "outputs": [
    {
     "data": {
      "text/plain": [
       "'emy'"
      ]
     },
     "execution_count": 22,
     "metadata": {},
     "output_type": "execute_result"
    }
   ],
   "source": [
    "str1 = 'Jeremy'\n",
    "str1[3:]"
   ]
  },
  {
   "cell_type": "code",
   "execution_count": 31,
   "metadata": {},
   "outputs": [
    {
     "data": {
      "text/plain": [
       "['1.Nike:Just do it',\n",
       " '2.LiNing:一切皆有可能',\n",
       " '3.FishC:让编程改变世界',\n",
       " '4.Adidas:Impossible if nothing']"
      ]
     },
     "execution_count": 31,
     "metadata": {},
     "output_type": "execute_result"
    }
   ],
   "source": [
    "list1 = ['1.Just do it','2.一切皆有可能','3.让编程改变世界','4.Impossible if nothing']\n",
    "list2 = ['1.Nike','3.FishC','4.Adidas','2.LiNing']\n",
    "list3 = [y + ':' + x[2:] for x in list1 for y in list2 if x[0]==y[0]]\n",
    "list3"
   ]
  },
  {
   "cell_type": "code",
   "execution_count": 1,
   "metadata": {},
   "outputs": [
    {
     "data": {
      "text/plain": [
       "int"
      ]
     },
     "execution_count": 1,
     "metadata": {},
     "output_type": "execute_result"
    }
   ],
   "source": [
    "x, y, z = 1, 2, 3\n",
    "type(x)"
   ]
  },
  {
   "cell_type": "code",
   "execution_count": 2,
   "metadata": {},
   "outputs": [
    {
     "data": {
      "text/plain": [
       "tuple"
      ]
     },
     "execution_count": 2,
     "metadata": {},
     "output_type": "execute_result"
    }
   ],
   "source": [
    "h = x, y, z\n",
    "type(h)"
   ]
  },
  {
   "cell_type": "code",
   "execution_count": 4,
   "metadata": {},
   "outputs": [
    {
     "data": {
      "text/plain": [
       "'www.google.com'"
      ]
     },
     "execution_count": 4,
     "metadata": {},
     "output_type": "execute_result"
    }
   ],
   "source": [
    "str1 = 'vcwaklefjwww.google.comwclwjcilew'\n",
    "str1[9:23]"
   ]
  },
  {
   "cell_type": "code",
   "execution_count": 5,
   "metadata": {},
   "outputs": [
    {
     "data": {
      "text/plain": [
       "'www.google.com'"
      ]
     },
     "execution_count": 5,
     "metadata": {},
     "output_type": "execute_result"
    }
   ],
   "source": [
    "str1[-24:-10]"
   ]
  },
  {
   "cell_type": "code",
   "execution_count": 14,
   "metadata": {},
   "outputs": [
    {
     "name": "stdout",
     "output_type": "stream",
     "text": [
      "Please input your password: ijewiof328\n",
      "1\n",
      "1\n",
      "0\n",
      "True\n",
      "Your password security level is medium.\n",
      "To enhance your password security level, please: \n",
      "1.Password must contain digit, characters and special characters\n",
      "2.Password should begin with a character\n",
      "3.Password length should be longer than 16\n"
     ]
    }
   ],
   "source": [
    "pwd = input('Please input your password: ')\n",
    "s = list(pwd)\n",
    "alpha = 0\n",
    "digit = 0\n",
    "special = 0\n",
    "\n",
    "for i in s:\n",
    "    if i.isalpha() == True:\n",
    "        alpha = 1\n",
    "    elif i.isdigit() == True:\n",
    "        digit = 1\n",
    "    else:\n",
    "        special = 1\n",
    "\n",
    "print(alpha); print(digit); print(special); print(pwd[0].isalpha())\n",
    "\n",
    "if (pwd.isalpha() == True or pwd.isdigit() == True) and len(pwd)<= 8 :\n",
    "    print('Your password security level is low.')\n",
    "    print('To enhance your password security level, please: ')\n",
    "    print('1.Password must contain digit, characters and special characters')\n",
    "    print('2.Password should begin with a character')\n",
    "    print('3.Password length should be longer than 16')\n",
    "elif alpha == 1 and digit == 1 and special == 1 and len(pwd)>=16 and pwd[0].isalpha() == True:\n",
    "    print('Your password security level is high.')\n",
    "    print('Please maintain your password security level')\n",
    "    \n",
    "else:\n",
    "    print('Your password security level is medium.')\n",
    "    print('To enhance your password security level, please: ')\n",
    "    print('1.Password must contain digit, characters and special characters')\n",
    "    print('2.Password should begin with a character')\n",
    "    print('3.Password length should be longer than 16')"
   ]
  },
  {
   "cell_type": "code",
   "execution_count": 5,
   "metadata": {},
   "outputs": [
    {
     "name": "stdout",
     "output_type": "stream",
     "text": [
      "I love FishC.com!\n"
     ]
    }
   ],
   "source": [
    "'''这是一个三引号字符串用于注释的例子，\n",
    "例子虽然只是简简单单的一句话，\n",
    "却毫无遮掩地体现了作者用情至深，\n",
    "所谓爱至深处情至简！'''\n",
    "\n",
    "print(\"I love FishC.com!\")"
   ]
  },
  {
   "cell_type": "code",
   "execution_count": 6,
   "metadata": {},
   "outputs": [
    {
     "name": "stdout",
     "output_type": "stream",
     "text": [
      "请输入需要检查的密码组合：2135324\n",
      "您的密码安全级别评定为：低\n",
      "请按以下方式提升您的密码安全级别：\n",
      "    \t1. 密码必须由数字、字母及特殊字符三种组合\n",
      "    \t2. 密码只能由字母开头\n",
      "    \t3. 密码长度不能低于16位\n"
     ]
    }
   ],
   "source": [
    "\n",
    "# 密码安全性检查代码\n",
    "#\n",
    "# 低级密码要求：\n",
    "#   1. 密码由单纯的数字或字母组成\n",
    "#   2. 密码长度小于等于8位\n",
    "#\n",
    "# 中级密码要求：\n",
    "#   1. 密码必须由数字、字母或特殊字符（仅限：~!@#$%^&*()_=-/,.?<>;:[]{}|\\）任意两种组合\n",
    "#   2. 密码长度不能低于8位\n",
    "#\n",
    "# 高级密码要求：\n",
    "#   1. 密码必须由数字、字母及特殊字符（仅限：~!@#$%^&*()_=-/,.?<>;:[]{}|\\）三种组合\n",
    "#   2. 密码只能由字母开头\n",
    "#   3. 密码长度不能低于16位\n",
    "\n",
    "symbols = r'''`!@#$%^&*()_+-=/*{}[]\\|'\";:/?,.<>'''\n",
    "chars = 'abcdefghijklmnopqrstuvwxyzABCDEFGHIJKLMNOPQRSTUVWXYZ'\n",
    "nums = '0123456789'\n",
    "\n",
    "passwd = input('请输入需要检查的密码组合：')\n",
    "\n",
    "# 判断长度\n",
    "length = len(passwd)\n",
    "\n",
    "while (passwd.isspace() or length == 0) :\n",
    "    passwd = input(\"您输入的密码为空（或空格），请重新输入：\")\n",
    "    length = len(passwd)\n",
    "\n",
    "if length <= 8:\n",
    "    flag_len = 1\n",
    "elif 8 < length < 16:\n",
    "    flag_len = 2\n",
    "else:\n",
    "    flag_len = 3\n",
    "\n",
    "flag_con = 0\n",
    "\n",
    "# 判断是否包含特殊字符\n",
    "for each in passwd:\n",
    "    if each in symbols:\n",
    "        flag_con += 1\n",
    "        break\n",
    "    \n",
    "# 判断是否包含字母\n",
    "for each in passwd:\n",
    "    if each in chars:\n",
    "        flag_con += 1\n",
    "        break\n",
    "\n",
    "# 判断是否包含数字\n",
    "for each in passwd:\n",
    "    if each in nums:\n",
    "        flag_con += 1\n",
    "        break    \n",
    "\n",
    "# 打印结果\n",
    "while 1 :\n",
    "    print(\"您的密码安全级别评定为：\", end='')\n",
    "    if flag_len == 1 or flag_con == 1 :\n",
    "        print(\"低\")\n",
    "    elif flag_len == 3 and flag_con == 3 and (passwd[0] in chars):\n",
    "        print(\"高\")\n",
    "        print(\"请继续保持\")\n",
    "        break\n",
    "    else:\n",
    "        print(\"中\")\n",
    "\n",
    "    print(\"请按以下方式提升您的密码安全级别：\\n\\\n",
    "    \\t1. 密码必须由数字、字母及特殊字符三种组合\\n\\\n",
    "    \\t2. 密码只能由字母开头\\n\\\n",
    "    \\t3. 密码长度不能低于16位\")\n",
    "    break"
   ]
  },
  {
   "cell_type": "code",
   "execution_count": null,
   "metadata": {
    "collapsed": true
   },
   "outputs": [],
   "source": []
  }
 ],
 "metadata": {
  "kernelspec": {
   "display_name": "Python 3",
   "language": "python",
   "name": "python3"
  },
  "language_info": {
   "codemirror_mode": {
    "name": "ipython",
    "version": 3
   },
   "file_extension": ".py",
   "mimetype": "text/x-python",
   "name": "python",
   "nbconvert_exporter": "python",
   "pygments_lexer": "ipython3",
   "version": "3.6.3"
  }
 },
 "nbformat": 4,
 "nbformat_minor": 2
}
