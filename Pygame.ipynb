{
 "cells": [
  {
   "cell_type": "code",
   "execution_count": 1,
   "metadata": {},
   "outputs": [
    {
     "ename": "SyntaxError",
     "evalue": "invalid syntax (<ipython-input-1-563bcb2b4918>, line 30)",
     "output_type": "error",
     "traceback": [
      "\u001b[1;36m  File \u001b[1;32m\"<ipython-input-1-563bcb2b4918>\"\u001b[1;36m, line \u001b[1;32m30\u001b[0m\n\u001b[1;33m    pygame.draw.arc(screen,RED, (100,100, 440,100), math.pi, math.pi*2 1)\u001b[0m\n\u001b[1;37m                                                                       ^\u001b[0m\n\u001b[1;31mSyntaxError\u001b[0m\u001b[1;31m:\u001b[0m invalid syntax\n"
     ]
    }
   ],
   "source": [
    "import pygame\n",
    "import sys\n",
    "import math\n",
    "from pygame.locals import *\n",
    "\n",
    "pygame.init()\n",
    "\n",
    "WHITE = (255,255,255)\n",
    "BLACK = (0,0,0)\n",
    "GREEN = (0,255,0)\n",
    "RED = (255,0,0)\n",
    "BLUE = (0,0,255)\n",
    "\n",
    "points = [(200,75),(300,25),(400,75),(450,25),(450, 125),(400,75),(300,125)]\n",
    "\n",
    "size = width,height = 800,400\n",
    "\n",
    "clock = pygame.time.Clock()\n",
    "screen = pygame.display.set_mode(size)\n",
    "pygame.display.set_caption('First pygame')\n",
    "\n",
    "while True:\n",
    "    for event in pygame.event.get():\n",
    "        if event.type == QUIT:\n",
    "            sys.exit()\n",
    "    \n",
    "    screen.fill(WHITE)\n",
    "    \n",
    "    pygame.draw.arc(screen,RED, (100,100, 440,100), 0,math.pi, 1)\n",
    "    pygame.draw.arc(screen,RED, (100,100, 440,100), math.pi, math.pi*2, 1)\n",
    "    \n",
    "    pygame.draw.lines(screen, GREEN, 1, points, 1)\n",
    "    pygame.draw.line(screen, GREEN, (100,80),(540,250), 1)\n",
    "    pygame.draw.aaline(screen, RED, (200,80),(640,250), 1)\n",
    "    \n",
    "    pygame.display.flip()\n",
    "    \n",
    "    clock.tick(20)"
   ]
  },
  {
   "cell_type": "code",
   "execution_count": null,
   "metadata": {
    "collapsed": true
   },
   "outputs": [],
   "source": []
  }
 ],
 "metadata": {
  "kernelspec": {
   "display_name": "Python 3",
   "language": "python",
   "name": "python3"
  },
  "language_info": {
   "codemirror_mode": {
    "name": "ipython",
    "version": 3
   },
   "file_extension": ".py",
   "mimetype": "text/x-python",
   "name": "python",
   "nbconvert_exporter": "python",
   "pygments_lexer": "ipython3",
   "version": "3.6.3"
  }
 },
 "nbformat": 4,
 "nbformat_minor": 2
}
