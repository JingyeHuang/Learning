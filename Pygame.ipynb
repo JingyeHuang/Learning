{
 "cells": [
  {
   "cell_type": "code",
   "execution_count": 1,
   "metadata": {},
   "outputs": [
    {
     "ename": "SystemExit",
     "evalue": "",
     "output_type": "error",
     "traceback": [
      "An exception has occurred, use %tb to see the full traceback.\n",
      "\u001b[1;31mSystemExit\u001b[0m\n"
     ]
    },
    {
     "name": "stderr",
     "output_type": "stream",
     "text": [
      "F:\\Python\\Anaconda\\lib\\site-packages\\IPython\\core\\interactiveshell.py:2870: UserWarning: To exit: use 'exit', 'quit', or Ctrl-D.\n",
      "  warn(\"To exit: use 'exit', 'quit', or Ctrl-D.\", stacklevel=1)\n"
     ]
    }
   ],
   "source": [
    "import pygame\n",
    "import sys\n",
    "from pygame.locals import *\n",
    "from random import *\n",
    "\n",
    "class Ball(pygame.sprite.Sprite):\n",
    "    def __init__(self, image, position, speed, bg_size):\n",
    "        pygame.sprite.Sprite.__init__(self)\n",
    "        \n",
    "        self.image = pygame.image.load(image).convert_alpha()\n",
    "        #convert_alpha are used to convert surfaces to the same pixel format as used by the screen. This ensures that you won't lose performance because of conversions when you're blitting them to the screen.\n",
    "        self.rect = self.image.get_rect()\n",
    "        self.rect.left, self.rect.top = position\n",
    "        self.speed = speed\n",
    "        self.width, self.height = bg_size[0], bg_size[1]\n",
    "        \n",
    "    def move(self):\n",
    "        self.rect = self.rect.move(self.speed)\n",
    "        \n",
    "        if self.rect.right < 0:\n",
    "            self.rect.left = self.width\n",
    "            \n",
    "        elif self.rect.left > self.width:\n",
    "            self.rect.right = 0\n",
    "        \n",
    "        elif self.rect.top > self.height:\n",
    "            self.rect.bottom = 0\n",
    "        \n",
    "        elif self.rect.bottom < 0:\n",
    "            self.rect.top = self.height\n",
    "        \n",
    "def main():\n",
    "    pygame.init()\n",
    "    \n",
    "    ball_image = 'gray_ball.png'\n",
    "    bg_image = 'background.png'\n",
    "    \n",
    "    running = True\n",
    "    \n",
    "    bg_size = width, height = 1024, 680\n",
    "    screen = pygame.display.set_mode(bg_size)\n",
    "    pygame.display.set_caption('Play the Balls')\n",
    "    \n",
    "    background = pygame.image.load(bg_image).convert_alpha()\n",
    "    \n",
    "    balls = []\n",
    "    \n",
    "    for i in range(5):\n",
    "        position = randint(0, width-100), randint(0, height-100)   #the width of the ball is 100\n",
    "        speed = [randint(-10,10), randint(-10,10)]\n",
    "        ball = Ball(ball_image, position, speed, bg_size)\n",
    "        balls.append(ball)\n",
    "    \n",
    "    clock = pygame.time.Clock()\n",
    "    \n",
    "    while running:\n",
    "        for event in pygame.event.get():\n",
    "            if event.type == QUIT:\n",
    "                sys.exit()\n",
    "                \n",
    "        screen.blit(background,(0,0))\n",
    "        \n",
    "        for each in balls:\n",
    "            each.move()\n",
    "            screen.blit(each.image, each.rect)\n",
    "            \n",
    "        pygame.display.flip()\n",
    "        clock.tick(30)\n",
    "                \n",
    "    \n",
    "if __name__ == '__main__':\n",
    "    main()"
   ]
  },
  {
   "cell_type": "code",
   "execution_count": null,
   "metadata": {
    "collapsed": true
   },
   "outputs": [],
   "source": []
  }
 ],
 "metadata": {
  "kernelspec": {
   "display_name": "Python 3",
   "language": "python",
   "name": "python3"
  },
  "language_info": {
   "codemirror_mode": {
    "name": "ipython",
    "version": 3
   },
   "file_extension": ".py",
   "mimetype": "text/x-python",
   "name": "python",
   "nbconvert_exporter": "python",
   "pygments_lexer": "ipython3",
   "version": "3.6.3"
  }
 },
 "nbformat": 4,
 "nbformat_minor": 2
}
