{
 "cells": [
  {
   "cell_type": "markdown",
   "metadata": {},
   "source": [
    "Python3 的递归深度是100层，可通过下面命令自己设置递归深度。（网络爬虫有用）"
   ]
  },
  {
   "cell_type": "code",
   "execution_count": 1,
   "metadata": {
    "collapsed": true
   },
   "outputs": [],
   "source": [
    "import sys\n",
    "sys.setrecursionlimit(20000)"
   ]
  },
  {
   "cell_type": "code",
   "execution_count": 4,
   "metadata": {
    "collapsed": true
   },
   "outputs": [],
   "source": [
    "def huang(x):\n",
    "    if x != 1:\n",
    "        return x * huang(x-1)\n",
    "    else:\n",
    "        return 1"
   ]
  },
  {
   "cell_type": "code",
   "execution_count": 5,
   "metadata": {},
   "outputs": [
    {
     "data": {
      "text/plain": [
       "120"
      ]
     },
     "execution_count": 5,
     "metadata": {},
     "output_type": "execute_result"
    }
   ],
   "source": [
    "huang(5)"
   ]
  },
  {
   "cell_type": "markdown",
   "metadata": {},
   "source": [
    "每次调用函数都要进行压栈，弹栈等操作，非常消耗内存。"
   ]
  },
  {
   "cell_type": "code",
   "execution_count": 8,
   "metadata": {},
   "outputs": [],
   "source": [
    "def Fibonacci(x):\n",
    "    if x == 1 or x == 2:\n",
    "        return 1\n",
    "    else:\n",
    "        return Fibonacci(x-1) + Fibonacci(x-2)"
   ]
  },
  {
   "cell_type": "code",
   "execution_count": 9,
   "metadata": {},
   "outputs": [
    {
     "data": {
      "text/plain": [
       "2"
      ]
     },
     "execution_count": 9,
     "metadata": {},
     "output_type": "execute_result"
    }
   ],
   "source": [
    "Fibonacci(3)"
   ]
  },
  {
   "cell_type": "code",
   "execution_count": 10,
   "metadata": {},
   "outputs": [
    {
     "data": {
      "text/plain": [
       "55"
      ]
     },
     "execution_count": 10,
     "metadata": {},
     "output_type": "execute_result"
    }
   ],
   "source": [
    "Fibonacci(10)"
   ]
  },
  {
   "cell_type": "code",
   "execution_count": 11,
   "metadata": {},
   "outputs": [
    {
     "data": {
      "text/plain": [
       "144"
      ]
     },
     "execution_count": 11,
     "metadata": {},
     "output_type": "execute_result"
    }
   ],
   "source": [
    "Fibonacci(12)"
   ]
  },
  {
   "cell_type": "markdown",
   "metadata": {},
   "source": [
    "Fibonacci数列如果用循环来做非常麻烦，但用递归就很简单了。"
   ]
  },
  {
   "cell_type": "markdown",
   "metadata": {},
   "source": [
    "Hanoi游戏"
   ]
  },
  {
   "cell_type": "code",
   "execution_count": 8,
   "metadata": {},
   "outputs": [
    {
     "name": "stdout",
     "output_type": "stream",
     "text": [
      "请输入汉诺塔层数： 4\n",
      "x --> y\n",
      "x --> z\n",
      "y --> z\n",
      "x --> y\n",
      "z --> x\n",
      "z --> y\n",
      "x --> y\n",
      "x --> z\n",
      "y --> z\n",
      "y --> x\n",
      "z --> x\n",
      "y --> z\n",
      "x --> y\n",
      "x --> z\n",
      "y --> z\n"
     ]
    }
   ],
   "source": [
    "def hanoi(n,x,y,z):\n",
    "    if n == 1:\n",
    "        print(x, '-->' , z)\n",
    "    else:\n",
    "        hanoi(n-1,x,z,y)#将前n-1个盘子从x移到y上\n",
    "        print(x, '-->' , z) #将最底下的最后一个盘子从x移到z\n",
    "        hanoi(n-1,y,x,z)#将y上n-1个盘子移动到z上\n",
    "\n",
    "n = int(input('请输入汉诺塔层数： '))\n",
    "hanoi(n,'x','y','z')"
   ]
  },
  {
   "cell_type": "markdown",
   "metadata": {},
   "source": [
    "hanoi(n,x,y,z)函数意思是把n个盘子从x移动到z"
   ]
  },
  {
   "cell_type": "code",
   "execution_count": null,
   "metadata": {
    "collapsed": true
   },
   "outputs": [],
   "source": []
  }
 ],
 "metadata": {
  "kernelspec": {
   "display_name": "Python 3",
   "language": "python",
   "name": "python3"
  }
 },
 "nbformat": 4,
 "nbformat_minor": 2
}
