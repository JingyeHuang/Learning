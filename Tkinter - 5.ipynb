{
 "cells": [
  {
   "cell_type": "code",
   "execution_count": 1,
   "metadata": {},
   "outputs": [
    {
     "name": "stdout",
     "output_type": "stream",
     "text": [
      "hello\n",
      "hello\n"
     ]
    }
   ],
   "source": [
    "from tkinter import *\n",
    "\n",
    "root = Tk()\n",
    "\n",
    "def callback():\n",
    "    print('hello')\n",
    "    \n",
    "menubar = Menu(root)\n",
    "menubar.add_command(label='Hello',command=callback)\n",
    "\n",
    "root.config(menu=menubar)\n",
    "\n",
    "mainloop()"
   ]
  },
  {
   "cell_type": "code",
   "execution_count": 4,
   "metadata": {
    "collapsed": true
   },
   "outputs": [],
   "source": [
    "from tkinter import *\n",
    "\n",
    "root = Tk()\n",
    "\n",
    "def callback():\n",
    "    print('hello')\n",
    "    \n",
    "menubar = Menu(root)\n",
    "\n",
    "filemenu = Menu(menubar, tearoff=True)\n",
    "filemenu.add_command(label='Open',command=callback)\n",
    "filemenu.add_command(label='Save',command=callback)\n",
    "filemenu.add_separator()\n",
    "filemenu.add_command(label='Quit',command=callback)\n",
    "menubar.add_cascade(label='File',menu=filemenu)\n",
    "\n",
    "editmenu = Menu(menubar, tearoff=False)\n",
    "editmenu.add_command(label='Cut',command=callback)\n",
    "editmenu.add_command(label='Copy',command=callback)\n",
    "editmenu.add_command(label='Paste',command=callback)\n",
    "menubar.add_cascade(label='Edit',menu=editmenu)\n",
    "\n",
    "root.config(menu=menubar)\n",
    "\n",
    "mainloop()"
   ]
  },
  {
   "cell_type": "code",
   "execution_count": 3,
   "metadata": {
    "collapsed": true
   },
   "outputs": [],
   "source": [
    "from tkinter import *\n",
    "\n",
    "root = Tk()\n",
    "\n",
    "def callback():\n",
    "    print('hello')\n",
    "    \n",
    "menubar = Menu(root)\n",
    "menubar.add_command(label='Cancel',command=callback)\n",
    "menubar.add_command(label='Rewrite',command=callback)\n",
    "\n",
    "frame = Frame(root, width=512, height=512)\n",
    "frame.pack()\n",
    "\n",
    "def popup(event):\n",
    "    menubar.post(event.x_root, event.y_root)\n",
    "    \n",
    "frame.bind('<Button-3>', popup)    #Button-1鼠标左键 ，2 中间键， 3 右键\n",
    "\n",
    "mainloop()"
   ]
  },
  {
   "cell_type": "code",
   "execution_count": 4,
   "metadata": {},
   "outputs": [],
   "source": [
    "from tkinter import *\n",
    "\n",
    "root = Tk()\n",
    "\n",
    "def callback():\n",
    "    print('hello')\n",
    "    \n",
    "menubar = Menu(root)\n",
    "\n",
    "openvar = IntVar()\n",
    "savevar = IntVar()\n",
    "quitvar = IntVar()\n",
    "\n",
    "filemenu = Menu(menubar, tearoff=True)\n",
    "filemenu.add_checkbutton(label='Open',command=callback, variable=openvar)\n",
    "filemenu.add_checkbutton(label='Save',command=callback, variable=savevar)\n",
    "filemenu.add_separator()\n",
    "filemenu.add_checkbutton(label='Quit',command=callback, variable=quitvar)\n",
    "menubar.add_cascade(label='File',menu=filemenu)\n",
    "\n",
    "editvar = IntVar()\n",
    "\n",
    "editmenu = Menu(menubar, tearoff=False)\n",
    "editmenu.add_radiobutton(label='Cut',command=callback, variable=editvar, value=1)\n",
    "editmenu.add_radiobutton(label='Copy',command=callback, variable=editvar, value=2)\n",
    "editmenu.add_radiobutton(label='Paste',command=callback, variable=editvar, value=3)\n",
    "menubar.add_cascade(label='Edit',menu=editmenu)\n",
    "\n",
    "root.config(menu=menubar)\n",
    "\n",
    "mainloop()"
   ]
  },
  {
   "cell_type": "code",
   "execution_count": 2,
   "metadata": {},
   "outputs": [],
   "source": [
    "from tkinter import *\n",
    "\n",
    "root = Tk()\n",
    "\n",
    "def callback():\n",
    "    print('hello')\n",
    "    \n",
    "mb = Menubutton(root,text='MB', relief=RAISED) #RAISED表示是浮起的\n",
    "mb.pack()\n",
    "\n",
    "filemenu = Menu(mb, tearoff=False)\n",
    "filemenu.add_command(label='Open',command=callback)\n",
    "filemenu.add_command(label='Save',command=callback)\n",
    "filemenu.add_separator()\n",
    "filemenu.add_command(label='Quit',command=callback)\n",
    "\n",
    "mb.config(menu=filemenu)\n",
    "\n",
    "mainloop()"
   ]
  },
  {
   "cell_type": "code",
   "execution_count": 5,
   "metadata": {},
   "outputs": [],
   "source": [
    "from tkinter import *\n",
    "\n",
    "root = Tk()\n",
    "\n",
    "variable = StringVar()\n",
    "variable.set('one') #default value\n",
    "\n",
    "w = OptionMenu(root, variable, 'one', 'two', 'three')\n",
    "w.pack()\n",
    "\n",
    "mainloop()"
   ]
  },
  {
   "cell_type": "code",
   "execution_count": 6,
   "metadata": {
    "collapsed": true
   },
   "outputs": [],
   "source": [
    "from tkinter import *\n",
    "\n",
    "options = ['Allen','Bill','Candice','Dicky','Emily']\n",
    "\n",
    "root = Tk()\n",
    "\n",
    "variable = StringVar()\n",
    "variable.set(options[0]) #default value\n",
    "\n",
    "w = OptionMenu(root, variable, *options)\n",
    "w.pack()\n",
    "\n",
    "mainloop()"
   ]
  },
  {
   "cell_type": "markdown",
   "metadata": {},
   "source": [
    "----------------------------------------------------------------------------"
   ]
  },
  {
   "cell_type": "code",
   "execution_count": 2,
   "metadata": {},
   "outputs": [
    {
     "name": "stdout",
     "output_type": "stream",
     "text": [
      "Lacation:  76 82\n",
      "Lacation:  139 70\n",
      "Lacation:  140 160\n",
      "Lacation:  31 29\n"
     ]
    }
   ],
   "source": [
    "from tkinter import *\n",
    "\n",
    "root = Tk()\n",
    "\n",
    "def callback(event):\n",
    "    print('Lacation: ', event.x, event.y)\n",
    "\n",
    "frame = Frame(root, width=200, height=200)\n",
    "frame.bind('<Button-1>',callback)\n",
    "frame.pack()\n",
    "\n",
    "mainloop()"
   ]
  },
  {
   "cell_type": "code",
   "execution_count": 4,
   "metadata": {},
   "outputs": [
    {
     "name": "stdout",
     "output_type": "stream",
     "text": [
      "d\n",
      "e\n",
      "\n",
      "X\n",
      "s\n"
     ]
    }
   ],
   "source": [
    "from tkinter import *\n",
    "\n",
    "root = Tk()\n",
    "\n",
    "def callback(event):\n",
    "    print(event.char)\n",
    "\n",
    "frame = Frame(root, width=200, height=200)\n",
    "frame.bind('<Key>',callback)\n",
    "frame.focus_set()\n",
    "frame.pack()\n",
    "\n",
    "mainloop()"
   ]
  },
  {
   "cell_type": "code",
   "execution_count": 5,
   "metadata": {},
   "outputs": [
    {
     "name": "stdout",
     "output_type": "stream",
     "text": [
      "Mouse location: 170 184\n",
      "Mouse location: 172 174\n",
      "Mouse location: 169 170\n",
      "Mouse location: 164 165\n",
      "Mouse location: 162 158\n",
      "Mouse location: 158 151\n",
      "Mouse location: 156 145\n",
      "Mouse location: 147 138\n",
      "Mouse location: 145 133\n",
      "Mouse location: 139 128\n",
      "Mouse location: 136 123\n",
      "Mouse location: 134 121\n",
      "Mouse location: 132 118\n",
      "Mouse location: 131 117\n",
      "Mouse location: 129 116\n",
      "Mouse location: 128 112\n",
      "Mouse location: 126 111\n",
      "Mouse location: 125 109\n",
      "Mouse location: 129 109\n",
      "Mouse location: 134 107\n",
      "Mouse location: 139 104\n",
      "Mouse location: 149 101\n",
      "Mouse location: 156 99\n",
      "Mouse location: 164 97\n",
      "Mouse location: 177 97\n",
      "Mouse location: 184 96\n",
      "Mouse location: 191 95\n",
      "Mouse location: 199 95\n"
     ]
    }
   ],
   "source": [
    "from tkinter import *\n",
    "\n",
    "root = Tk()\n",
    "\n",
    "def callback(event):\n",
    "    print('Mouse location:', event.x, event.y)\n",
    "\n",
    "frame = Frame(root, width=200, height=200)\n",
    "frame.bind('<Motion>',callback)\n",
    "frame.pack()\n",
    "\n",
    "mainloop()"
   ]
  },
  {
   "cell_type": "code",
   "execution_count": null,
   "metadata": {
    "collapsed": true
   },
   "outputs": [],
   "source": []
  }
 ],
 "metadata": {
  "kernelspec": {
   "display_name": "Python 3",
   "language": "python",
   "name": "python3"
  },
  "language_info": {
   "codemirror_mode": {
    "name": "ipython",
    "version": 3
   },
   "file_extension": ".py",
   "mimetype": "text/x-python",
   "name": "python",
   "nbconvert_exporter": "python",
   "pygments_lexer": "ipython3",
   "version": "3.6.3"
  }
 },
 "nbformat": 4,
 "nbformat_minor": 2
}
