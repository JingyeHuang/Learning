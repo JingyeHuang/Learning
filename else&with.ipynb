{
 "cells": [
  {
   "cell_type": "markdown",
   "metadata": {},
   "source": [
    "1. if ... else ...\n",
    "2. for ... else ... / while ... else ...\n",
    "整个循环结束后执行，循环中途跳出else不会被执行\n",
    "3. try... else ...\n",
    "try语句中没有异常，else就会被执行"
   ]
  },
  {
   "cell_type": "code",
   "execution_count": 8,
   "metadata": {},
   "outputs": [
    {
     "name": "stdout",
     "output_type": "stream",
     "text": [
      "please input a number: 7\n",
      "7是素数\n"
     ]
    }
   ],
   "source": [
    "def Maxdi(num):\n",
    "    count = num // 2\n",
    "    while count > 1:\n",
    "        if num % count == 0:\n",
    "            print('%d最大约数是%d'%(num,count))\n",
    "            break\n",
    "        count -= 1\n",
    "    else:\n",
    "        print('%d是素数' % num)\n",
    "        \n",
    "num = int(input('please input a number: '))\n",
    "Maxdi(num)"
   ]
  },
  {
   "cell_type": "code",
   "execution_count": 13,
   "metadata": {},
   "outputs": [
    {
     "name": "stdout",
     "output_type": "stream",
     "text": [
      "Error: invalid literal for int() with base 10: 'abc'\n"
     ]
    }
   ],
   "source": [
    "try:\n",
    "    print(int('abc'))\n",
    "except ValueError as reason:\n",
    "    print('Error: ' + str(reason))\n",
    "else:\n",
    "    print('No problem')"
   ]
  },
  {
   "cell_type": "code",
   "execution_count": 14,
   "metadata": {},
   "outputs": [
    {
     "name": "stdout",
     "output_type": "stream",
     "text": [
      "123\n",
      "No problem\n"
     ]
    }
   ],
   "source": [
    "try:\n",
    "    print(int('123'))\n",
    "except ValueError as reason:\n",
    "    print('Error: ' + str(reason))\n",
    "else:\n",
    "    print('No problem')"
   ]
  },
  {
   "cell_type": "code",
   "execution_count": 15,
   "metadata": {},
   "outputs": [
    {
     "name": "stdout",
     "output_type": "stream",
     "text": [
      "Error!not readable\n"
     ]
    }
   ],
   "source": [
    "try:\n",
    "    f = open('test.txt','w')\n",
    "    for eachline in f:\n",
    "        print(eachline)\n",
    "except OSError as reason:\n",
    "    print('Error!' + str(reason))\n",
    "finally:\n",
    "    f.close()"
   ]
  },
  {
   "cell_type": "markdown",
   "metadata": {},
   "source": [
    "test.txt不存在，所以会报错"
   ]
  },
  {
   "cell_type": "code",
   "execution_count": 18,
   "metadata": {},
   "outputs": [
    {
     "name": "stdout",
     "output_type": "stream",
     "text": [
      "Error!not readable\n"
     ]
    }
   ],
   "source": [
    "try:\n",
    "    with open('test.txt','w') as f:\n",
    "        for eachline in f:\n",
    "            print(eachline)\n",
    "except OSError as reason:\n",
    "    print('Error!' + str(reason))"
   ]
  },
  {
   "cell_type": "markdown",
   "metadata": {},
   "source": [
    "with可以自动调用f.close()"
   ]
  },
  {
   "cell_type": "code",
   "execution_count": null,
   "metadata": {
    "collapsed": true
   },
   "outputs": [],
   "source": []
  }
 ],
 "metadata": {
  "kernelspec": {
   "display_name": "Python 3",
   "language": "python",
   "name": "python3"
  },
  "language_info": {
   "codemirror_mode": {
    "name": "ipython",
    "version": 3
   },
   "file_extension": ".py",
   "mimetype": "text/x-python",
   "name": "python",
   "nbconvert_exporter": "python",
   "pygments_lexer": "ipython3",
   "version": "3.6.3"
  }
 },
 "nbformat": 4,
 "nbformat_minor": 2
}
