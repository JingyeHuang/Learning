{
 "cells": [
  {
   "cell_type": "code",
   "execution_count": 4,
   "metadata": {
    "collapsed": true
   },
   "outputs": [],
   "source": [
    "class C:\n",
    "    def __init__(self,*arg):\n",
    "        count = 0\n",
    "        for i in arg:\n",
    "            count += 1\n",
    "        if count == 0:\n",
    "            print('No parameter input')\n",
    "        else:\n",
    "            print('%d parameters input: ' %count , arg)"
   ]
  },
  {
   "cell_type": "code",
   "execution_count": 5,
   "metadata": {},
   "outputs": [
    {
     "name": "stdout",
     "output_type": "stream",
     "text": [
      "3 parameters input:  (1, 2, 3)\n"
     ]
    }
   ],
   "source": [
    "c = C(1,2,3)"
   ]
  },
  {
   "cell_type": "code",
   "execution_count": 6,
   "metadata": {},
   "outputs": [
    {
     "name": "stdout",
     "output_type": "stream",
     "text": [
      "No parameter input\n"
     ]
    }
   ],
   "source": [
    "c2 = C()"
   ]
  },
  {
   "cell_type": "code",
   "execution_count": 10,
   "metadata": {
    "collapsed": true
   },
   "outputs": [],
   "source": [
    "class Word(str):\n",
    "    def __init__(self,word):\n",
    "        self.length = 0\n",
    "        for i in word:\n",
    "            if i == ' ':\n",
    "                break\n",
    "            else:\n",
    "                self.length += 1\n",
    "    \n",
    "    def __lt__(self,other):\n",
    "        return self.length < other.length\n",
    "    def __le__(self,other):\n",
    "        return self.length <= other.length\n",
    "    def __eq__(self,other):\n",
    "        return self.length == other.length\n",
    "    def __ne__(self,other):\n",
    "        return self.length != other.length\n",
    "    def __gt__(self,other):\n",
    "        return self.length > other.length\n",
    "    def __ge__(self,other):\n",
    "        return self.length >= other.length"
   ]
  },
  {
   "cell_type": "code",
   "execution_count": 13,
   "metadata": {
    "collapsed": true
   },
   "outputs": [],
   "source": [
    "a = Word('Hello')\n",
    "b = Word('World')"
   ]
  },
  {
   "cell_type": "code",
   "execution_count": 14,
   "metadata": {},
   "outputs": [
    {
     "data": {
      "text/plain": [
       "True"
      ]
     },
     "execution_count": 14,
     "metadata": {},
     "output_type": "execute_result"
    }
   ],
   "source": [
    "a>=b"
   ]
  },
  {
   "cell_type": "markdown",
   "metadata": {},
   "source": [
    "# 静态方法是类的特殊方法，静态方法只需在普通方法前面加上@staticmethod 即可"
   ]
  },
  {
   "cell_type": "code",
   "execution_count": 18,
   "metadata": {
    "collapsed": true
   },
   "outputs": [],
   "source": [
    "class C:\n",
    "        @staticmethod  # 该修饰符表示 static() 是静态方法\n",
    "        def static(arg1, arg2, arg3):\n",
    "                print(arg1, arg2, arg3, arg1 + arg2 + arg3)\n",
    "\n",
    "        def nostatic(self):\n",
    "                print(\"I'm the f**king normal method!\")"
   ]
  },
  {
   "cell_type": "markdown",
   "metadata": {},
   "source": [
    "# 静态方法的最大优点就是，不会绑定到实例对象上。换而言之就是节省开销"
   ]
  },
  {
   "cell_type": "code",
   "execution_count": 19,
   "metadata": {},
   "outputs": [
    {
     "data": {
      "text/plain": [
       "True"
      ]
     },
     "execution_count": 19,
     "metadata": {},
     "output_type": "execute_result"
    }
   ],
   "source": [
    ">>> c1 = C()\n",
    ">>> c2 = C()\n",
    "# 静态方法只在内存中生成一个，节省开销\n",
    ">>> c1.static is C.static"
   ]
  },
  {
   "cell_type": "code",
   "execution_count": 20,
   "metadata": {},
   "outputs": [
    {
     "data": {
      "text/plain": [
       "False"
      ]
     },
     "execution_count": 20,
     "metadata": {},
     "output_type": "execute_result"
    }
   ],
   "source": [
    ">>> c1.nostatic is C.nostatic"
   ]
  },
  {
   "cell_type": "code",
   "execution_count": 21,
   "metadata": {},
   "outputs": [
    {
     "data": {
      "text/plain": [
       "<function __main__.C.static>"
      ]
     },
     "execution_count": 21,
     "metadata": {},
     "output_type": "execute_result"
    }
   ],
   "source": [
    ">>> c1.static"
   ]
  },
  {
   "cell_type": "code",
   "execution_count": 22,
   "metadata": {},
   "outputs": [
    {
     "data": {
      "text/plain": [
       "<function __main__.C.static>"
      ]
     },
     "execution_count": 22,
     "metadata": {},
     "output_type": "execute_result"
    }
   ],
   "source": [
    ">>> c2.static"
   ]
  },
  {
   "cell_type": "code",
   "execution_count": 24,
   "metadata": {},
   "outputs": [
    {
     "data": {
      "text/plain": [
       "<function __main__.C.static>"
      ]
     },
     "execution_count": 24,
     "metadata": {},
     "output_type": "execute_result"
    }
   ],
   "source": [
    "C.static"
   ]
  },
  {
   "cell_type": "code",
   "execution_count": 26,
   "metadata": {},
   "outputs": [
    {
     "data": {
      "text/plain": [
       "<bound method C.nostatic of <__main__.C object at 0x0000000006C1B278>>"
      ]
     },
     "execution_count": 26,
     "metadata": {},
     "output_type": "execute_result"
    }
   ],
   "source": [
    "# 普通方法每个实例对象都拥有独立的一个，开销较大\n",
    ">>> c1.nostatic"
   ]
  },
  {
   "cell_type": "code",
   "execution_count": 27,
   "metadata": {},
   "outputs": [
    {
     "data": {
      "text/plain": [
       "<bound method C.nostatic of <__main__.C object at 0x0000000006C1B240>>"
      ]
     },
     "execution_count": 27,
     "metadata": {},
     "output_type": "execute_result"
    }
   ],
   "source": [
    ">>> c2.nostatic"
   ]
  },
  {
   "cell_type": "code",
   "execution_count": 28,
   "metadata": {},
   "outputs": [
    {
     "data": {
      "text/plain": [
       "<function __main__.C.nostatic>"
      ]
     },
     "execution_count": 28,
     "metadata": {},
     "output_type": "execute_result"
    }
   ],
   "source": [
    ">>> C.nostatic"
   ]
  },
  {
   "cell_type": "code",
   "execution_count": 29,
   "metadata": {},
   "outputs": [
    {
     "name": "stdout",
     "output_type": "stream",
     "text": [
      "1 2 3 6\n"
     ]
    }
   ],
   "source": [
    "c1.static(1,2,3)"
   ]
  },
  {
   "cell_type": "code",
   "execution_count": 30,
   "metadata": {},
   "outputs": [
    {
     "name": "stdout",
     "output_type": "stream",
     "text": [
      "1 2 3 6\n"
     ]
    }
   ],
   "source": [
    "C.static(1,2,3)"
   ]
  },
  {
   "cell_type": "code",
   "execution_count": 32,
   "metadata": {},
   "outputs": [],
   "source": [
    "class Word(str):\n",
    "    '''存储单词的类，定义比较单词的几种方法'''\n",
    "\n",
    "    def __new__(cls, word):\n",
    "        # 注意我们必须要用到 __new__ 方法，因为 str 是不可变类型\n",
    "        # 所以我们必须在创建的时候将它初始化\n",
    "        if ' ' in word:\n",
    "            print (\"Value contains spaces. Truncating to first space.\")\n",
    "            word = word[:word.index(' ')] #单词是第一个空格之前的所有字符\n",
    "        return str.__new__(cls, word)\n",
    "\n",
    "    def __gt__(self, other):\n",
    "        return len(self) > len(other)\n",
    "    def __lt__(self, other):\n",
    "        return len(self) < len(other)\n",
    "    def __ge__(self, other):\n",
    "        return len(self) >= len(other)\n",
    "    def __le__(self, other):\n",
    "        return len(self) <= len(other)"
   ]
  },
  {
   "cell_type": "code",
   "execution_count": 33,
   "metadata": {},
   "outputs": [
    {
     "name": "stdout",
     "output_type": "stream",
     "text": [
      "Value contains spaces. Truncating to first space.\n",
      "Value contains spaces. Truncating to first space.\n"
     ]
    },
    {
     "data": {
      "text/plain": [
       "True"
      ]
     },
     "execution_count": 33,
     "metadata": {},
     "output_type": "execute_result"
    }
   ],
   "source": [
    "word1 = Word('too young')\n",
    "word2 = Word('too simple')\n",
    "word1 >= word2"
   ]
  },
  {
   "cell_type": "code",
   "execution_count": 37,
   "metadata": {},
   "outputs": [
    {
     "name": "stdout",
     "output_type": "stream",
     "text": [
      "time.struct_time(tm_year=2018, tm_mon=3, tm_mday=21, tm_hour=15, tm_min=51, tm_sec=0, tm_wday=2, tm_yday=80, tm_isdst=0)\n"
     ]
    }
   ],
   "source": [
    "import time\n",
    "a = time.localtime()\n",
    "print(a)"
   ]
  },
  {
   "cell_type": "code",
   "execution_count": 38,
   "metadata": {},
   "outputs": [
    {
     "data": {
      "text/plain": [
       "datetime.date(2018, 3, 21)"
      ]
     },
     "execution_count": 38,
     "metadata": {},
     "output_type": "execute_result"
    }
   ],
   "source": [
    ">>> import time\n",
    ">>> from datetime import date\n",
    ">>> today = date.today()\n",
    ">>> today"
   ]
  },
  {
   "cell_type": "code",
   "execution_count": 39,
   "metadata": {},
   "outputs": [
    {
     "data": {
      "text/plain": [
       "datetime.date(2018, 12, 12)"
      ]
     },
     "execution_count": 39,
     "metadata": {},
     "output_type": "execute_result"
    }
   ],
   "source": [
    ">>> my_birthday = date(today.year, 12, 12)\n",
    ">>> if my_birthday < today:\n",
    "        my_birthday = my_birthday.replace(year = today.year + 1)\n",
    "\n",
    ">>> my_birthday"
   ]
  },
  {
   "cell_type": "code",
   "execution_count": 40,
   "metadata": {},
   "outputs": [
    {
     "data": {
      "text/plain": [
       "266"
      ]
     },
     "execution_count": 40,
     "metadata": {},
     "output_type": "execute_result"
    }
   ],
   "source": [
    ">>> time_to_birthday = abs(my_birthday - today)\n",
    ">>> time_to_birthday.days"
   ]
  },
  {
   "cell_type": "code",
   "execution_count": null,
   "metadata": {
    "collapsed": true
   },
   "outputs": [],
   "source": []
  }
 ],
 "metadata": {
  "kernelspec": {
   "display_name": "Python 3",
   "language": "python",
   "name": "python3"
  },
  "language_info": {
   "codemirror_mode": {
    "name": "ipython",
    "version": 3
   },
   "file_extension": ".py",
   "mimetype": "text/x-python",
   "name": "python",
   "nbconvert_exporter": "python",
   "pygments_lexer": "ipython3",
   "version": "3.6.3"
  }
 },
 "nbformat": 4,
 "nbformat_minor": 2
}
