{
 "cells": [
  {
   "cell_type": "markdown",
   "metadata": {},
   "source": [
    "# f = open('E:/test.txt', 'w')   # A\n",
    "# f = open('E:\\test.txt', 'w')   # B\n",
    "# f = open('E://test.txt', 'w')  # C\n",
    "# f = open('E:\\\\test.txt', 'w')  # D\n",
    "# 只有B不能打开文件"
   ]
  },
  {
   "cell_type": "code",
   "execution_count": 1,
   "metadata": {
    "collapsed": true
   },
   "outputs": [],
   "source": [
    "f = open('Test13.txt', 'w')"
   ]
  },
  {
   "cell_type": "code",
   "execution_count": 2,
   "metadata": {},
   "outputs": [
    {
     "data": {
      "text/plain": [
       "42"
      ]
     },
     "execution_count": 2,
     "metadata": {},
     "output_type": "execute_result"
    }
   ],
   "source": [
    "f.write('This is the 1st line.\\n 2nd line.\\n 3rd line')"
   ]
  },
  {
   "cell_type": "code",
   "execution_count": 3,
   "metadata": {
    "collapsed": true
   },
   "outputs": [],
   "source": [
    "f.close()"
   ]
  },
  {
   "cell_type": "code",
   "execution_count": 4,
   "metadata": {
    "collapsed": true
   },
   "outputs": [],
   "source": [
    "f = open('Test13.txt', 'r')"
   ]
  },
  {
   "cell_type": "code",
   "execution_count": 5,
   "metadata": {},
   "outputs": [
    {
     "name": "stdout",
     "output_type": "stream",
     "text": [
      "This is the 1st line.\n",
      "\n",
      " 2nd line.\n",
      "\n",
      " 3rd line\n"
     ]
    }
   ],
   "source": [
    "for eachline in f:\n",
    "    print(eachline)"
   ]
  },
  {
   "cell_type": "code",
   "execution_count": 6,
   "metadata": {
    "collapsed": true
   },
   "outputs": [],
   "source": [
    "for eachline in f:\n",
    "    print(eachline)"
   ]
  },
  {
   "cell_type": "code",
   "execution_count": 7,
   "metadata": {
    "collapsed": true
   },
   "outputs": [],
   "source": [
    "f.close()"
   ]
  },
  {
   "cell_type": "code",
   "execution_count": 8,
   "metadata": {},
   "outputs": [
    {
     "data": {
      "text/plain": [
       "'This is th'"
      ]
     },
     "execution_count": 8,
     "metadata": {},
     "output_type": "execute_result"
    }
   ],
   "source": [
    "f = open('Test13.txt', 'r')\n",
    "f.read(10)"
   ]
  },
  {
   "cell_type": "code",
   "execution_count": 9,
   "metadata": {
    "collapsed": true
   },
   "outputs": [],
   "source": [
    "f.close()"
   ]
  },
  {
   "cell_type": "code",
   "execution_count": 16,
   "metadata": {},
   "outputs": [
    {
     "data": {
      "text/plain": [
       "['This is the 1st line.\\n', ' 2nd line.\\n', ' 3rd line']"
      ]
     },
     "execution_count": 16,
     "metadata": {},
     "output_type": "execute_result"
    }
   ],
   "source": [
    "f = open('Test13.txt', 'r')\n",
    "list1 = list(f)\n",
    "list1"
   ]
  },
  {
   "cell_type": "code",
   "execution_count": 17,
   "metadata": {
    "collapsed": true
   },
   "outputs": [],
   "source": [
    "f.close()"
   ]
  },
  {
   "cell_type": "code",
   "execution_count": 12,
   "metadata": {},
   "outputs": [
    {
     "data": {
      "text/plain": [
       "10"
      ]
     },
     "execution_count": 12,
     "metadata": {},
     "output_type": "execute_result"
    }
   ],
   "source": [
    "f = open('Test13.txt', 'r')\n",
    "f.read(10)\n",
    "f.tell()"
   ]
  },
  {
   "cell_type": "code",
   "execution_count": 13,
   "metadata": {
    "collapsed": true
   },
   "outputs": [],
   "source": [
    "f.close()"
   ]
  },
  {
   "cell_type": "code",
   "execution_count": 14,
   "metadata": {},
   "outputs": [
    {
     "name": "stdout",
     "output_type": "stream",
     "text": [
      "长期使用Windows操作系统的朋友很容易被扩展名所误导，认为扩展名决定文件类型，其实这种观念是错误的！\n",
      "\n",
      "\n",
      "\n",
      "其实这就跟一个姓张的坏人，尽管把名字改为了“张好人”，但他还是一个坏人是一个道理的^_^\n",
      "\n",
      "\n",
      "\n",
      "关于文件的扩展名，初学者容易走进的误区：\n",
      "\n",
      "\n",
      "\n",
      "误区一：文件扩展名是一个文件的必要构成部分\n",
      "\n",
      "\n",
      "\n",
      "一个文件可以有或没有扩展名，对于打开文件操作，没有扩展名的文件需要选择程序去打开它，有扩展名的文件会自动用设置好的程序（如有）去尝试打开（是“尝试打开”，而不是“打开”的原因参看下面的第2个误区），文件扩展名是一个常规文件的构成部分，但一个文件并不一定需要一个扩展名。\n",
      "\n",
      "\n",
      "\n",
      "误区二：文件扩展名表明了该文件是何种类型\n",
      "\n",
      "\n",
      "\n",
      "文件扩展名可以人为设定，扩展名为TXT的文件有可能是一张图片，同样，扩展名为M-P3的文件，依然可能是一个视频。\n"
     ]
    }
   ],
   "source": [
    "p = open('OpenMe.mp3','r')\n",
    "for each in p:\n",
    "    print(each)"
   ]
  },
  {
   "cell_type": "code",
   "execution_count": 15,
   "metadata": {
    "collapsed": true
   },
   "outputs": [],
   "source": [
    "p.close()"
   ]
  },
  {
   "cell_type": "code",
   "execution_count": 18,
   "metadata": {
    "collapsed": true
   },
   "outputs": [],
   "source": [
    "f1 = open('OpenMe.mp3')\n",
    "f2 = open('OpenMe.txt', 'x')        # 使用”x”打开更安全\n",
    "f2.write(f1.read())\n",
    "f2.close()\n",
    "f1.close()"
   ]
  },
  {
   "cell_type": "code",
   "execution_count": 20,
   "metadata": {},
   "outputs": [
    {
     "name": "stdout",
     "output_type": "stream",
     "text": [
      "Please input the filename: Poem\n",
      "Please input content: Type ':w' to exit \n",
      "A friend is a need, A friend is indeed,\n",
      "Whether there is a thunderstorm or strong wind blowing,\n",
      "Friendship is like a tree glowing,\n",
      "A friend is ray of hope in darkness,\n",
      "as no less than treasure of happiness.\n",
      ":w\n"
     ]
    }
   ],
   "source": [
    "filename = input('Please input the filename: ')\n",
    "f = open(filename,'w')\n",
    "print('Please input content: Type \\':w\\' to exit ')\n",
    "while 1:\n",
    "    eachline = input()\n",
    "    if eachline != ':w':\n",
    "        f.write(eachline+'\\n')\n",
    "    else:\n",
    "        break"
   ]
  },
  {
   "cell_type": "code",
   "execution_count": 21,
   "metadata": {
    "collapsed": true
   },
   "outputs": [],
   "source": [
    "f.close()"
   ]
  },
  {
   "cell_type": "code",
   "execution_count": 24,
   "metadata": {},
   "outputs": [
    {
     "name": "stdout",
     "output_type": "stream",
     "text": [
      "Please input the 1st filename: Poem2.txt\n",
      "Please input the 2nd filename: Poem.txt\n",
      "Line 2 is different!\n",
      "Line 6 is different!\n"
     ]
    }
   ],
   "source": [
    "file1 = input('Please input the 1st filename: ')\n",
    "file2 = input('Please input the 2nd filename: ')\n",
    "f1 = open(file1,'r')\n",
    "f2 = open(file2,'r')\n",
    "line = 0\n",
    "count = 0\n",
    "for each in f1:\n",
    "    line += 1\n",
    "    if each != f2.readline():\n",
    "        print('Line %d is different!' %line)\n",
    "        count += 1\n",
    "    else:\n",
    "        continue\n",
    "f1.close()\n",
    "f2.close()"
   ]
  },
  {
   "cell_type": "code",
   "execution_count": 25,
   "metadata": {},
   "outputs": [
    {
     "name": "stdout",
     "output_type": "stream",
     "text": [
      "请输入需要比较的头一个文件名：Poem.txt\n",
      "请输入需要比较的另一个文件名：poem2.txt\n",
      "两个文件共有【1】处不同：\n",
      "第 2 行不一样\n"
     ]
    }
   ],
   "source": [
    "def file_compare(file1, file2):\n",
    "    f1 = open(file1)\n",
    "    f2 = open(file2)\n",
    "    count = 0 # 统计行数\n",
    "    differ = [] # 统计不一样的数量\n",
    "\n",
    "    for line1 in f1:\n",
    "        line2 = f2.readline()\n",
    "        count += 1\n",
    "        if line1 != line2:\n",
    "            differ.append(count)\n",
    "\n",
    "    f1.close()\n",
    "    f2.close()\n",
    "    return differ\n",
    "\n",
    "file1 = input('请输入需要比较的头一个文件名：')\n",
    "file2 = input('请输入需要比较的另一个文件名：')\n",
    "\n",
    "differ = file_compare(file1, file2)\n",
    "\n",
    "if len(differ) == 0:\n",
    "    print('两个文件完全一样！')\n",
    "else:\n",
    "    print('两个文件共有【%d】处不同：' % len(differ))\n",
    "    for each in differ:\n",
    "        print('第 %d 行不一样' % each)"
   ]
  },
  {
   "cell_type": "code",
   "execution_count": 27,
   "metadata": {},
   "outputs": [
    {
     "name": "stdout",
     "output_type": "stream",
     "text": [
      "A friend is a need, A friend is indeed,\n",
      "\n",
      "Whether there is a thunderstorm or strong wind blowing,\n",
      "\n",
      "Friendship is like a tree glowing,\n",
      "\n"
     ]
    }
   ],
   "source": [
    "def printfile(name,line):\n",
    "    f = open(name,'r')\n",
    "    for i in range(line):\n",
    "        print(f.readline())\n",
    "    f.close()\n",
    "    \n",
    "printfile('Poem.txt',3)"
   ]
  },
  {
   "cell_type": "code",
   "execution_count": 29,
   "metadata": {},
   "outputs": [
    {
     "name": "stdout",
     "output_type": "stream",
     "text": [
      "请输入文件名：Poem.txt\n",
      "请输入需要替换的单词或字符：is\n",
      "请输入新的单词或字符：was\n",
      "\n",
      "文件 Poem.txt 中共有5个【is】\n",
      "您确定要把所有的【is】替换为【was】吗？\n",
      "【YES/NO】：No\n"
     ]
    }
   ],
   "source": [
    "\n",
    "def file_replace(file_name, rep_word, new_word):\n",
    "    f_read = open(file_name)\n",
    "\n",
    "    content = []\n",
    "    count = 0\n",
    "\n",
    "    for eachline in f_read:\n",
    "        if rep_word in eachline:\n",
    "            count += eachline.count(rep_word) #count感觉应该用这个\n",
    "            eachline = eachline.replace(rep_word, new_word)\n",
    "        content.append(eachline)    \n",
    "\n",
    "    decide = input('\\n文件 %s 中共有%s个【%s】\\n您确定要把所有的【%s】替换为【%s】吗？\\n【YES/NO】：' \\\n",
    "                   % (file_name, count, rep_word, rep_word, new_word))\n",
    "\n",
    "    if decide in ['YES', 'Yes', 'yes']:\n",
    "        f_write = open(file_name, 'w')\n",
    "        f_write.writelines(content)\n",
    "        f_write.close()\n",
    "\n",
    "    f_read.close()\n",
    "\n",
    "\n",
    "file_name = input('请输入文件名：')\n",
    "rep_word = input('请输入需要替换的单词或字符：')\n",
    "new_word = input('请输入新的单词或字符：')\n",
    "file_replace(file_name, rep_word, new_word)"
   ]
  },
  {
   "cell_type": "code",
   "execution_count": null,
   "metadata": {
    "collapsed": true
   },
   "outputs": [],
   "source": []
  }
 ],
 "metadata": {
  "kernelspec": {
   "display_name": "Python 3",
   "language": "python",
   "name": "python3"
  },
  "language_info": {
   "codemirror_mode": {
    "name": "ipython",
    "version": 3
   },
   "file_extension": ".py",
   "mimetype": "text/x-python",
   "name": "python",
   "nbconvert_exporter": "python",
   "pygments_lexer": "ipython3",
   "version": "3.6.3"
  }
 },
 "nbformat": 4,
 "nbformat_minor": 2
}
