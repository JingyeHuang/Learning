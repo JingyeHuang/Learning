{
 "cells": [
  {
   "cell_type": "code",
   "execution_count": 2,
   "metadata": {},
   "outputs": [],
   "source": [
    "import time as t\n",
    "\n",
    "class Timer():\n",
    "    \n",
    "    def __init__(self): #define all the variables needed\n",
    "        self.unit = [' year ',' month ',' day ',' hour ',' minute ',' second ']\n",
    "        self.prompt = 'The timer has not been started yet~'\n",
    "        self.lasted = []\n",
    "        self.begin = 0\n",
    "        self.end = 0\n",
    "    \n",
    "    def __str__(self):\n",
    "        return self.prompt\n",
    "    \n",
    "    __repr__ = __str__\n",
    "    #rewrite repr & str can complete the function: when type \"t1\", it will display the running time\n",
    "    \n",
    "    def __add__(self,other):\n",
    "        prompt = 'The total running time is: '\n",
    "        result = []\n",
    "        for index in range(6):\n",
    "            result.append(self.lasted[index] + other.lasted[index])\n",
    "            if result[index]:\n",
    "                prompt += (str(result[index]) + self.unit[index])\n",
    "        return prompt\n",
    "    \n",
    "    # start timer\n",
    "    def start(self):\n",
    "        self.begin = t.localtime()\n",
    "        self.prompt = 'Please use stop() to end the timer!!'\n",
    "        print('timer begin!!')\n",
    "        \n",
    "    # stop timer\n",
    "    def stop(self):\n",
    "        if not self.begin:\n",
    "            print('Please use start() to begin the timer first!!')\n",
    "        else:\n",
    "            self.end = t.localtime()\n",
    "            print('timer ended!!')\n",
    "            self.calcu()\n",
    "        \n",
    "    # calculate the timing\n",
    "    def calcu(self):\n",
    "        self.lasted = []\n",
    "        self.prompt = 'The timer run for '\n",
    "        for index in range(6):\n",
    "            self.lasted.append(self.end[index] - self.begin[index])\n",
    "            if self.lasted[index]:\n",
    "                self.prompt += str(self.lasted[index]) + str(self.unit[index])\n",
    "        \n",
    "        #Initialize the variable for the next timer\n",
    "        self.begin = 0\n",
    "        self.end = 0"
   ]
  },
  {
   "cell_type": "code",
   "execution_count": 3,
   "metadata": {
    "collapsed": true
   },
   "outputs": [],
   "source": [
    "t1 = Timer()"
   ]
  },
  {
   "cell_type": "code",
   "execution_count": 4,
   "metadata": {},
   "outputs": [
    {
     "data": {
      "text/plain": [
       "The timer has not been started yet~"
      ]
     },
     "execution_count": 4,
     "metadata": {},
     "output_type": "execute_result"
    }
   ],
   "source": [
    "t1"
   ]
  },
  {
   "cell_type": "code",
   "execution_count": 5,
   "metadata": {},
   "outputs": [
    {
     "name": "stdout",
     "output_type": "stream",
     "text": [
      "Please use start() to begin the timer first!!\n"
     ]
    }
   ],
   "source": [
    "t1.stop()"
   ]
  },
  {
   "cell_type": "code",
   "execution_count": 6,
   "metadata": {},
   "outputs": [
    {
     "name": "stdout",
     "output_type": "stream",
     "text": [
      "timer begin!!\n"
     ]
    }
   ],
   "source": [
    "t1.start()"
   ]
  },
  {
   "cell_type": "code",
   "execution_count": 7,
   "metadata": {},
   "outputs": [
    {
     "data": {
      "text/plain": [
       "Please use stop() to end the timer!!"
      ]
     },
     "execution_count": 7,
     "metadata": {},
     "output_type": "execute_result"
    }
   ],
   "source": [
    "t1"
   ]
  },
  {
   "cell_type": "code",
   "execution_count": 8,
   "metadata": {},
   "outputs": [
    {
     "name": "stdout",
     "output_type": "stream",
     "text": [
      "timer ended!!\n"
     ]
    }
   ],
   "source": [
    "t1.stop()"
   ]
  },
  {
   "cell_type": "code",
   "execution_count": 9,
   "metadata": {},
   "outputs": [
    {
     "data": {
      "text/plain": [
       "The timer run for 7 second "
      ]
     },
     "execution_count": 9,
     "metadata": {},
     "output_type": "execute_result"
    }
   ],
   "source": [
    "t1"
   ]
  },
  {
   "cell_type": "code",
   "execution_count": 10,
   "metadata": {
    "collapsed": true
   },
   "outputs": [],
   "source": [
    "t2 = Timer()"
   ]
  },
  {
   "cell_type": "code",
   "execution_count": 11,
   "metadata": {},
   "outputs": [
    {
     "name": "stdout",
     "output_type": "stream",
     "text": [
      "timer begin!!\n"
     ]
    }
   ],
   "source": [
    "t2.start()"
   ]
  },
  {
   "cell_type": "code",
   "execution_count": 12,
   "metadata": {},
   "outputs": [
    {
     "name": "stdout",
     "output_type": "stream",
     "text": [
      "timer ended!!\n"
     ]
    }
   ],
   "source": [
    "t2.stop()"
   ]
  },
  {
   "cell_type": "code",
   "execution_count": 13,
   "metadata": {},
   "outputs": [
    {
     "data": {
      "text/plain": [
       "The timer run for 5 second "
      ]
     },
     "execution_count": 13,
     "metadata": {},
     "output_type": "execute_result"
    }
   ],
   "source": [
    "t2"
   ]
  },
  {
   "cell_type": "code",
   "execution_count": 14,
   "metadata": {},
   "outputs": [
    {
     "data": {
      "text/plain": [
       "'The total running time is: 12 second '"
      ]
     },
     "execution_count": 14,
     "metadata": {},
     "output_type": "execute_result"
    }
   ],
   "source": [
    "t1 + t2"
   ]
  },
  {
   "cell_type": "code",
   "execution_count": null,
   "metadata": {
    "collapsed": true
   },
   "outputs": [],
   "source": []
  }
 ],
 "metadata": {
  "kernelspec": {
   "display_name": "Python 3",
   "language": "python",
   "name": "python3"
  },
  "language_info": {
   "codemirror_mode": {
    "name": "ipython",
    "version": 3
   },
   "file_extension": ".py",
   "mimetype": "text/x-python",
   "name": "python",
   "nbconvert_exporter": "python",
   "pygments_lexer": "ipython3",
   "version": "3.6.3"
  }
 },
 "nbformat": 4,
 "nbformat_minor": 2
}
