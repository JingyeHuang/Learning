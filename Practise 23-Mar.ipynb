{
 "cells": [
  {
   "cell_type": "code",
   "execution_count": 1,
   "metadata": {
    "collapsed": true
   },
   "outputs": [],
   "source": [
    ">>> class MyDes:\n",
    "        def __get__(self, instance, owner):\n",
    "                print(\"getting...\")\n",
    "\n",
    ">>> class Test:\n",
    "        a = MyDes()\n",
    "        x = a\n",
    "\n",
    ">>> test = Test()"
   ]
  },
  {
   "cell_type": "code",
   "execution_count": 2,
   "metadata": {},
   "outputs": [
    {
     "name": "stdout",
     "output_type": "stream",
     "text": [
      "getting...\n"
     ]
    }
   ],
   "source": [
    "test.x"
   ]
  },
  {
   "cell_type": "code",
   "execution_count": 3,
   "metadata": {},
   "outputs": [
    {
     "name": "stdout",
     "output_type": "stream",
     "text": [
      "getting...\n"
     ]
    }
   ],
   "source": [
    "test.a"
   ]
  },
  {
   "cell_type": "code",
   "execution_count": 4,
   "metadata": {},
   "outputs": [
    {
     "name": "stdout",
     "output_type": "stream",
     "text": [
      "20\n",
      "0\n"
     ]
    }
   ],
   "source": [
    "class MyDes:\n",
    "    def __init__(self, value = None):\n",
    "        self.val = value\n",
    "\n",
    "    def __get__(self, instance, owner):\n",
    "        return self.val - 20\n",
    "\n",
    "    def __set__(self, instance, value):\n",
    "        self.val = value + 10\n",
    "        print(self.val)\n",
    "\n",
    "class C:\n",
    "    x = MyDes()\n",
    "\n",
    "if __name__ == '__main__':  # 该模块被执行的话，执行下边语句。\n",
    "    c = C()\n",
    "    c.x = 10\n",
    "    print(c.x)"
   ]
  },
  {
   "cell_type": "code",
   "execution_count": 7,
   "metadata": {},
   "outputs": [
    {
     "data": {
      "text/plain": [
       "<__main__.MyDes at 0x5999a58>"
      ]
     },
     "execution_count": 7,
     "metadata": {},
     "output_type": "execute_result"
    }
   ],
   "source": [
    ">>> class MyDes:\n",
    "        def __init__(self, value = None):\n",
    "                self.val = value\n",
    "        def __get__(self, instance, owner):\n",
    "                return self.val ** 2\n",
    "\n",
    ">>> class Test:\n",
    "        def __init__(self):\n",
    "                self.x = MyDes(3)\n",
    "\n",
    ">>> test = Test()\n",
    "test.x"
   ]
  },
  {
   "cell_type": "code",
   "execution_count": 23,
   "metadata": {},
   "outputs": [
    {
     "name": "stdout",
     "output_type": "stream",
     "text": [
      "Getting variable:  x\n"
     ]
    }
   ],
   "source": [
    "class HuangDes:\n",
    "    def __init__(self, value, instance):\n",
    "        self.val = value\n",
    "        self.var = instance\n",
    "    \n",
    "    def __get__(self,instance,owner):\n",
    "        print('Getting variable: ', self.var)\n",
    "        return self.val\n",
    "    \n",
    "    def __set__(self,instance,value):\n",
    "        print('Setting variable: ', self.var)\n",
    "        self.val = value\n",
    "        return self.val\n",
    "        \n",
    "    def __delete__(self,instance):\n",
    "        print('Deleting variable: ', self.var)\n",
    "        print('Sorry, this variable cannot be deleted.')\n",
    "        \n",
    "class Test:\n",
    "    x = HuangDes(10, 'x')\n",
    "\n",
    "test = Test()\n",
    "y = test.x"
   ]
  },
  {
   "cell_type": "code",
   "execution_count": 24,
   "metadata": {},
   "outputs": [
    {
     "data": {
      "text/plain": [
       "10"
      ]
     },
     "execution_count": 24,
     "metadata": {},
     "output_type": "execute_result"
    }
   ],
   "source": [
    "y"
   ]
  },
  {
   "cell_type": "code",
   "execution_count": 25,
   "metadata": {},
   "outputs": [
    {
     "name": "stdout",
     "output_type": "stream",
     "text": [
      "Setting variable:  x\n"
     ]
    }
   ],
   "source": [
    "test.x = 8"
   ]
  },
  {
   "cell_type": "code",
   "execution_count": 26,
   "metadata": {},
   "outputs": [
    {
     "data": {
      "text/plain": [
       "10"
      ]
     },
     "execution_count": 26,
     "metadata": {},
     "output_type": "execute_result"
    }
   ],
   "source": [
    "y"
   ]
  },
  {
   "cell_type": "code",
   "execution_count": 27,
   "metadata": {},
   "outputs": [
    {
     "name": "stdout",
     "output_type": "stream",
     "text": [
      "Deleting variable:  x\n",
      "Sorry, this variable cannot be deleted.\n"
     ]
    }
   ],
   "source": [
    "del test.x"
   ]
  },
  {
   "cell_type": "code",
   "execution_count": 28,
   "metadata": {},
   "outputs": [
    {
     "name": "stdout",
     "output_type": "stream",
     "text": [
      "Getting variable:  x\n"
     ]
    },
    {
     "data": {
      "text/plain": [
       "8"
      ]
     },
     "execution_count": 28,
     "metadata": {},
     "output_type": "execute_result"
    }
   ],
   "source": [
    "test.x"
   ]
  },
  {
   "cell_type": "code",
   "execution_count": 30,
   "metadata": {},
   "outputs": [
    {
     "data": {
      "text/plain": [
       "time.struct_time(tm_year=2018, tm_mon=3, tm_mday=23, tm_hour=14, tm_min=44, tm_sec=43, tm_wday=4, tm_yday=82, tm_isdst=0)"
      ]
     },
     "execution_count": 30,
     "metadata": {},
     "output_type": "execute_result"
    }
   ],
   "source": [
    "import time\n",
    "s = time.localtime()\n",
    "s"
   ]
  },
  {
   "cell_type": "code",
   "execution_count": 32,
   "metadata": {},
   "outputs": [
    {
     "data": {
      "text/plain": [
       "3"
      ]
     },
     "execution_count": 32,
     "metadata": {},
     "output_type": "execute_result"
    }
   ],
   "source": [
    "s[1]"
   ]
  },
  {
   "cell_type": "code",
   "execution_count": 7,
   "metadata": {
    "collapsed": true
   },
   "outputs": [],
   "source": [
    "import time\n",
    "\n",
    "class Record:\n",
    "    def __init__(self,value,instance):\n",
    "        self.val = value\n",
    "        self.var = instance\n",
    "        \n",
    "    def __get__(self,instance,owner):\n",
    "        f = open('Record.txt','a+')\n",
    "        t = time.localtime()\n",
    "        f.write('variable %s was read on %d-%d-%d %d:%d:%d : %s = %d \\n' %(self.var,t[0],t[1],t[2],t[3],t[4],t[5],self.var,self.val))\n",
    "        f.close()\n",
    "        return self.val\n",
    "        \n",
    "    def __set__(self,instance,value):\n",
    "        self.val = value\n",
    "        f = open('Record.txt','a+')\n",
    "        t = time.localtime()\n",
    "        f.write('variable %s was modified on %d-%d-%d %d:%d:%d : %s = %d \\n' %(self.var,t[0],t[1],t[2],t[3],t[4],t[5],self.var,self.val))\n",
    "        f.close()\n",
    "        \n",
    "class Test:\n",
    "    x = Record(10, 'x')\n",
    "    y = Record(8.8, 'y')\n",
    "\n",
    "test = Test()"
   ]
  },
  {
   "cell_type": "code",
   "execution_count": 8,
   "metadata": {},
   "outputs": [
    {
     "data": {
      "text/plain": [
       "10"
      ]
     },
     "execution_count": 8,
     "metadata": {},
     "output_type": "execute_result"
    }
   ],
   "source": [
    "test.x"
   ]
  },
  {
   "cell_type": "code",
   "execution_count": 9,
   "metadata": {},
   "outputs": [
    {
     "data": {
      "text/plain": [
       "8.8"
      ]
     },
     "execution_count": 9,
     "metadata": {},
     "output_type": "execute_result"
    }
   ],
   "source": [
    "test.y"
   ]
  },
  {
   "cell_type": "code",
   "execution_count": 10,
   "metadata": {
    "collapsed": true
   },
   "outputs": [],
   "source": [
    "test.x = 123"
   ]
  },
  {
   "cell_type": "code",
   "execution_count": 11,
   "metadata": {
    "collapsed": true
   },
   "outputs": [],
   "source": [
    "test.y = 100"
   ]
  },
  {
   "cell_type": "code",
   "execution_count": 12,
   "metadata": {
    "collapsed": true
   },
   "outputs": [],
   "source": [
    "import time\n",
    "\n",
    "class Record:\n",
    "    def __init__(self, initval=None, name=None):\n",
    "        self.val = initval\n",
    "        self.name = name\n",
    "        self.filename = \"record.txt\"\n",
    "\n",
    "    def __get__(self, instance, owner):\n",
    "        with open(self.filename, 'a', encoding='utf-8') as f:\n",
    "            f.write(\"%s 变量于北京时间 %s 被读取，%s = %s\\n\" % \\\n",
    "                    (self.name, time.ctime(), self.name, str(self.val)))\n",
    "        return self.val\n",
    "\n",
    "    def __set__(self, instance, value):\n",
    "        filename = \"%s_record.txt\" % self.name\n",
    "        with open(self.filename, 'a', encoding='utf-8') as f:\n",
    "            f.write(\"%s 变量于北京时间 %s 被修改, %s = %s\\n\" % \\\n",
    "                    (self.name, time.ctime(), self.name, str(value)))\n",
    "        self.val = value"
   ]
  },
  {
   "cell_type": "code",
   "execution_count": 1,
   "metadata": {},
   "outputs": [],
   "source": [
    "class Countlist:\n",
    "    def __init__(self, *args):\n",
    "        self.values = [x for x in args]\n",
    "        self.count = {}.fromkeys(range(len(self.values)),0)\n",
    "        \n",
    "    def __len__(self):\n",
    "        return len(self.values)\n",
    "    \n",
    "    def __getitem__(self,key):\n",
    "        self.count[key] += 1\n",
    "        return self.values[key]\n",
    "    \n",
    "    def __setitem__(self, key, value):\n",
    "        if key in self.count:\n",
    "            self.count[key] = value\n",
    "        else:\n",
    "            print('The number you input do not exist')\n",
    "        \n",
    "    def __delitem__(self, key):\n",
    "        if key in range(len(self.values)):\n",
    "            \n",
    "            for index in range(key,len(self.values)-1):\n",
    "                self.values[index] = self.values[index+1]\n",
    "                self.count[index] = self.count[index+1]\n",
    "            del self.count[len(self.values)-1]\n",
    "            del self.values[len(self.values)-1]\n",
    "            \n",
    "    def counter(self,index):\n",
    "        if index in c1.count:\n",
    "            print('%d was visited : %d times' %(c1[index-1],c1.count[index-1]))\n",
    "        else:\n",
    "            print('Index do not exist in Countlist')\n",
    "            \n",
    "    def append(self,value):\n",
    "        if value not in self.values:\n",
    "            self.values.append(value)\n",
    "            self.count[len(self.values)-1] = 0\n",
    "        else:\n",
    "            print('This number is already exist in the list.')\n",
    "            \n",
    "    def pop(self,index):\n",
    "        if index in self.count:\n",
    "            print(self.values[index])\n",
    "            self.__delitem__(index)\n",
    "        else:\n",
    "            print('The index is invalid.')"
   ]
  },
  {
   "cell_type": "code",
   "execution_count": 2,
   "metadata": {},
   "outputs": [],
   "source": [
    "c1 = Countlist(10,20,30,40,50,60)"
   ]
  },
  {
   "cell_type": "code",
   "execution_count": 3,
   "metadata": {},
   "outputs": [
    {
     "data": {
      "text/plain": [
       "{0: 0, 1: 0, 2: 0, 3: 0, 4: 0, 5: 0}"
      ]
     },
     "execution_count": 3,
     "metadata": {},
     "output_type": "execute_result"
    }
   ],
   "source": [
    "c1.count"
   ]
  },
  {
   "cell_type": "code",
   "execution_count": 4,
   "metadata": {},
   "outputs": [
    {
     "data": {
      "text/plain": [
       "50"
      ]
     },
     "execution_count": 4,
     "metadata": {},
     "output_type": "execute_result"
    }
   ],
   "source": [
    "c1[4]"
   ]
  },
  {
   "cell_type": "code",
   "execution_count": 5,
   "metadata": {},
   "outputs": [
    {
     "data": {
      "text/plain": [
       "{0: 0, 1: 0, 2: 0, 3: 0, 4: 1, 5: 0}"
      ]
     },
     "execution_count": 5,
     "metadata": {},
     "output_type": "execute_result"
    }
   ],
   "source": [
    "c1.count"
   ]
  },
  {
   "cell_type": "code",
   "execution_count": 6,
   "metadata": {},
   "outputs": [],
   "source": [
    "c1[1] = 5"
   ]
  },
  {
   "cell_type": "code",
   "execution_count": 7,
   "metadata": {},
   "outputs": [
    {
     "data": {
      "text/plain": [
       "{0: 0, 1: 5, 2: 0, 3: 0, 4: 1, 5: 0}"
      ]
     },
     "execution_count": 7,
     "metadata": {},
     "output_type": "execute_result"
    }
   ],
   "source": [
    "c1.count"
   ]
  },
  {
   "cell_type": "code",
   "execution_count": 8,
   "metadata": {},
   "outputs": [
    {
     "data": {
      "text/plain": [
       "[10, 20, 30, 40, 50, 60]"
      ]
     },
     "execution_count": 8,
     "metadata": {},
     "output_type": "execute_result"
    }
   ],
   "source": [
    "c1.values"
   ]
  },
  {
   "cell_type": "code",
   "execution_count": 9,
   "metadata": {},
   "outputs": [
    {
     "name": "stdout",
     "output_type": "stream",
     "text": [
      "30 was visited : 1 times\n"
     ]
    }
   ],
   "source": [
    "c1.counter(3)"
   ]
  },
  {
   "cell_type": "code",
   "execution_count": 10,
   "metadata": {},
   "outputs": [
    {
     "data": {
      "text/plain": [
       "{0: 0, 1: 5, 2: 1, 3: 0, 4: 1, 5: 0}"
      ]
     },
     "execution_count": 10,
     "metadata": {},
     "output_type": "execute_result"
    }
   ],
   "source": [
    "c1.count"
   ]
  },
  {
   "cell_type": "code",
   "execution_count": 11,
   "metadata": {},
   "outputs": [],
   "source": [
    "c1.append(88)"
   ]
  },
  {
   "cell_type": "code",
   "execution_count": 12,
   "metadata": {},
   "outputs": [
    {
     "data": {
      "text/plain": [
       "[10, 20, 30, 40, 50, 60, 88]"
      ]
     },
     "execution_count": 12,
     "metadata": {},
     "output_type": "execute_result"
    }
   ],
   "source": [
    "c1.values"
   ]
  },
  {
   "cell_type": "code",
   "execution_count": 13,
   "metadata": {},
   "outputs": [
    {
     "data": {
      "text/plain": [
       "{0: 0, 1: 5, 2: 1, 3: 0, 4: 1, 5: 0, 6: 0}"
      ]
     },
     "execution_count": 13,
     "metadata": {},
     "output_type": "execute_result"
    }
   ],
   "source": [
    "c1.count"
   ]
  },
  {
   "cell_type": "code",
   "execution_count": 14,
   "metadata": {},
   "outputs": [
    {
     "name": "stdout",
     "output_type": "stream",
     "text": [
      "40\n"
     ]
    }
   ],
   "source": [
    "c1.pop(3)"
   ]
  },
  {
   "cell_type": "code",
   "execution_count": 15,
   "metadata": {},
   "outputs": [
    {
     "data": {
      "text/plain": [
       "{0: 0, 1: 5, 2: 1, 3: 1, 4: 0, 5: 0}"
      ]
     },
     "execution_count": 15,
     "metadata": {},
     "output_type": "execute_result"
    }
   ],
   "source": [
    "c1.count"
   ]
  },
  {
   "cell_type": "code",
   "execution_count": 16,
   "metadata": {},
   "outputs": [
    {
     "data": {
      "text/plain": [
       "[10, 20, 30, 50, 60, 88]"
      ]
     },
     "execution_count": 16,
     "metadata": {},
     "output_type": "execute_result"
    }
   ],
   "source": [
    "c1.values"
   ]
  },
  {
   "cell_type": "code",
   "execution_count": 17,
   "metadata": {
    "collapsed": true
   },
   "outputs": [],
   "source": [
    "class CountList(list):\n",
    "    def __init__(self, *args):\n",
    "        super().__init__(args)\n",
    "        self.count = []\n",
    "        for i in args:\n",
    "            self.count.append(0)\n",
    "\n",
    "    def __len__(self):\n",
    "        return len(self.count)\n",
    "\n",
    "    def __getitem__(self, key):\n",
    "        self.count[key] += 1\n",
    "        return super().__getitem__(key)\n",
    "\n",
    "    def __setitem__(self, key, value):\n",
    "        self.count[key] += 1\n",
    "        super().__setitem__(key, value)\n",
    "\n",
    "    def __delitem__(self, key):\n",
    "        del self.count[key]\n",
    "        super().__delitem__(key)\n",
    "\n",
    "    def counter(self, key):\n",
    "        return self.count[key]\n",
    "\n",
    "    def append(self, value):\n",
    "        self.count.append(0)\n",
    "        super().append(value)\n",
    "\n",
    "    def pop(self, key=-1):\n",
    "        del self.count[key]\n",
    "        return super().pop(key)\n",
    "\n",
    "    def remove(self, value):\n",
    "        key = super().index(value)\n",
    "        del self.count[key]\n",
    "        super().remove(value)\n",
    "\n",
    "    def insert(self, key, value):\n",
    "        self.count.insert(key, 0)\n",
    "        super().insert(key, value)\n",
    "\n",
    "    def clear(self):\n",
    "        self.count.clear()\n",
    "        super().clear()\n",
    "\n",
    "    def reverse(self):\n",
    "        self.count.reverse()\n",
    "        super().reverse()"
   ]
  },
  {
   "cell_type": "code",
   "execution_count": 18,
   "metadata": {
    "collapsed": true
   },
   "outputs": [],
   "source": [
    "x1 = Countlist(11,22,33,44,55,66)"
   ]
  },
  {
   "cell_type": "code",
   "execution_count": 19,
   "metadata": {},
   "outputs": [
    {
     "data": {
      "text/plain": [
       "{0: 0, 1: 0, 2: 0, 3: 0, 4: 0, 5: 0}"
      ]
     },
     "execution_count": 19,
     "metadata": {},
     "output_type": "execute_result"
    }
   ],
   "source": [
    "x1.count"
   ]
  },
  {
   "cell_type": "code",
   "execution_count": 20,
   "metadata": {},
   "outputs": [
    {
     "data": {
      "text/plain": [
       "44"
      ]
     },
     "execution_count": 20,
     "metadata": {},
     "output_type": "execute_result"
    }
   ],
   "source": [
    "x1[3]"
   ]
  },
  {
   "cell_type": "code",
   "execution_count": 21,
   "metadata": {
    "collapsed": true
   },
   "outputs": [],
   "source": [
    "x1[4] = 5"
   ]
  },
  {
   "cell_type": "code",
   "execution_count": 22,
   "metadata": {},
   "outputs": [
    {
     "data": {
      "text/plain": [
       "{0: 0, 1: 0, 2: 0, 3: 1, 4: 5, 5: 0}"
      ]
     },
     "execution_count": 22,
     "metadata": {},
     "output_type": "execute_result"
    }
   ],
   "source": [
    "x1.count"
   ]
  },
  {
   "cell_type": "code",
   "execution_count": 24,
   "metadata": {},
   "outputs": [],
   "source": [
    "x1.append(88)"
   ]
  },
  {
   "cell_type": "code",
   "execution_count": 25,
   "metadata": {},
   "outputs": [
    {
     "data": {
      "text/plain": [
       "{0: 0, 1: 0, 2: 0, 3: 1, 4: 5, 5: 0, 6: 0}"
      ]
     },
     "execution_count": 25,
     "metadata": {},
     "output_type": "execute_result"
    }
   ],
   "source": [
    "x1.count"
   ]
  },
  {
   "cell_type": "code",
   "execution_count": 26,
   "metadata": {},
   "outputs": [
    {
     "data": {
      "text/plain": [
       "88"
      ]
     },
     "execution_count": 26,
     "metadata": {},
     "output_type": "execute_result"
    }
   ],
   "source": [
    "x1[6]"
   ]
  },
  {
   "cell_type": "code",
   "execution_count": null,
   "metadata": {
    "collapsed": true
   },
   "outputs": [],
   "source": []
  }
 ],
 "metadata": {
  "kernelspec": {
   "display_name": "Python 3",
   "language": "python",
   "name": "python3"
  },
  "language_info": {
   "codemirror_mode": {
    "name": "ipython",
    "version": 3
   },
   "file_extension": ".py",
   "mimetype": "text/x-python",
   "name": "python",
   "nbconvert_exporter": "python",
   "pygments_lexer": "ipython3",
   "version": "3.6.3"
  }
 },
 "nbformat": 4,
 "nbformat_minor": 2
}
