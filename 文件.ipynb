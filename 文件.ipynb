{
 "cells": [
  {
   "cell_type": "code",
   "execution_count": 3,
   "metadata": {},
   "outputs": [],
   "source": [
    "i = open('script.txt')"
   ]
  },
  {
   "cell_type": "code",
   "execution_count": 4,
   "metadata": {},
   "outputs": [
    {
     "data": {
      "text/plain": [
       "'Loreal Project\\nIncontrol:\\ncslroutermonitoring@gmail.com\\nCSL123456\\n\\nAWS:\\n307669280@qq.com\\nhajy_930307\\n\\nAdmin:admin\\nPassword:lorealPOC\\n\\nSSID:loreal\\nPassword:loreal88\\n\\nTable setting\\nGDCN\\nIp: 10.41.50.24\\nMask: 255.255.255.0\\nGW: 10.41.50.254\\nDNS1: 10.2.202.1\\nDNS2: 10.3.220.160\\n\\n\\nwebsite:\\nhttp://join.micepad.co/admin/#/login\\n\\nUsername: csladmin\\npassword: csladmin16\\n'"
      ]
     },
     "execution_count": 4,
     "metadata": {},
     "output_type": "execute_result"
    }
   ],
   "source": [
    "i.read()"
   ]
  },
  {
   "cell_type": "code",
   "execution_count": 5,
   "metadata": {},
   "outputs": [
    {
     "data": {
      "text/plain": [
       "''"
      ]
     },
     "execution_count": 5,
     "metadata": {},
     "output_type": "execute_result"
    }
   ],
   "source": [
    "i.read()"
   ]
  },
  {
   "cell_type": "code",
   "execution_count": 6,
   "metadata": {},
   "outputs": [
    {
     "data": {
      "text/plain": [
       "'Loreal Pr'"
      ]
     },
     "execution_count": 6,
     "metadata": {},
     "output_type": "execute_result"
    }
   ],
   "source": [
    "i = open('script.txt')\n",
    "i.read(9)"
   ]
  },
  {
   "cell_type": "code",
   "execution_count": 8,
   "metadata": {},
   "outputs": [
    {
     "data": {
      "text/plain": [
       "9"
      ]
     },
     "execution_count": 8,
     "metadata": {},
     "output_type": "execute_result"
    }
   ],
   "source": [
    "i.tell()"
   ]
  },
  {
   "cell_type": "code",
   "execution_count": 9,
   "metadata": {},
   "outputs": [
    {
     "data": {
      "text/plain": [
       "0"
      ]
     },
     "execution_count": 9,
     "metadata": {},
     "output_type": "execute_result"
    }
   ],
   "source": [
    "i.seek(0,0)"
   ]
  },
  {
   "cell_type": "code",
   "execution_count": 10,
   "metadata": {},
   "outputs": [
    {
     "name": "stdout",
     "output_type": "stream",
     "text": [
      "Loreal Project\n",
      "\n",
      "Incontrol:\n",
      "\n",
      "cslroutermonitoring@gmail.com\n",
      "\n",
      "CSL123456\n",
      "\n",
      "\n",
      "\n",
      "AWS:\n",
      "\n",
      "307669280@qq.com\n",
      "\n",
      "hajy_930307\n",
      "\n",
      "\n",
      "\n",
      "Admin:admin\n",
      "\n",
      "Password:lorealPOC\n",
      "\n",
      "\n",
      "\n",
      "SSID:loreal\n",
      "\n",
      "Password:loreal88\n",
      "\n",
      "\n",
      "\n",
      "Table setting\n",
      "\n",
      "GDCN\n",
      "\n",
      "Ip: 10.41.50.24\n",
      "\n",
      "Mask: 255.255.255.0\n",
      "\n",
      "GW: 10.41.50.254\n",
      "\n",
      "DNS1: 10.2.202.1\n",
      "\n",
      "DNS2: 10.3.220.160\n",
      "\n",
      "\n",
      "\n",
      "\n",
      "\n",
      "website:\n",
      "\n",
      "http://join.micepad.co/admin/#/login\n",
      "\n",
      "\n",
      "\n",
      "Username: csladmin\n",
      "\n",
      "password: csladmin16\n",
      "\n"
     ]
    }
   ],
   "source": [
    "for each in i:\n",
    "    print(each)"
   ]
  },
  {
   "cell_type": "code",
   "execution_count": 11,
   "metadata": {
    "collapsed": true
   },
   "outputs": [],
   "source": [
    "f = open('Huang.txt','w')"
   ]
  },
  {
   "cell_type": "code",
   "execution_count": 12,
   "metadata": {},
   "outputs": [
    {
     "data": {
      "text/plain": [
       "10"
      ]
     },
     "execution_count": 12,
     "metadata": {},
     "output_type": "execute_result"
    }
   ],
   "source": [
    "f.write('WWWWWWWWWW')"
   ]
  },
  {
   "cell_type": "code",
   "execution_count": 13,
   "metadata": {
    "collapsed": true
   },
   "outputs": [],
   "source": [
    "f.close()"
   ]
  },
  {
   "cell_type": "code",
   "execution_count": 16,
   "metadata": {},
   "outputs": [],
   "source": [
    "h = open('dialog.txt')\n",
    "A = []\n",
    "B = []\n",
    "count = 1\n",
    "\n",
    "for eachline in h:\n",
    "    if eachline[:6] != '======':\n",
    "        (role,line_spoken) = eachline.split(':',1)#分割字符串\n",
    "        if role == 'Allen':\n",
    "            A.append(line_spoken)\n",
    "        elif role == 'Billy':\n",
    "            B.append(line_spoken)\n",
    "    else:\n",
    "        #文件的分别保存操作\n",
    "        file_name_A = 'Allen_' + str(count) + '.txt'\n",
    "        file_name_B = 'Billy_' + str(count) + '.txt'\n",
    "        \n",
    "        fileA = open(file_name_A,'w')\n",
    "        fileB = open(file_name_B,'w')\n",
    "        fileA.writelines(A)\n",
    "        fileB.writelines(B)\n",
    "        fileA.close()\n",
    "        fileB.close()\n",
    "        A=[]\n",
    "        B=[]\n",
    "        count += 1\n",
    "h.close()"
   ]
  },
  {
   "cell_type": "code",
   "execution_count": null,
   "metadata": {
    "collapsed": true
   },
   "outputs": [],
   "source": []
  }
 ],
 "metadata": {
  "kernelspec": {
   "display_name": "Python 3",
   "language": "python",
   "name": "python3"
  },
  "language_info": {
   "codemirror_mode": {
    "name": "ipython",
    "version": 3
   },
   "file_extension": ".py",
   "mimetype": "text/x-python",
   "name": "python",
   "nbconvert_exporter": "python",
   "pygments_lexer": "ipython3",
   "version": "3.6.3"
  }
 },
 "nbformat": 4,
 "nbformat_minor": 2
}
