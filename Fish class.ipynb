{
 "cells": [
  {
   "cell_type": "code",
   "execution_count": 10,
   "metadata": {
    "collapsed": true
   },
   "outputs": [],
   "source": [
    "import random as r\n",
    "\n",
    "class Fish:\n",
    "    def __init__(self):\n",
    "        self.x = r.randint(0,10)\n",
    "        self.y = r.randint(0,10)\n",
    "        \n",
    "    def move(self):\n",
    "        self.x -= 1\n",
    "        print('My current location is ', self.x, self.y)\n",
    "\n",
    "class Goldfish(Fish):\n",
    "    pass\n",
    "\n",
    "class Carp(Fish):\n",
    "    pass\n",
    "\n",
    "class Salmon(Fish):\n",
    "    pass\n",
    "\n",
    "class Shark(Fish):\n",
    "    def __init__(self):\n",
    "        Fish.__init__(self)\n",
    "        self.hungry = True\n",
    "        \n",
    "    def eat(self):\n",
    "        if self.hungry:\n",
    "            print('The Shark will eat a fish!')\n",
    "            self.hungry = False\n",
    "        else:\n",
    "            print('The Shark is full~')"
   ]
  },
  {
   "cell_type": "code",
   "execution_count": 2,
   "metadata": {
    "collapsed": true
   },
   "outputs": [],
   "source": [
    "fish = Fish()"
   ]
  },
  {
   "cell_type": "code",
   "execution_count": 3,
   "metadata": {},
   "outputs": [
    {
     "name": "stdout",
     "output_type": "stream",
     "text": [
      "My current location is  7 9\n"
     ]
    }
   ],
   "source": [
    "fish.move()"
   ]
  },
  {
   "cell_type": "code",
   "execution_count": 4,
   "metadata": {},
   "outputs": [
    {
     "name": "stdout",
     "output_type": "stream",
     "text": [
      "My current location is  6 9\n"
     ]
    }
   ],
   "source": [
    "fish.move()"
   ]
  },
  {
   "cell_type": "code",
   "execution_count": 5,
   "metadata": {},
   "outputs": [
    {
     "name": "stdout",
     "output_type": "stream",
     "text": [
      "My current location is  6 3\n"
     ]
    }
   ],
   "source": [
    "gold1 = Goldfish()\n",
    "gold1.move()"
   ]
  },
  {
   "cell_type": "code",
   "execution_count": 6,
   "metadata": {},
   "outputs": [
    {
     "name": "stdout",
     "output_type": "stream",
     "text": [
      "My current location is  5 3\n"
     ]
    }
   ],
   "source": [
    "gold1.move()"
   ]
  },
  {
   "cell_type": "code",
   "execution_count": 11,
   "metadata": {},
   "outputs": [
    {
     "name": "stdout",
     "output_type": "stream",
     "text": [
      "The Shark will eat a fish!\n"
     ]
    }
   ],
   "source": [
    "shark1 = Shark()\n",
    "shark1.eat()"
   ]
  },
  {
   "cell_type": "code",
   "execution_count": 12,
   "metadata": {},
   "outputs": [
    {
     "name": "stdout",
     "output_type": "stream",
     "text": [
      "The Shark is full~\n"
     ]
    }
   ],
   "source": [
    "shark1.eat()"
   ]
  },
  {
   "cell_type": "code",
   "execution_count": 13,
   "metadata": {},
   "outputs": [
    {
     "name": "stdout",
     "output_type": "stream",
     "text": [
      "My current location is  6 6\n"
     ]
    }
   ],
   "source": [
    "shark1.move()"
   ]
  },
  {
   "cell_type": "code",
   "execution_count": 14,
   "metadata": {},
   "outputs": [
    {
     "name": "stdout",
     "output_type": "stream",
     "text": [
      "My current location is  5 6\n"
     ]
    }
   ],
   "source": [
    "shark1.move()"
   ]
  },
  {
   "cell_type": "code",
   "execution_count": 15,
   "metadata": {
    "collapsed": true
   },
   "outputs": [],
   "source": [
    "import random as r\n",
    "\n",
    "class Fish:\n",
    "    def __init__(self):\n",
    "        self.x = r.randint(0,10)\n",
    "        self.y = r.randint(0,10)\n",
    "        \n",
    "    def move(self):\n",
    "        self.x -= 1\n",
    "        print('My current location is ', self.x, self.y)\n",
    "\n",
    "class Goldfish(Fish):\n",
    "    pass\n",
    "\n",
    "class Carp(Fish):\n",
    "    pass\n",
    "\n",
    "class Salmon(Fish):\n",
    "    pass\n",
    "\n",
    "class Shark(Fish):\n",
    "    def __init__(self):\n",
    "        super().__init__()  #super可以自动帮你找所有父类\n",
    "        self.hungry = True\n",
    "        \n",
    "    def eat(self):\n",
    "        if self.hungry:\n",
    "            print('The Shark will eat a fish!')\n",
    "            self.hungry = False\n",
    "        else:\n",
    "            print('The Shark is full~')"
   ]
  },
  {
   "cell_type": "code",
   "execution_count": 17,
   "metadata": {},
   "outputs": [],
   "source": [
    "shark2 = Shark()"
   ]
  },
  {
   "cell_type": "code",
   "execution_count": 18,
   "metadata": {},
   "outputs": [
    {
     "name": "stdout",
     "output_type": "stream",
     "text": [
      "My current location is  1 7\n"
     ]
    }
   ],
   "source": [
    "shark2.move()"
   ]
  },
  {
   "cell_type": "code",
   "execution_count": null,
   "metadata": {
    "collapsed": true
   },
   "outputs": [],
   "source": []
  }
 ],
 "metadata": {
  "kernelspec": {
   "display_name": "Python 3",
   "language": "python",
   "name": "python3"
  },
  "language_info": {
   "codemirror_mode": {
    "name": "ipython",
    "version": 3
   },
   "file_extension": ".py",
   "mimetype": "text/x-python",
   "name": "python",
   "nbconvert_exporter": "python",
   "pygments_lexer": "ipython3",
   "version": "3.6.3"
  }
 },
 "nbformat": 4,
 "nbformat_minor": 2
}
