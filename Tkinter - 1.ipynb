{
 "cells": [
  {
   "cell_type": "code",
   "execution_count": 2,
   "metadata": {
    "collapsed": true
   },
   "outputs": [],
   "source": [
    "import tkinter as tk\n",
    "\n",
    "app = tk.Tk()\n",
    "app.title('Jeremy Demo')\n",
    "\n",
    "thelabel = tk.Label(app, text = 'My windows app')\n",
    "thelabel.pack()   #自动调整位置\n",
    "\n",
    "app.mainloop()   #显示窗口"
   ]
  },
  {
   "cell_type": "code",
   "execution_count": 10,
   "metadata": {},
   "outputs": [
    {
     "name": "stdout",
     "output_type": "stream",
     "text": [
      "Hello everyone\n",
      "Hello everyone\n",
      "Hello everyone\n"
     ]
    }
   ],
   "source": [
    "import tkinter as tk\n",
    "\n",
    "class APP:\n",
    "    def __init__(self, master):\n",
    "        frame = tk.Frame(master)\n",
    "        frame.pack(side = tk.LEFT, padx = 10, pady = 10)\n",
    "        \n",
    "        self.hi_there = tk.Button(frame, text = 'Say hi', fg = 'blue', bg = 'red', command = self.say_hi)\n",
    "        self.hi_there.pack()\n",
    "        \n",
    "    def say_hi(self):\n",
    "        print('Hello everyone')\n",
    "\n",
    "root = tk.Tk()\n",
    "root.title('demo')\n",
    "app = APP(root)\n",
    "\n",
    "root.mainloop()"
   ]
  },
  {
   "cell_type": "code",
   "execution_count": null,
   "metadata": {
    "collapsed": true
   },
   "outputs": [],
   "source": []
  }
 ],
 "metadata": {
  "kernelspec": {
   "display_name": "Python 3",
   "language": "python",
   "name": "python3"
  },
  "language_info": {
   "codemirror_mode": {
    "name": "ipython",
    "version": 3
   },
   "file_extension": ".py",
   "mimetype": "text/x-python",
   "name": "python",
   "nbconvert_exporter": "python",
   "pygments_lexer": "ipython3",
   "version": "3.6.3"
  }
 },
 "nbformat": 4,
 "nbformat_minor": 2
}
